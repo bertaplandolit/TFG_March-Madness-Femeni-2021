{
 "cells": [
  {
   "cell_type": "markdown",
   "metadata": {
    "id": "vpNnnQ_19ZBq"
   },
   "source": [
    "# NCAA Starter\n",
    "- Seeds \n",
    "- Season Compact Results\n",
    "- Tourney Compact Results"
   ]
  },
  {
   "cell_type": "code",
   "execution_count": 64,
   "metadata": {
    "id": "uXqMFJqY9YEJ"
   },
   "outputs": [],
   "source": [
    "import os\n",
    "import re\n",
    "import sklearn\n",
    "import numpy as np \n",
    "import pandas as pd\n",
    "import seaborn as sns\n",
    "import matplotlib.pyplot as plt\n",
    "\n",
    "pd.set_option('display.max_columns', None)"
   ]
  },
  {
   "cell_type": "markdown",
   "metadata": {
    "id": "wjIZKPLi90Ik"
   },
   "source": [
    "## Data preparation\n",
    "### Seeds"
   ]
  },
  {
   "cell_type": "code",
   "execution_count": 65,
   "metadata": {
    "colab": {
     "base_uri": "https://localhost:8080/",
     "height": 206
    },
    "id": "G1_rczeH9qrS",
    "outputId": "f6bc2769-a79d-48ec-9a27-fe47d4da65fa"
   },
   "outputs": [
    {
     "data": {
      "text/html": [
       "<div>\n",
       "<style scoped>\n",
       "    .dataframe tbody tr th:only-of-type {\n",
       "        vertical-align: middle;\n",
       "    }\n",
       "\n",
       "    .dataframe tbody tr th {\n",
       "        vertical-align: top;\n",
       "    }\n",
       "\n",
       "    .dataframe thead th {\n",
       "        text-align: right;\n",
       "    }\n",
       "</style>\n",
       "<table border=\"1\" class=\"dataframe\">\n",
       "  <thead>\n",
       "    <tr style=\"text-align: right;\">\n",
       "      <th></th>\n",
       "      <th>Season</th>\n",
       "      <th>Seed</th>\n",
       "      <th>TeamID</th>\n",
       "    </tr>\n",
       "  </thead>\n",
       "  <tbody>\n",
       "    <tr>\n",
       "      <th>0</th>\n",
       "      <td>1998</td>\n",
       "      <td>W01</td>\n",
       "      <td>3330</td>\n",
       "    </tr>\n",
       "    <tr>\n",
       "      <th>1</th>\n",
       "      <td>1998</td>\n",
       "      <td>W02</td>\n",
       "      <td>3163</td>\n",
       "    </tr>\n",
       "    <tr>\n",
       "      <th>2</th>\n",
       "      <td>1998</td>\n",
       "      <td>W03</td>\n",
       "      <td>3112</td>\n",
       "    </tr>\n",
       "    <tr>\n",
       "      <th>3</th>\n",
       "      <td>1998</td>\n",
       "      <td>W04</td>\n",
       "      <td>3301</td>\n",
       "    </tr>\n",
       "    <tr>\n",
       "      <th>4</th>\n",
       "      <td>1998</td>\n",
       "      <td>W05</td>\n",
       "      <td>3272</td>\n",
       "    </tr>\n",
       "  </tbody>\n",
       "</table>\n",
       "</div>"
      ],
      "text/plain": [
       "   Season Seed  TeamID\n",
       "0    1998  W01    3330\n",
       "1    1998  W02    3163\n",
       "2    1998  W03    3112\n",
       "3    1998  W04    3301\n",
       "4    1998  W05    3272"
      ]
     },
     "execution_count": 65,
     "metadata": {},
     "output_type": "execute_result"
    }
   ],
   "source": [
    "seeds = pd.read_csv('Dades/WNCAATourneySeeds.csv') #CANVIAR RUTA\n",
    "seeds.head()"
   ]
  },
  {
   "cell_type": "markdown",
   "metadata": {
    "id": "Sfu8DDwO-MJO"
   },
   "source": [
    "### Season results\n",
    "Pujo l'arxiu WRegularSeasonCompactResults.csv \n",
    "\n",
    "Trec les columnes 'NumOT' i 'WLoc', número de pròrrogues i si el partit es jugava a casa o a fora. \n",
    "\n",
    "Afegeixo la columa 'ScoreGap', la diferència de punts a final del partit. "
   ]
  },
  {
   "cell_type": "code",
   "execution_count": 66,
   "metadata": {
    "id": "LsEzVI_3-GIF"
   },
   "outputs": [],
   "source": [
    "season_results = pd.read_csv('Dades/WRegularSeasonCompactResults.csv')\n",
    "season_results.drop(['NumOT','WLoc'], axis=1, inplace=True) #treure les columnes de número de pròrrogues i si es jugava  a casa/fora\n",
    "season_results['ScoreGap']=season_results['WScore']-season_results['LScore'] #afegir columna de diferencia de punts\n"
   ]
  },
  {
   "cell_type": "code",
   "execution_count": 67,
   "metadata": {
    "colab": {
     "base_uri": "https://localhost:8080/",
     "height": 206
    },
    "id": "AYwTXvyi-SOY",
    "outputId": "dc581f58-32d4-4e7f-b672-da4cce88d4fe"
   },
   "outputs": [
    {
     "data": {
      "text/html": [
       "<div>\n",
       "<style scoped>\n",
       "    .dataframe tbody tr th:only-of-type {\n",
       "        vertical-align: middle;\n",
       "    }\n",
       "\n",
       "    .dataframe tbody tr th {\n",
       "        vertical-align: top;\n",
       "    }\n",
       "\n",
       "    .dataframe thead th {\n",
       "        text-align: right;\n",
       "    }\n",
       "</style>\n",
       "<table border=\"1\" class=\"dataframe\">\n",
       "  <thead>\n",
       "    <tr style=\"text-align: right;\">\n",
       "      <th></th>\n",
       "      <th>Season</th>\n",
       "      <th>DayNum</th>\n",
       "      <th>WTeamID</th>\n",
       "      <th>WScore</th>\n",
       "      <th>LTeamID</th>\n",
       "      <th>LScore</th>\n",
       "      <th>ScoreGap</th>\n",
       "    </tr>\n",
       "  </thead>\n",
       "  <tbody>\n",
       "    <tr>\n",
       "      <th>0</th>\n",
       "      <td>1998</td>\n",
       "      <td>18</td>\n",
       "      <td>3104</td>\n",
       "      <td>91</td>\n",
       "      <td>3202</td>\n",
       "      <td>41</td>\n",
       "      <td>50</td>\n",
       "    </tr>\n",
       "    <tr>\n",
       "      <th>1</th>\n",
       "      <td>1998</td>\n",
       "      <td>18</td>\n",
       "      <td>3163</td>\n",
       "      <td>87</td>\n",
       "      <td>3221</td>\n",
       "      <td>76</td>\n",
       "      <td>11</td>\n",
       "    </tr>\n",
       "    <tr>\n",
       "      <th>2</th>\n",
       "      <td>1998</td>\n",
       "      <td>18</td>\n",
       "      <td>3222</td>\n",
       "      <td>66</td>\n",
       "      <td>3261</td>\n",
       "      <td>59</td>\n",
       "      <td>7</td>\n",
       "    </tr>\n",
       "    <tr>\n",
       "      <th>3</th>\n",
       "      <td>1998</td>\n",
       "      <td>18</td>\n",
       "      <td>3307</td>\n",
       "      <td>69</td>\n",
       "      <td>3365</td>\n",
       "      <td>62</td>\n",
       "      <td>7</td>\n",
       "    </tr>\n",
       "    <tr>\n",
       "      <th>4</th>\n",
       "      <td>1998</td>\n",
       "      <td>18</td>\n",
       "      <td>3349</td>\n",
       "      <td>115</td>\n",
       "      <td>3411</td>\n",
       "      <td>35</td>\n",
       "      <td>80</td>\n",
       "    </tr>\n",
       "  </tbody>\n",
       "</table>\n",
       "</div>"
      ],
      "text/plain": [
       "   Season  DayNum  WTeamID  WScore  LTeamID  LScore  ScoreGap\n",
       "0    1998      18     3104      91     3202      41        50\n",
       "1    1998      18     3163      87     3221      76        11\n",
       "2    1998      18     3222      66     3261      59         7\n",
       "3    1998      18     3307      69     3365      62         7\n",
       "4    1998      18     3349     115     3411      35        80"
      ]
     },
     "execution_count": 67,
     "metadata": {},
     "output_type": "execute_result"
    }
   ],
   "source": [
    "season_results.head()"
   ]
  },
  {
   "cell_type": "markdown",
   "metadata": {
    "id": "6FL8iYL6_Nud"
   },
   "source": [
    "### Features\n",
    "\n",
    "per cada equip a cada temporada, es calculen: \n",
    "\n",
    "- Numero de victòries\n",
    "- Numero de derrotes\n",
    "- Mitjana de diferència de punts en les victòries (gap of wins)\n",
    "- Mitjana de diferència de punts en les derrotes (gap of losses)\n",
    "\n",
    "i s'utilitzen per calcular el nous atributs:\n",
    "- Win Ratio\n",
    "- Average score gap"
   ]
  },
  {
   "cell_type": "code",
   "execution_count": 68,
   "metadata": {
    "id": "IOeDfim_-TtD"
   },
   "outputs": [],
   "source": [
    "num_win = season_results.groupby(['Season', 'WTeamID']).count()\n",
    "num_win = num_win.reset_index()[['Season', 'WTeamID', 'DayNum']].rename(columns={\"DayNum\": \"NumWins\", \"WTeamID\": \"TeamID\"})"
   ]
  },
  {
   "cell_type": "code",
   "execution_count": 69,
   "metadata": {
    "id": "51XaCAz6AvvD"
   },
   "outputs": [],
   "source": [
    "num_loss = season_results.groupby(['Season', 'LTeamID']).count()\n",
    "num_loss = num_loss.reset_index()[['Season', 'LTeamID', 'DayNum']].rename(columns={\"DayNum\": \"NumLosses\", \"LTeamID\": \"TeamID\"})"
   ]
  },
  {
   "cell_type": "code",
   "execution_count": 70,
   "metadata": {
    "id": "Qhg2HwAxA2Ky"
   },
   "outputs": [],
   "source": [
    "gap_win = season_results.groupby(['Season', 'WTeamID']).mean().reset_index()\n",
    "gap_win = gap_win[['Season', 'WTeamID', 'ScoreGap']].rename(columns={\"ScoreGap\": \"GapWins\", \"WTeamID\": \"TeamID\"})"
   ]
  },
  {
   "cell_type": "code",
   "execution_count": 71,
   "metadata": {
    "id": "5PdrACUhBFS4"
   },
   "outputs": [],
   "source": [
    "gap_loss = season_results.groupby(['Season', 'LTeamID']).mean().reset_index()\n",
    "gap_loss = gap_loss[['Season', 'LTeamID', 'ScoreGap']].rename(columns={\"ScoreGap\": \"GapLosses\", \"LTeamID\": \"TeamID\"})"
   ]
  },
  {
   "cell_type": "markdown",
   "metadata": {
    "id": "bhRKuGrwCNH4"
   },
   "source": [
    "Es crea una llista (features_season) amb les temporades i els equips que han jugat algun partit en elles\n"
   ]
  },
  {
   "cell_type": "code",
   "execution_count": 72,
   "metadata": {
    "id": "XMOgkn_sB4BU"
   },
   "outputs": [],
   "source": [
    "features_season_w = season_results.groupby(['Season', 'WTeamID']).count().reset_index()[['Season', 'WTeamID']].rename(columns={\"WTeamID\": \"TeamID\"})\n",
    " # temporada, equip q ha guanyat algun partit\n",
    "features_season_l = season_results.groupby(['Season', 'LTeamID']).count().reset_index()[['Season', 'LTeamID']].rename(columns={\"LTeamID\": \"TeamID\"})\n",
    " # temporada, equip q ha perdut algun partit "
   ]
  },
  {
   "cell_type": "code",
   "execution_count": 73,
   "metadata": {
    "id": "Jtpu8cXRF2NK"
   },
   "outputs": [
    {
     "name": "stderr",
     "output_type": "stream",
     "text": [
      "/var/folders/k8/r4h7_jnd61ldq5l8mlwk8dhc0000gn/T/ipykernel_2980/2180906825.py:1: FutureWarning: In a future version of pandas all arguments of concat except for the argument 'objs' will be keyword-only\n",
      "  features_season = pd.concat([features_season_w, features_season_l], 0).drop_duplicates().sort_values(['Season', 'TeamID']).reset_index(drop=True)\n"
     ]
    }
   ],
   "source": [
    "features_season = pd.concat([features_season_w, features_season_l], 0).drop_duplicates().sort_values(['Season', 'TeamID']).reset_index(drop=True)"
   ]
  },
  {
   "cell_type": "markdown",
   "metadata": {
    "id": "UJUn0WFIYHt9"
   },
   "source": [
    "A cada equip li afegim els features calculats abans: num_win, num_loss, gap_win i gap_loss"
   ]
  },
  {
   "cell_type": "code",
   "execution_count": 74,
   "metadata": {
    "colab": {
     "base_uri": "https://localhost:8080/",
     "height": 206
    },
    "id": "PGd43yfdM_9M",
    "outputId": "f92c89b7-0093-4e8d-a55b-5f40cffe57cd"
   },
   "outputs": [
    {
     "data": {
      "text/html": [
       "<div>\n",
       "<style scoped>\n",
       "    .dataframe tbody tr th:only-of-type {\n",
       "        vertical-align: middle;\n",
       "    }\n",
       "\n",
       "    .dataframe tbody tr th {\n",
       "        vertical-align: top;\n",
       "    }\n",
       "\n",
       "    .dataframe thead th {\n",
       "        text-align: right;\n",
       "    }\n",
       "</style>\n",
       "<table border=\"1\" class=\"dataframe\">\n",
       "  <thead>\n",
       "    <tr style=\"text-align: right;\">\n",
       "      <th></th>\n",
       "      <th>Season</th>\n",
       "      <th>TeamID</th>\n",
       "      <th>NumWins</th>\n",
       "      <th>NumLosses</th>\n",
       "      <th>GapWins</th>\n",
       "      <th>GapLosses</th>\n",
       "    </tr>\n",
       "  </thead>\n",
       "  <tbody>\n",
       "    <tr>\n",
       "      <th>0</th>\n",
       "      <td>1998</td>\n",
       "      <td>3102</td>\n",
       "      <td>4.0</td>\n",
       "      <td>20.0</td>\n",
       "      <td>15.500000</td>\n",
       "      <td>27.850000</td>\n",
       "    </tr>\n",
       "    <tr>\n",
       "      <th>1</th>\n",
       "      <td>1998</td>\n",
       "      <td>3103</td>\n",
       "      <td>11.0</td>\n",
       "      <td>18.0</td>\n",
       "      <td>15.000000</td>\n",
       "      <td>18.611111</td>\n",
       "    </tr>\n",
       "    <tr>\n",
       "      <th>2</th>\n",
       "      <td>1998</td>\n",
       "      <td>3104</td>\n",
       "      <td>21.0</td>\n",
       "      <td>9.0</td>\n",
       "      <td>21.619048</td>\n",
       "      <td>5.666667</td>\n",
       "    </tr>\n",
       "    <tr>\n",
       "      <th>3</th>\n",
       "      <td>1998</td>\n",
       "      <td>3106</td>\n",
       "      <td>6.0</td>\n",
       "      <td>15.0</td>\n",
       "      <td>8.333333</td>\n",
       "      <td>14.466667</td>\n",
       "    </tr>\n",
       "    <tr>\n",
       "      <th>4</th>\n",
       "      <td>1998</td>\n",
       "      <td>3108</td>\n",
       "      <td>12.0</td>\n",
       "      <td>11.0</td>\n",
       "      <td>17.750000</td>\n",
       "      <td>16.636364</td>\n",
       "    </tr>\n",
       "  </tbody>\n",
       "</table>\n",
       "</div>"
      ],
      "text/plain": [
       "   Season  TeamID  NumWins  NumLosses    GapWins  GapLosses\n",
       "0    1998    3102      4.0       20.0  15.500000  27.850000\n",
       "1    1998    3103     11.0       18.0  15.000000  18.611111\n",
       "2    1998    3104     21.0        9.0  21.619048   5.666667\n",
       "3    1998    3106      6.0       15.0   8.333333  14.466667\n",
       "4    1998    3108     12.0       11.0  17.750000  16.636364"
      ]
     },
     "execution_count": 74,
     "metadata": {},
     "output_type": "execute_result"
    }
   ],
   "source": [
    "features_season = features_season.merge(num_win, on=['Season', 'TeamID'], how='left')\n",
    "features_season = features_season.merge(num_loss, on=['Season', 'TeamID'], how='left')\n",
    "features_season = features_season.merge(gap_win, on=['Season', 'TeamID'], how='left')\n",
    "features_season = features_season.merge(gap_loss, on=['Season', 'TeamID'], how='left')\n",
    "features_season.head()"
   ]
  },
  {
   "cell_type": "markdown",
   "metadata": {
    "id": "DxDlVbW1YWxT"
   },
   "source": [
    "Comprovem si hi ha valors nuls al DataFrame i els substituïm per 0."
   ]
  },
  {
   "cell_type": "code",
   "execution_count": 75,
   "metadata": {
    "colab": {
     "base_uri": "https://localhost:8080/"
    },
    "id": "tXAujrrQN2q4",
    "outputId": "f0ad0cfb-6304-4aa0-c1d3-6aae53d3da80"
   },
   "outputs": [
    {
     "data": {
      "text/plain": [
       "Season        0\n",
       "TeamID        0\n",
       "NumWins      25\n",
       "NumLosses    14\n",
       "GapWins      25\n",
       "GapLosses    14\n",
       "dtype: int64"
      ]
     },
     "execution_count": 75,
     "metadata": {},
     "output_type": "execute_result"
    }
   ],
   "source": [
    "features_season.isnull().sum()"
   ]
  },
  {
   "cell_type": "code",
   "execution_count": 76,
   "metadata": {
    "id": "qYqfRDy4NC-Q"
   },
   "outputs": [],
   "source": [
    "features_season.fillna(0, inplace=True)"
   ]
  },
  {
   "cell_type": "markdown",
   "metadata": {
    "id": "87AJDS17OreL"
   },
   "source": [
    "Seguidament es creen dos atributs nous: \n",
    "\n",
    "![image.png](data:image/png;base64,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)\n",
    "\n",
    "![image.png](data:image/png;base64,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)"
   ]
  },
  {
   "cell_type": "code",
   "execution_count": 77,
   "metadata": {
    "colab": {
     "base_uri": "https://localhost:8080/",
     "height": 206
    },
    "id": "vCbF1yj7NK3g",
    "outputId": "367f1ea3-0904-4502-d8ec-3a3714d47ba1"
   },
   "outputs": [
    {
     "data": {
      "text/html": [
       "<div>\n",
       "<style scoped>\n",
       "    .dataframe tbody tr th:only-of-type {\n",
       "        vertical-align: middle;\n",
       "    }\n",
       "\n",
       "    .dataframe tbody tr th {\n",
       "        vertical-align: top;\n",
       "    }\n",
       "\n",
       "    .dataframe thead th {\n",
       "        text-align: right;\n",
       "    }\n",
       "</style>\n",
       "<table border=\"1\" class=\"dataframe\">\n",
       "  <thead>\n",
       "    <tr style=\"text-align: right;\">\n",
       "      <th></th>\n",
       "      <th>Season</th>\n",
       "      <th>TeamID</th>\n",
       "      <th>WinRatio</th>\n",
       "      <th>GapAvg</th>\n",
       "    </tr>\n",
       "  </thead>\n",
       "  <tbody>\n",
       "    <tr>\n",
       "      <th>0</th>\n",
       "      <td>1998</td>\n",
       "      <td>3102</td>\n",
       "      <td>0.166667</td>\n",
       "      <td>-20.625000</td>\n",
       "    </tr>\n",
       "    <tr>\n",
       "      <th>1</th>\n",
       "      <td>1998</td>\n",
       "      <td>3103</td>\n",
       "      <td>0.379310</td>\n",
       "      <td>-5.862069</td>\n",
       "    </tr>\n",
       "    <tr>\n",
       "      <th>2</th>\n",
       "      <td>1998</td>\n",
       "      <td>3104</td>\n",
       "      <td>0.700000</td>\n",
       "      <td>13.433333</td>\n",
       "    </tr>\n",
       "    <tr>\n",
       "      <th>3</th>\n",
       "      <td>1998</td>\n",
       "      <td>3106</td>\n",
       "      <td>0.285714</td>\n",
       "      <td>-7.952381</td>\n",
       "    </tr>\n",
       "    <tr>\n",
       "      <th>4</th>\n",
       "      <td>1998</td>\n",
       "      <td>3108</td>\n",
       "      <td>0.521739</td>\n",
       "      <td>1.304348</td>\n",
       "    </tr>\n",
       "  </tbody>\n",
       "</table>\n",
       "</div>"
      ],
      "text/plain": [
       "   Season  TeamID  WinRatio     GapAvg\n",
       "0    1998    3102  0.166667 -20.625000\n",
       "1    1998    3103  0.379310  -5.862069\n",
       "2    1998    3104  0.700000  13.433333\n",
       "3    1998    3106  0.285714  -7.952381\n",
       "4    1998    3108  0.521739   1.304348"
      ]
     },
     "execution_count": 77,
     "metadata": {},
     "output_type": "execute_result"
    }
   ],
   "source": [
    "features_season['WinRatio'] = features_season['NumWins']/(features_season['NumWins']+features_season['NumLosses']) #victories/total partits jugats\n",
    "features_season['GapAvg']=(features_season['NumWins']*features_season['GapWins']-features_season['NumLosses']*features_season['GapLosses'])/(features_season['NumWins']+features_season['NumLosses'])\n",
    " #mitja ponderada de la diferencia de punts en un partit\n",
    "features_season.drop(['NumWins', 'NumLosses', 'GapWins', 'GapLosses'], axis=1, inplace=True)\n",
    "features_season.head()"
   ]
  },
  {
   "cell_type": "markdown",
   "metadata": {
    "id": "bQwwAazSTtxd"
   },
   "source": [
    "### Tourney results\n",
    "\n",
    "Pujo l'arxiu WNCAATourneyCompactResults al qual li trec els atributs de número de pròrrogues i si el partit es jugava a “casa” o fora."
   ]
  },
  {
   "cell_type": "code",
   "execution_count": 78,
   "metadata": {
    "id": "uS7hyzwrP-Pw"
   },
   "outputs": [],
   "source": [
    "tourney_results = pd.read_csv('Dades/WNCAATourneyCompactResults.csv')\n",
    "tourney_results.drop(['NumOT','WLoc'], axis=1, inplace=True)"
   ]
  },
  {
   "cell_type": "markdown",
   "metadata": {
    "id": "XSp40terUm4S"
   },
   "source": [
    "Substitueixo el DayNum per la ronda del torneig de la que es tracta\n"
   ]
  },
  {
   "cell_type": "code",
   "execution_count": 79,
   "metadata": {
    "id": "gcsigTSXUGKm"
   },
   "outputs": [],
   "source": [
    "def get_round(day):\n",
    "    round_dic = {137: 0, 138: 0, 139: 1, 140: 1, 141: 2, 144: 3, 145: 3, 146: 4, 147: 4, 148: 4, 151:5, 153: 5, 155: 6} # comprovar q estigui bé -> ok\n",
    "    try:\n",
    "        return round_dic[day]\n",
    "    except:\n",
    "        print(f'Unknow day : {day}')\n",
    "        return 0"
   ]
  },
  {
   "cell_type": "code",
   "execution_count": 80,
   "metadata": {
    "colab": {
     "base_uri": "https://localhost:8080/",
     "height": 206
    },
    "id": "f7hcG5DNVEXb",
    "outputId": "0148523c-f99a-4cd8-9fbd-4273466ddb3f"
   },
   "outputs": [
    {
     "data": {
      "text/html": [
       "<div>\n",
       "<style scoped>\n",
       "    .dataframe tbody tr th:only-of-type {\n",
       "        vertical-align: middle;\n",
       "    }\n",
       "\n",
       "    .dataframe tbody tr th {\n",
       "        vertical-align: top;\n",
       "    }\n",
       "\n",
       "    .dataframe thead th {\n",
       "        text-align: right;\n",
       "    }\n",
       "</style>\n",
       "<table border=\"1\" class=\"dataframe\">\n",
       "  <thead>\n",
       "    <tr style=\"text-align: right;\">\n",
       "      <th></th>\n",
       "      <th>Season</th>\n",
       "      <th>DayNum</th>\n",
       "      <th>WTeamID</th>\n",
       "      <th>WScore</th>\n",
       "      <th>LTeamID</th>\n",
       "      <th>LScore</th>\n",
       "      <th>Round</th>\n",
       "    </tr>\n",
       "  </thead>\n",
       "  <tbody>\n",
       "    <tr>\n",
       "      <th>0</th>\n",
       "      <td>1998</td>\n",
       "      <td>137</td>\n",
       "      <td>3104</td>\n",
       "      <td>94</td>\n",
       "      <td>3422</td>\n",
       "      <td>46</td>\n",
       "      <td>0</td>\n",
       "    </tr>\n",
       "    <tr>\n",
       "      <th>1</th>\n",
       "      <td>1998</td>\n",
       "      <td>137</td>\n",
       "      <td>3112</td>\n",
       "      <td>75</td>\n",
       "      <td>3365</td>\n",
       "      <td>63</td>\n",
       "      <td>0</td>\n",
       "    </tr>\n",
       "    <tr>\n",
       "      <th>2</th>\n",
       "      <td>1998</td>\n",
       "      <td>137</td>\n",
       "      <td>3163</td>\n",
       "      <td>93</td>\n",
       "      <td>3193</td>\n",
       "      <td>52</td>\n",
       "      <td>0</td>\n",
       "    </tr>\n",
       "    <tr>\n",
       "      <th>3</th>\n",
       "      <td>1998</td>\n",
       "      <td>137</td>\n",
       "      <td>3198</td>\n",
       "      <td>59</td>\n",
       "      <td>3266</td>\n",
       "      <td>45</td>\n",
       "      <td>0</td>\n",
       "    </tr>\n",
       "    <tr>\n",
       "      <th>4</th>\n",
       "      <td>1998</td>\n",
       "      <td>137</td>\n",
       "      <td>3203</td>\n",
       "      <td>74</td>\n",
       "      <td>3208</td>\n",
       "      <td>72</td>\n",
       "      <td>0</td>\n",
       "    </tr>\n",
       "  </tbody>\n",
       "</table>\n",
       "</div>"
      ],
      "text/plain": [
       "   Season  DayNum  WTeamID  WScore  LTeamID  LScore  Round\n",
       "0    1998     137     3104      94     3422      46      0\n",
       "1    1998     137     3112      75     3365      63      0\n",
       "2    1998     137     3163      93     3193      52      0\n",
       "3    1998     137     3198      59     3266      45      0\n",
       "4    1998     137     3203      74     3208      72      0"
      ]
     },
     "execution_count": 80,
     "metadata": {},
     "output_type": "execute_result"
    }
   ],
   "source": [
    "tourney_results['Round'] = tourney_results['DayNum'].apply(get_round)\n",
    "tourney_results.head()"
   ]
  },
  {
   "cell_type": "markdown",
   "metadata": {
    "id": "0m5qYdJa5PuO"
   },
   "source": [
    "## Feature Engineering\n"
   ]
  },
  {
   "cell_type": "code",
   "execution_count": 81,
   "metadata": {
    "colab": {
     "base_uri": "https://localhost:8080/",
     "height": 206
    },
    "id": "Gq-a_p_9VPD-",
    "outputId": "b4a4bdf5-1f57-4b02-c559-f0c21877d479"
   },
   "outputs": [
    {
     "data": {
      "text/html": [
       "<div>\n",
       "<style scoped>\n",
       "    .dataframe tbody tr th:only-of-type {\n",
       "        vertical-align: middle;\n",
       "    }\n",
       "\n",
       "    .dataframe tbody tr th {\n",
       "        vertical-align: top;\n",
       "    }\n",
       "\n",
       "    .dataframe thead th {\n",
       "        text-align: right;\n",
       "    }\n",
       "</style>\n",
       "<table border=\"1\" class=\"dataframe\">\n",
       "  <thead>\n",
       "    <tr style=\"text-align: right;\">\n",
       "      <th></th>\n",
       "      <th>Season</th>\n",
       "      <th>DayNum</th>\n",
       "      <th>WTeamID</th>\n",
       "      <th>WScore</th>\n",
       "      <th>LTeamID</th>\n",
       "      <th>LScore</th>\n",
       "      <th>Round</th>\n",
       "    </tr>\n",
       "  </thead>\n",
       "  <tbody>\n",
       "    <tr>\n",
       "      <th>0</th>\n",
       "      <td>1998</td>\n",
       "      <td>137</td>\n",
       "      <td>3104</td>\n",
       "      <td>94</td>\n",
       "      <td>3422</td>\n",
       "      <td>46</td>\n",
       "      <td>0</td>\n",
       "    </tr>\n",
       "    <tr>\n",
       "      <th>1</th>\n",
       "      <td>1998</td>\n",
       "      <td>137</td>\n",
       "      <td>3112</td>\n",
       "      <td>75</td>\n",
       "      <td>3365</td>\n",
       "      <td>63</td>\n",
       "      <td>0</td>\n",
       "    </tr>\n",
       "    <tr>\n",
       "      <th>2</th>\n",
       "      <td>1998</td>\n",
       "      <td>137</td>\n",
       "      <td>3163</td>\n",
       "      <td>93</td>\n",
       "      <td>3193</td>\n",
       "      <td>52</td>\n",
       "      <td>0</td>\n",
       "    </tr>\n",
       "    <tr>\n",
       "      <th>3</th>\n",
       "      <td>1998</td>\n",
       "      <td>137</td>\n",
       "      <td>3198</td>\n",
       "      <td>59</td>\n",
       "      <td>3266</td>\n",
       "      <td>45</td>\n",
       "      <td>0</td>\n",
       "    </tr>\n",
       "    <tr>\n",
       "      <th>4</th>\n",
       "      <td>1998</td>\n",
       "      <td>137</td>\n",
       "      <td>3203</td>\n",
       "      <td>74</td>\n",
       "      <td>3208</td>\n",
       "      <td>72</td>\n",
       "      <td>0</td>\n",
       "    </tr>\n",
       "  </tbody>\n",
       "</table>\n",
       "</div>"
      ],
      "text/plain": [
       "   Season  DayNum  WTeamID  WScore  LTeamID  LScore  Round\n",
       "0    1998     137     3104      94     3422      46      0\n",
       "1    1998     137     3112      75     3365      63      0\n",
       "2    1998     137     3163      93     3193      52      0\n",
       "3    1998     137     3198      59     3266      45      0\n",
       "4    1998     137     3203      74     3208      72      0"
      ]
     },
     "execution_count": 81,
     "metadata": {},
     "output_type": "execute_result"
    }
   ],
   "source": [
    "df=tourney_results.copy()\n",
    "df.head()"
   ]
  },
  {
   "cell_type": "markdown",
   "metadata": {
    "id": "PA7vBhG-6vLQ"
   },
   "source": [
    "Cada fila correspon a un partit entre WTeamID i LTeamID\n",
    "\n",
    "\n",
    "### Seeds"
   ]
  },
  {
   "cell_type": "code",
   "execution_count": 82,
   "metadata": {
    "id": "ZwWzqI2f9TbN"
   },
   "outputs": [],
   "source": [
    "#s'està afegint la seed en la que es trobava cada WTeam a la temporada indicada (perque tal cual concatenat no es corresponen)\n",
    "df=pd.merge(df, seeds, how='left', left_on=['Season', 'WTeamID'], right_on=['Season', 'TeamID']).drop('TeamID', axis=1).rename(columns={'Seed': 'SeedW'})\n",
    "#es borren columnes repetides"
   ]
  },
  {
   "cell_type": "code",
   "execution_count": 83,
   "metadata": {
    "colab": {
     "base_uri": "https://localhost:8080/",
     "height": 206
    },
    "id": "LSCmO2ta-8D0",
    "outputId": "94c117ee-1041-4eeb-8f53-1dea9f92e20d"
   },
   "outputs": [
    {
     "data": {
      "text/html": [
       "<div>\n",
       "<style scoped>\n",
       "    .dataframe tbody tr th:only-of-type {\n",
       "        vertical-align: middle;\n",
       "    }\n",
       "\n",
       "    .dataframe tbody tr th {\n",
       "        vertical-align: top;\n",
       "    }\n",
       "\n",
       "    .dataframe thead th {\n",
       "        text-align: right;\n",
       "    }\n",
       "</style>\n",
       "<table border=\"1\" class=\"dataframe\">\n",
       "  <thead>\n",
       "    <tr style=\"text-align: right;\">\n",
       "      <th></th>\n",
       "      <th>Season</th>\n",
       "      <th>DayNum</th>\n",
       "      <th>WTeamID</th>\n",
       "      <th>WScore</th>\n",
       "      <th>LTeamID</th>\n",
       "      <th>LScore</th>\n",
       "      <th>Round</th>\n",
       "      <th>SeedW</th>\n",
       "      <th>SeedL</th>\n",
       "    </tr>\n",
       "  </thead>\n",
       "  <tbody>\n",
       "    <tr>\n",
       "      <th>0</th>\n",
       "      <td>1998</td>\n",
       "      <td>137</td>\n",
       "      <td>3104</td>\n",
       "      <td>94</td>\n",
       "      <td>3422</td>\n",
       "      <td>46</td>\n",
       "      <td>0</td>\n",
       "      <td>X02</td>\n",
       "      <td>X15</td>\n",
       "    </tr>\n",
       "    <tr>\n",
       "      <th>1</th>\n",
       "      <td>1998</td>\n",
       "      <td>137</td>\n",
       "      <td>3112</td>\n",
       "      <td>75</td>\n",
       "      <td>3365</td>\n",
       "      <td>63</td>\n",
       "      <td>0</td>\n",
       "      <td>W03</td>\n",
       "      <td>W14</td>\n",
       "    </tr>\n",
       "    <tr>\n",
       "      <th>2</th>\n",
       "      <td>1998</td>\n",
       "      <td>137</td>\n",
       "      <td>3163</td>\n",
       "      <td>93</td>\n",
       "      <td>3193</td>\n",
       "      <td>52</td>\n",
       "      <td>0</td>\n",
       "      <td>W02</td>\n",
       "      <td>W15</td>\n",
       "    </tr>\n",
       "    <tr>\n",
       "      <th>3</th>\n",
       "      <td>1998</td>\n",
       "      <td>137</td>\n",
       "      <td>3198</td>\n",
       "      <td>59</td>\n",
       "      <td>3266</td>\n",
       "      <td>45</td>\n",
       "      <td>0</td>\n",
       "      <td>Y07</td>\n",
       "      <td>Y10</td>\n",
       "    </tr>\n",
       "    <tr>\n",
       "      <th>4</th>\n",
       "      <td>1998</td>\n",
       "      <td>137</td>\n",
       "      <td>3203</td>\n",
       "      <td>74</td>\n",
       "      <td>3208</td>\n",
       "      <td>72</td>\n",
       "      <td>0</td>\n",
       "      <td>W10</td>\n",
       "      <td>W07</td>\n",
       "    </tr>\n",
       "  </tbody>\n",
       "</table>\n",
       "</div>"
      ],
      "text/plain": [
       "   Season  DayNum  WTeamID  WScore  LTeamID  LScore  Round SeedW SeedL\n",
       "0    1998     137     3104      94     3422      46      0   X02   X15\n",
       "1    1998     137     3112      75     3365      63      0   W03   W14\n",
       "2    1998     137     3163      93     3193      52      0   W02   W15\n",
       "3    1998     137     3198      59     3266      45      0   Y07   Y10\n",
       "4    1998     137     3203      74     3208      72      0   W10   W07"
      ]
     },
     "execution_count": 83,
     "metadata": {},
     "output_type": "execute_result"
    }
   ],
   "source": [
    "#el mateix pero afegint la seed del LTeam\n",
    "df=pd.merge(df, seeds, how='left', left_on=['Season','LTeamID'], right_on=['Season', 'TeamID']).drop('TeamID', axis=1).rename(columns={'Seed':'SeedL'})\n",
    "df.head()"
   ]
  },
  {
   "cell_type": "code",
   "execution_count": 84,
   "metadata": {
    "id": "FZODyBaq_yGf"
   },
   "outputs": [],
   "source": [
    "#facilitar numenclatura de les seeds, trec la lletra\n",
    "def treat_seed(seed):\n",
    "    return int(re.sub(\"[^0-9]\", \"\", seed))"
   ]
  },
  {
   "cell_type": "code",
   "execution_count": 85,
   "metadata": {
    "id": "vlCR6tc9Adbq"
   },
   "outputs": [],
   "source": [
    "df['SeedW'] = df['SeedW'].apply(treat_seed)\n",
    "df['SeedL'] = df['SeedL'].apply(treat_seed)"
   ]
  },
  {
   "cell_type": "code",
   "execution_count": 86,
   "metadata": {
    "colab": {
     "base_uri": "https://localhost:8080/",
     "height": 206
    },
    "id": "0U7o5V9ZAite",
    "outputId": "19d044b3-778e-4fbc-f017-4d65dc0a6982"
   },
   "outputs": [
    {
     "data": {
      "text/html": [
       "<div>\n",
       "<style scoped>\n",
       "    .dataframe tbody tr th:only-of-type {\n",
       "        vertical-align: middle;\n",
       "    }\n",
       "\n",
       "    .dataframe tbody tr th {\n",
       "        vertical-align: top;\n",
       "    }\n",
       "\n",
       "    .dataframe thead th {\n",
       "        text-align: right;\n",
       "    }\n",
       "</style>\n",
       "<table border=\"1\" class=\"dataframe\">\n",
       "  <thead>\n",
       "    <tr style=\"text-align: right;\">\n",
       "      <th></th>\n",
       "      <th>Season</th>\n",
       "      <th>DayNum</th>\n",
       "      <th>WTeamID</th>\n",
       "      <th>WScore</th>\n",
       "      <th>LTeamID</th>\n",
       "      <th>LScore</th>\n",
       "      <th>Round</th>\n",
       "      <th>SeedW</th>\n",
       "      <th>SeedL</th>\n",
       "    </tr>\n",
       "  </thead>\n",
       "  <tbody>\n",
       "    <tr>\n",
       "      <th>0</th>\n",
       "      <td>1998</td>\n",
       "      <td>137</td>\n",
       "      <td>3104</td>\n",
       "      <td>94</td>\n",
       "      <td>3422</td>\n",
       "      <td>46</td>\n",
       "      <td>0</td>\n",
       "      <td>2</td>\n",
       "      <td>15</td>\n",
       "    </tr>\n",
       "    <tr>\n",
       "      <th>1</th>\n",
       "      <td>1998</td>\n",
       "      <td>137</td>\n",
       "      <td>3112</td>\n",
       "      <td>75</td>\n",
       "      <td>3365</td>\n",
       "      <td>63</td>\n",
       "      <td>0</td>\n",
       "      <td>3</td>\n",
       "      <td>14</td>\n",
       "    </tr>\n",
       "    <tr>\n",
       "      <th>2</th>\n",
       "      <td>1998</td>\n",
       "      <td>137</td>\n",
       "      <td>3163</td>\n",
       "      <td>93</td>\n",
       "      <td>3193</td>\n",
       "      <td>52</td>\n",
       "      <td>0</td>\n",
       "      <td>2</td>\n",
       "      <td>15</td>\n",
       "    </tr>\n",
       "    <tr>\n",
       "      <th>3</th>\n",
       "      <td>1998</td>\n",
       "      <td>137</td>\n",
       "      <td>3198</td>\n",
       "      <td>59</td>\n",
       "      <td>3266</td>\n",
       "      <td>45</td>\n",
       "      <td>0</td>\n",
       "      <td>7</td>\n",
       "      <td>10</td>\n",
       "    </tr>\n",
       "    <tr>\n",
       "      <th>4</th>\n",
       "      <td>1998</td>\n",
       "      <td>137</td>\n",
       "      <td>3203</td>\n",
       "      <td>74</td>\n",
       "      <td>3208</td>\n",
       "      <td>72</td>\n",
       "      <td>0</td>\n",
       "      <td>10</td>\n",
       "      <td>7</td>\n",
       "    </tr>\n",
       "  </tbody>\n",
       "</table>\n",
       "</div>"
      ],
      "text/plain": [
       "   Season  DayNum  WTeamID  WScore  LTeamID  LScore  Round  SeedW  SeedL\n",
       "0    1998     137     3104      94     3422      46      0      2     15\n",
       "1    1998     137     3112      75     3365      63      0      3     14\n",
       "2    1998     137     3163      93     3193      52      0      2     15\n",
       "3    1998     137     3198      59     3266      45      0      7     10\n",
       "4    1998     137     3203      74     3208      72      0     10      7"
      ]
     },
     "execution_count": 86,
     "metadata": {},
     "output_type": "execute_result"
    }
   ],
   "source": [
    "df.head()"
   ]
  },
  {
   "cell_type": "markdown",
   "metadata": {
    "id": "Jd4Mu8JRCHXh"
   },
   "source": [
    "### Season stats (features)\n",
    "\n",
    "Afegim el WinRatioW, WinRatioL, GapAvgW, GapAvgL corresponent a cada fila de df"
   ]
  },
  {
   "cell_type": "code",
   "execution_count": 87,
   "metadata": {
    "id": "G3QIA75QAwU-"
   },
   "outputs": [],
   "source": [
    "df=pd.merge(df, features_season, how='left', left_on=['Season', 'WTeamID'], right_on=['Season', 'TeamID']).rename(columns={'WinRatio': 'WinRatioW', 'GapAvg': 'GapAvgW'}).drop(columns='TeamID', axis=1)"
   ]
  },
  {
   "cell_type": "code",
   "execution_count": 88,
   "metadata": {
    "id": "e_-d66RfD7j5"
   },
   "outputs": [],
   "source": [
    "df=pd.merge(df, features_season, how='left', left_on=['Season', 'LTeamID'], right_on=['Season', 'TeamID']).rename(columns={'WinRatio': 'WinRatioL', 'GapAvg': 'GapAvgL'}).drop(columns='TeamID', axis=1)"
   ]
  },
  {
   "cell_type": "code",
   "execution_count": 89,
   "metadata": {
    "colab": {
     "base_uri": "https://localhost:8080/",
     "height": 206
    },
    "id": "CgyrAOBaEWp4",
    "outputId": "b9236aa6-f884-42da-ceab-e4b2dcb06fe4"
   },
   "outputs": [
    {
     "data": {
      "text/html": [
       "<div>\n",
       "<style scoped>\n",
       "    .dataframe tbody tr th:only-of-type {\n",
       "        vertical-align: middle;\n",
       "    }\n",
       "\n",
       "    .dataframe tbody tr th {\n",
       "        vertical-align: top;\n",
       "    }\n",
       "\n",
       "    .dataframe thead th {\n",
       "        text-align: right;\n",
       "    }\n",
       "</style>\n",
       "<table border=\"1\" class=\"dataframe\">\n",
       "  <thead>\n",
       "    <tr style=\"text-align: right;\">\n",
       "      <th></th>\n",
       "      <th>Season</th>\n",
       "      <th>DayNum</th>\n",
       "      <th>WTeamID</th>\n",
       "      <th>WScore</th>\n",
       "      <th>LTeamID</th>\n",
       "      <th>LScore</th>\n",
       "      <th>Round</th>\n",
       "      <th>SeedW</th>\n",
       "      <th>SeedL</th>\n",
       "      <th>WinRatioW</th>\n",
       "      <th>GapAvgW</th>\n",
       "      <th>WinRatioL</th>\n",
       "      <th>GapAvgL</th>\n",
       "    </tr>\n",
       "  </thead>\n",
       "  <tbody>\n",
       "    <tr>\n",
       "      <th>0</th>\n",
       "      <td>1998</td>\n",
       "      <td>137</td>\n",
       "      <td>3104</td>\n",
       "      <td>94</td>\n",
       "      <td>3422</td>\n",
       "      <td>46</td>\n",
       "      <td>0</td>\n",
       "      <td>2</td>\n",
       "      <td>15</td>\n",
       "      <td>0.700000</td>\n",
       "      <td>13.433333</td>\n",
       "      <td>0.703704</td>\n",
       "      <td>6.111111</td>\n",
       "    </tr>\n",
       "    <tr>\n",
       "      <th>1</th>\n",
       "      <td>1998</td>\n",
       "      <td>137</td>\n",
       "      <td>3112</td>\n",
       "      <td>75</td>\n",
       "      <td>3365</td>\n",
       "      <td>63</td>\n",
       "      <td>0</td>\n",
       "      <td>3</td>\n",
       "      <td>14</td>\n",
       "      <td>0.777778</td>\n",
       "      <td>12.407407</td>\n",
       "      <td>0.785714</td>\n",
       "      <td>17.821429</td>\n",
       "    </tr>\n",
       "    <tr>\n",
       "      <th>2</th>\n",
       "      <td>1998</td>\n",
       "      <td>137</td>\n",
       "      <td>3163</td>\n",
       "      <td>93</td>\n",
       "      <td>3193</td>\n",
       "      <td>52</td>\n",
       "      <td>0</td>\n",
       "      <td>2</td>\n",
       "      <td>15</td>\n",
       "      <td>0.937500</td>\n",
       "      <td>24.875000</td>\n",
       "      <td>0.714286</td>\n",
       "      <td>5.071429</td>\n",
       "    </tr>\n",
       "    <tr>\n",
       "      <th>3</th>\n",
       "      <td>1998</td>\n",
       "      <td>137</td>\n",
       "      <td>3198</td>\n",
       "      <td>59</td>\n",
       "      <td>3266</td>\n",
       "      <td>45</td>\n",
       "      <td>0</td>\n",
       "      <td>7</td>\n",
       "      <td>10</td>\n",
       "      <td>0.965517</td>\n",
       "      <td>25.103448</td>\n",
       "      <td>0.769231</td>\n",
       "      <td>9.538462</td>\n",
       "    </tr>\n",
       "    <tr>\n",
       "      <th>4</th>\n",
       "      <td>1998</td>\n",
       "      <td>137</td>\n",
       "      <td>3203</td>\n",
       "      <td>74</td>\n",
       "      <td>3208</td>\n",
       "      <td>72</td>\n",
       "      <td>0</td>\n",
       "      <td>10</td>\n",
       "      <td>7</td>\n",
       "      <td>0.653846</td>\n",
       "      <td>9.653846</td>\n",
       "      <td>0.653846</td>\n",
       "      <td>4.730769</td>\n",
       "    </tr>\n",
       "  </tbody>\n",
       "</table>\n",
       "</div>"
      ],
      "text/plain": [
       "   Season  DayNum  WTeamID  WScore  LTeamID  LScore  Round  SeedW  SeedL  \\\n",
       "0    1998     137     3104      94     3422      46      0      2     15   \n",
       "1    1998     137     3112      75     3365      63      0      3     14   \n",
       "2    1998     137     3163      93     3193      52      0      2     15   \n",
       "3    1998     137     3198      59     3266      45      0      7     10   \n",
       "4    1998     137     3203      74     3208      72      0     10      7   \n",
       "\n",
       "   WinRatioW    GapAvgW  WinRatioL    GapAvgL  \n",
       "0   0.700000  13.433333   0.703704   6.111111  \n",
       "1   0.777778  12.407407   0.785714  17.821429  \n",
       "2   0.937500  24.875000   0.714286   5.071429  \n",
       "3   0.965517  25.103448   0.769231   9.538462  \n",
       "4   0.653846   9.653846   0.653846   4.730769  "
      ]
     },
     "execution_count": 89,
     "metadata": {},
     "output_type": "execute_result"
    }
   ],
   "source": [
    "df.head()"
   ]
  },
  {
   "cell_type": "markdown",
   "metadata": {
    "id": "uK9u9bGQKFMP"
   },
   "source": [
    "### Rename\n",
    "\n",
    "Winners → A \n",
    "\n",
    "Losers → B"
   ]
  },
  {
   "cell_type": "code",
   "execution_count": 90,
   "metadata": {
    "id": "Tzn9mQilKQp6"
   },
   "outputs": [],
   "source": [
    "win_rename = {\"WTeamID\": \"TeamIdA\", \"WScore\" : \"ScoreA\", \"LTeamID\" : \"TeamIdB\", \"LScore\": \"ScoreB\", \"SeedW\": \"SeedA\", \"SeedL\": \"SeedB\", 'WinRatioW' : 'WinRatioA','WinRatioL' : 'WinRatioB', 'GapAvgW' : 'GapAvgA', 'GapAvgL' : 'GapAvgB'}\n",
    "df=df.rename(columns=win_rename)"
   ]
  },
  {
   "cell_type": "code",
   "execution_count": 91,
   "metadata": {
    "colab": {
     "base_uri": "https://localhost:8080/",
     "height": 206
    },
    "id": "BG4z6BeJlTdq",
    "outputId": "d34497e8-4171-418f-daf3-67cc65fa619a"
   },
   "outputs": [
    {
     "data": {
      "text/html": [
       "<div>\n",
       "<style scoped>\n",
       "    .dataframe tbody tr th:only-of-type {\n",
       "        vertical-align: middle;\n",
       "    }\n",
       "\n",
       "    .dataframe tbody tr th {\n",
       "        vertical-align: top;\n",
       "    }\n",
       "\n",
       "    .dataframe thead th {\n",
       "        text-align: right;\n",
       "    }\n",
       "</style>\n",
       "<table border=\"1\" class=\"dataframe\">\n",
       "  <thead>\n",
       "    <tr style=\"text-align: right;\">\n",
       "      <th></th>\n",
       "      <th>Season</th>\n",
       "      <th>DayNum</th>\n",
       "      <th>TeamIdA</th>\n",
       "      <th>ScoreA</th>\n",
       "      <th>TeamIdB</th>\n",
       "      <th>ScoreB</th>\n",
       "      <th>Round</th>\n",
       "      <th>SeedA</th>\n",
       "      <th>SeedB</th>\n",
       "      <th>WinRatioA</th>\n",
       "      <th>GapAvgA</th>\n",
       "      <th>WinRatioB</th>\n",
       "      <th>GapAvgB</th>\n",
       "    </tr>\n",
       "  </thead>\n",
       "  <tbody>\n",
       "    <tr>\n",
       "      <th>0</th>\n",
       "      <td>1998</td>\n",
       "      <td>137</td>\n",
       "      <td>3104</td>\n",
       "      <td>94</td>\n",
       "      <td>3422</td>\n",
       "      <td>46</td>\n",
       "      <td>0</td>\n",
       "      <td>2</td>\n",
       "      <td>15</td>\n",
       "      <td>0.700000</td>\n",
       "      <td>13.433333</td>\n",
       "      <td>0.703704</td>\n",
       "      <td>6.111111</td>\n",
       "    </tr>\n",
       "    <tr>\n",
       "      <th>1</th>\n",
       "      <td>1998</td>\n",
       "      <td>137</td>\n",
       "      <td>3112</td>\n",
       "      <td>75</td>\n",
       "      <td>3365</td>\n",
       "      <td>63</td>\n",
       "      <td>0</td>\n",
       "      <td>3</td>\n",
       "      <td>14</td>\n",
       "      <td>0.777778</td>\n",
       "      <td>12.407407</td>\n",
       "      <td>0.785714</td>\n",
       "      <td>17.821429</td>\n",
       "    </tr>\n",
       "    <tr>\n",
       "      <th>2</th>\n",
       "      <td>1998</td>\n",
       "      <td>137</td>\n",
       "      <td>3163</td>\n",
       "      <td>93</td>\n",
       "      <td>3193</td>\n",
       "      <td>52</td>\n",
       "      <td>0</td>\n",
       "      <td>2</td>\n",
       "      <td>15</td>\n",
       "      <td>0.937500</td>\n",
       "      <td>24.875000</td>\n",
       "      <td>0.714286</td>\n",
       "      <td>5.071429</td>\n",
       "    </tr>\n",
       "    <tr>\n",
       "      <th>3</th>\n",
       "      <td>1998</td>\n",
       "      <td>137</td>\n",
       "      <td>3198</td>\n",
       "      <td>59</td>\n",
       "      <td>3266</td>\n",
       "      <td>45</td>\n",
       "      <td>0</td>\n",
       "      <td>7</td>\n",
       "      <td>10</td>\n",
       "      <td>0.965517</td>\n",
       "      <td>25.103448</td>\n",
       "      <td>0.769231</td>\n",
       "      <td>9.538462</td>\n",
       "    </tr>\n",
       "    <tr>\n",
       "      <th>4</th>\n",
       "      <td>1998</td>\n",
       "      <td>137</td>\n",
       "      <td>3203</td>\n",
       "      <td>74</td>\n",
       "      <td>3208</td>\n",
       "      <td>72</td>\n",
       "      <td>0</td>\n",
       "      <td>10</td>\n",
       "      <td>7</td>\n",
       "      <td>0.653846</td>\n",
       "      <td>9.653846</td>\n",
       "      <td>0.653846</td>\n",
       "      <td>4.730769</td>\n",
       "    </tr>\n",
       "  </tbody>\n",
       "</table>\n",
       "</div>"
      ],
      "text/plain": [
       "   Season  DayNum  TeamIdA  ScoreA  TeamIdB  ScoreB  Round  SeedA  SeedB  \\\n",
       "0    1998     137     3104      94     3422      46      0      2     15   \n",
       "1    1998     137     3112      75     3365      63      0      3     14   \n",
       "2    1998     137     3163      93     3193      52      0      2     15   \n",
       "3    1998     137     3198      59     3266      45      0      7     10   \n",
       "4    1998     137     3203      74     3208      72      0     10      7   \n",
       "\n",
       "   WinRatioA    GapAvgA  WinRatioB    GapAvgB  \n",
       "0   0.700000  13.433333   0.703704   6.111111  \n",
       "1   0.777778  12.407407   0.785714  17.821429  \n",
       "2   0.937500  24.875000   0.714286   5.071429  \n",
       "3   0.965517  25.103448   0.769231   9.538462  \n",
       "4   0.653846   9.653846   0.653846   4.730769  "
      ]
     },
     "execution_count": 91,
     "metadata": {},
     "output_type": "execute_result"
    }
   ],
   "source": [
    "df.head()"
   ]
  },
  {
   "cell_type": "markdown",
   "metadata": {
    "id": "NeKIQ2S-893R"
   },
   "source": [
    "### Girar els partits"
   ]
  },
  {
   "cell_type": "code",
   "execution_count": 92,
   "metadata": {
    "id": "ii4Hd__15yEc"
   },
   "outputs": [],
   "source": [
    "import random\n",
    "def canvia(fila):\n",
    "  if random.choice(['S', 'N']) == 'S':\n",
    "    aux = fila['TeamIdA']\n",
    "    fila['TeamIdA'] = fila['TeamIdB']\n",
    "    fila['TeamIdB'] = aux\n",
    "    aux1=fila['ScoreA']\n",
    "    fila['ScoreA'] = fila['ScoreB']\n",
    "    fila['ScoreB'] = aux1\n",
    "    aux2=fila['SeedA']\n",
    "    fila['SeedA'] = fila['SeedB']\n",
    "    fila['SeedB'] = aux2\n",
    "    aux3=fila['WinRatioA']\n",
    "    fila['WinRatioA']=fila['WinRatioB']\n",
    "    fila['WinRatioB']=aux3\n",
    "    aux4=fila['GapAvgA']\n",
    "    fila['GapAvgA']=fila['GapAvgB']\n",
    "    fila['GapAvgB']=aux4\n",
    "  return fila"
   ]
  },
  {
   "cell_type": "code",
   "execution_count": 93,
   "metadata": {
    "colab": {
     "base_uri": "https://localhost:8080/",
     "height": 206
    },
    "id": "7Q22g1TTv2Wx",
    "outputId": "0c0e3892-0fa9-4893-971d-4a766051a5c0"
   },
   "outputs": [
    {
     "data": {
      "text/html": [
       "<div>\n",
       "<style scoped>\n",
       "    .dataframe tbody tr th:only-of-type {\n",
       "        vertical-align: middle;\n",
       "    }\n",
       "\n",
       "    .dataframe tbody tr th {\n",
       "        vertical-align: top;\n",
       "    }\n",
       "\n",
       "    .dataframe thead th {\n",
       "        text-align: right;\n",
       "    }\n",
       "</style>\n",
       "<table border=\"1\" class=\"dataframe\">\n",
       "  <thead>\n",
       "    <tr style=\"text-align: right;\">\n",
       "      <th></th>\n",
       "      <th>Season</th>\n",
       "      <th>DayNum</th>\n",
       "      <th>TeamIdA</th>\n",
       "      <th>ScoreA</th>\n",
       "      <th>TeamIdB</th>\n",
       "      <th>ScoreB</th>\n",
       "      <th>Round</th>\n",
       "      <th>SeedA</th>\n",
       "      <th>SeedB</th>\n",
       "      <th>WinRatioA</th>\n",
       "      <th>GapAvgA</th>\n",
       "      <th>WinRatioB</th>\n",
       "      <th>GapAvgB</th>\n",
       "    </tr>\n",
       "  </thead>\n",
       "  <tbody>\n",
       "    <tr>\n",
       "      <th>0</th>\n",
       "      <td>1998.0</td>\n",
       "      <td>137.0</td>\n",
       "      <td>3422.0</td>\n",
       "      <td>46.0</td>\n",
       "      <td>3104.0</td>\n",
       "      <td>94.0</td>\n",
       "      <td>0.0</td>\n",
       "      <td>15.0</td>\n",
       "      <td>2.0</td>\n",
       "      <td>0.703704</td>\n",
       "      <td>6.111111</td>\n",
       "      <td>0.700000</td>\n",
       "      <td>13.433333</td>\n",
       "    </tr>\n",
       "    <tr>\n",
       "      <th>1</th>\n",
       "      <td>1998.0</td>\n",
       "      <td>137.0</td>\n",
       "      <td>3112.0</td>\n",
       "      <td>75.0</td>\n",
       "      <td>3365.0</td>\n",
       "      <td>63.0</td>\n",
       "      <td>0.0</td>\n",
       "      <td>3.0</td>\n",
       "      <td>14.0</td>\n",
       "      <td>0.777778</td>\n",
       "      <td>12.407407</td>\n",
       "      <td>0.785714</td>\n",
       "      <td>17.821429</td>\n",
       "    </tr>\n",
       "    <tr>\n",
       "      <th>2</th>\n",
       "      <td>1998.0</td>\n",
       "      <td>137.0</td>\n",
       "      <td>3163.0</td>\n",
       "      <td>93.0</td>\n",
       "      <td>3193.0</td>\n",
       "      <td>52.0</td>\n",
       "      <td>0.0</td>\n",
       "      <td>2.0</td>\n",
       "      <td>15.0</td>\n",
       "      <td>0.937500</td>\n",
       "      <td>24.875000</td>\n",
       "      <td>0.714286</td>\n",
       "      <td>5.071429</td>\n",
       "    </tr>\n",
       "    <tr>\n",
       "      <th>3</th>\n",
       "      <td>1998.0</td>\n",
       "      <td>137.0</td>\n",
       "      <td>3198.0</td>\n",
       "      <td>59.0</td>\n",
       "      <td>3266.0</td>\n",
       "      <td>45.0</td>\n",
       "      <td>0.0</td>\n",
       "      <td>7.0</td>\n",
       "      <td>10.0</td>\n",
       "      <td>0.965517</td>\n",
       "      <td>25.103448</td>\n",
       "      <td>0.769231</td>\n",
       "      <td>9.538462</td>\n",
       "    </tr>\n",
       "    <tr>\n",
       "      <th>4</th>\n",
       "      <td>1998.0</td>\n",
       "      <td>137.0</td>\n",
       "      <td>3208.0</td>\n",
       "      <td>72.0</td>\n",
       "      <td>3203.0</td>\n",
       "      <td>74.0</td>\n",
       "      <td>0.0</td>\n",
       "      <td>7.0</td>\n",
       "      <td>10.0</td>\n",
       "      <td>0.653846</td>\n",
       "      <td>4.730769</td>\n",
       "      <td>0.653846</td>\n",
       "      <td>9.653846</td>\n",
       "    </tr>\n",
       "  </tbody>\n",
       "</table>\n",
       "</div>"
      ],
      "text/plain": [
       "   Season  DayNum  TeamIdA  ScoreA  TeamIdB  ScoreB  Round  SeedA  SeedB  \\\n",
       "0  1998.0   137.0   3422.0    46.0   3104.0    94.0    0.0   15.0    2.0   \n",
       "1  1998.0   137.0   3112.0    75.0   3365.0    63.0    0.0    3.0   14.0   \n",
       "2  1998.0   137.0   3163.0    93.0   3193.0    52.0    0.0    2.0   15.0   \n",
       "3  1998.0   137.0   3198.0    59.0   3266.0    45.0    0.0    7.0   10.0   \n",
       "4  1998.0   137.0   3208.0    72.0   3203.0    74.0    0.0    7.0   10.0   \n",
       "\n",
       "   WinRatioA    GapAvgA  WinRatioB    GapAvgB  \n",
       "0   0.703704   6.111111   0.700000  13.433333  \n",
       "1   0.777778  12.407407   0.785714  17.821429  \n",
       "2   0.937500  24.875000   0.714286   5.071429  \n",
       "3   0.965517  25.103448   0.769231   9.538462  \n",
       "4   0.653846   4.730769   0.653846   9.653846  "
      ]
     },
     "execution_count": 93,
     "metadata": {},
     "output_type": "execute_result"
    }
   ],
   "source": [
    "df=df.apply(canvia, axis=1)\n",
    "df.head()"
   ]
  },
  {
   "cell_type": "markdown",
   "metadata": {
    "id": "dkpPSwbTQ1hK"
   },
   "source": [
    "### Differences\n",
    "\n",
    "S'afegeixen tres columnes que siguin la diferencia entre Seeds, WinRatio i GapAvg. \n",
    "\n",
    "Això ajudarà a veure com de millor (o pitjor) és l'equip A que el  B. \n"
   ]
  },
  {
   "cell_type": "code",
   "execution_count": 94,
   "metadata": {
    "colab": {
     "base_uri": "https://localhost:8080/",
     "height": 270
    },
    "id": "sqrUnWmNP57v",
    "outputId": "d4ed4b16-750d-43f9-d622-13351b872ec4"
   },
   "outputs": [
    {
     "data": {
      "text/html": [
       "<div>\n",
       "<style scoped>\n",
       "    .dataframe tbody tr th:only-of-type {\n",
       "        vertical-align: middle;\n",
       "    }\n",
       "\n",
       "    .dataframe tbody tr th {\n",
       "        vertical-align: top;\n",
       "    }\n",
       "\n",
       "    .dataframe thead th {\n",
       "        text-align: right;\n",
       "    }\n",
       "</style>\n",
       "<table border=\"1\" class=\"dataframe\">\n",
       "  <thead>\n",
       "    <tr style=\"text-align: right;\">\n",
       "      <th></th>\n",
       "      <th>Season</th>\n",
       "      <th>DayNum</th>\n",
       "      <th>TeamIdA</th>\n",
       "      <th>ScoreA</th>\n",
       "      <th>TeamIdB</th>\n",
       "      <th>ScoreB</th>\n",
       "      <th>Round</th>\n",
       "      <th>SeedA</th>\n",
       "      <th>SeedB</th>\n",
       "      <th>WinRatioA</th>\n",
       "      <th>GapAvgA</th>\n",
       "      <th>WinRatioB</th>\n",
       "      <th>GapAvgB</th>\n",
       "      <th>SeedDiff</th>\n",
       "      <th>WinRatioDiff</th>\n",
       "      <th>GapAvgDiff</th>\n",
       "    </tr>\n",
       "  </thead>\n",
       "  <tbody>\n",
       "    <tr>\n",
       "      <th>0</th>\n",
       "      <td>1998.0</td>\n",
       "      <td>137.0</td>\n",
       "      <td>3422.0</td>\n",
       "      <td>46.0</td>\n",
       "      <td>3104.0</td>\n",
       "      <td>94.0</td>\n",
       "      <td>0.0</td>\n",
       "      <td>15.0</td>\n",
       "      <td>2.0</td>\n",
       "      <td>0.703704</td>\n",
       "      <td>6.111111</td>\n",
       "      <td>0.700000</td>\n",
       "      <td>13.433333</td>\n",
       "      <td>13.0</td>\n",
       "      <td>0.003704</td>\n",
       "      <td>-7.322222</td>\n",
       "    </tr>\n",
       "    <tr>\n",
       "      <th>1</th>\n",
       "      <td>1998.0</td>\n",
       "      <td>137.0</td>\n",
       "      <td>3112.0</td>\n",
       "      <td>75.0</td>\n",
       "      <td>3365.0</td>\n",
       "      <td>63.0</td>\n",
       "      <td>0.0</td>\n",
       "      <td>3.0</td>\n",
       "      <td>14.0</td>\n",
       "      <td>0.777778</td>\n",
       "      <td>12.407407</td>\n",
       "      <td>0.785714</td>\n",
       "      <td>17.821429</td>\n",
       "      <td>-11.0</td>\n",
       "      <td>-0.007937</td>\n",
       "      <td>-5.414021</td>\n",
       "    </tr>\n",
       "    <tr>\n",
       "      <th>2</th>\n",
       "      <td>1998.0</td>\n",
       "      <td>137.0</td>\n",
       "      <td>3163.0</td>\n",
       "      <td>93.0</td>\n",
       "      <td>3193.0</td>\n",
       "      <td>52.0</td>\n",
       "      <td>0.0</td>\n",
       "      <td>2.0</td>\n",
       "      <td>15.0</td>\n",
       "      <td>0.937500</td>\n",
       "      <td>24.875000</td>\n",
       "      <td>0.714286</td>\n",
       "      <td>5.071429</td>\n",
       "      <td>-13.0</td>\n",
       "      <td>0.223214</td>\n",
       "      <td>19.803571</td>\n",
       "    </tr>\n",
       "    <tr>\n",
       "      <th>3</th>\n",
       "      <td>1998.0</td>\n",
       "      <td>137.0</td>\n",
       "      <td>3198.0</td>\n",
       "      <td>59.0</td>\n",
       "      <td>3266.0</td>\n",
       "      <td>45.0</td>\n",
       "      <td>0.0</td>\n",
       "      <td>7.0</td>\n",
       "      <td>10.0</td>\n",
       "      <td>0.965517</td>\n",
       "      <td>25.103448</td>\n",
       "      <td>0.769231</td>\n",
       "      <td>9.538462</td>\n",
       "      <td>-3.0</td>\n",
       "      <td>0.196286</td>\n",
       "      <td>15.564987</td>\n",
       "    </tr>\n",
       "    <tr>\n",
       "      <th>4</th>\n",
       "      <td>1998.0</td>\n",
       "      <td>137.0</td>\n",
       "      <td>3208.0</td>\n",
       "      <td>72.0</td>\n",
       "      <td>3203.0</td>\n",
       "      <td>74.0</td>\n",
       "      <td>0.0</td>\n",
       "      <td>7.0</td>\n",
       "      <td>10.0</td>\n",
       "      <td>0.653846</td>\n",
       "      <td>4.730769</td>\n",
       "      <td>0.653846</td>\n",
       "      <td>9.653846</td>\n",
       "      <td>-3.0</td>\n",
       "      <td>0.000000</td>\n",
       "      <td>-4.923077</td>\n",
       "    </tr>\n",
       "  </tbody>\n",
       "</table>\n",
       "</div>"
      ],
      "text/plain": [
       "   Season  DayNum  TeamIdA  ScoreA  TeamIdB  ScoreB  Round  SeedA  SeedB  \\\n",
       "0  1998.0   137.0   3422.0    46.0   3104.0    94.0    0.0   15.0    2.0   \n",
       "1  1998.0   137.0   3112.0    75.0   3365.0    63.0    0.0    3.0   14.0   \n",
       "2  1998.0   137.0   3163.0    93.0   3193.0    52.0    0.0    2.0   15.0   \n",
       "3  1998.0   137.0   3198.0    59.0   3266.0    45.0    0.0    7.0   10.0   \n",
       "4  1998.0   137.0   3208.0    72.0   3203.0    74.0    0.0    7.0   10.0   \n",
       "\n",
       "   WinRatioA    GapAvgA  WinRatioB    GapAvgB  SeedDiff  WinRatioDiff  \\\n",
       "0   0.703704   6.111111   0.700000  13.433333      13.0      0.003704   \n",
       "1   0.777778  12.407407   0.785714  17.821429     -11.0     -0.007937   \n",
       "2   0.937500  24.875000   0.714286   5.071429     -13.0      0.223214   \n",
       "3   0.965517  25.103448   0.769231   9.538462      -3.0      0.196286   \n",
       "4   0.653846   4.730769   0.653846   9.653846      -3.0      0.000000   \n",
       "\n",
       "   GapAvgDiff  \n",
       "0   -7.322222  \n",
       "1   -5.414021  \n",
       "2   19.803571  \n",
       "3   15.564987  \n",
       "4   -4.923077  "
      ]
     },
     "execution_count": 94,
     "metadata": {},
     "output_type": "execute_result"
    }
   ],
   "source": [
    "df['SeedDiff'] = df['SeedA'] - df['SeedB']\n",
    "df['WinRatioDiff'] = df['WinRatioA'] - df['WinRatioB']\n",
    "df['GapAvgDiff'] = df['GapAvgA'] - df['GapAvgB']\n",
    "df.head()"
   ]
  },
  {
   "cell_type": "markdown",
   "metadata": {
    "id": "UVpntzGOKLpH"
   },
   "source": [
    "### Target\n",
    "\n",
    "1: l'equip A ha guanyat a l'equip B\n",
    "\n",
    "0: l'equip A ha perdut contra l'equip B\n"
   ]
  },
  {
   "cell_type": "code",
   "execution_count": 95,
   "metadata": {
    "id": "6EO5oeRJJ8QF"
   },
   "outputs": [],
   "source": [
    "df['ScoreDiff'] = df['ScoreA'] - df['ScoreB']\n",
    "df['WinA'] = (df['ScoreDiff'] > 0).astype(int)"
   ]
  },
  {
   "cell_type": "code",
   "execution_count": 96,
   "metadata": {
    "colab": {
     "base_uri": "https://localhost:8080/",
     "height": 270
    },
    "id": "8Q7hofMiKpqb",
    "outputId": "94d09db2-1afb-4fe4-f4b7-064617fa90ff"
   },
   "outputs": [
    {
     "data": {
      "text/html": [
       "<div>\n",
       "<style scoped>\n",
       "    .dataframe tbody tr th:only-of-type {\n",
       "        vertical-align: middle;\n",
       "    }\n",
       "\n",
       "    .dataframe tbody tr th {\n",
       "        vertical-align: top;\n",
       "    }\n",
       "\n",
       "    .dataframe thead th {\n",
       "        text-align: right;\n",
       "    }\n",
       "</style>\n",
       "<table border=\"1\" class=\"dataframe\">\n",
       "  <thead>\n",
       "    <tr style=\"text-align: right;\">\n",
       "      <th></th>\n",
       "      <th>Season</th>\n",
       "      <th>DayNum</th>\n",
       "      <th>TeamIdA</th>\n",
       "      <th>ScoreA</th>\n",
       "      <th>TeamIdB</th>\n",
       "      <th>ScoreB</th>\n",
       "      <th>Round</th>\n",
       "      <th>SeedA</th>\n",
       "      <th>SeedB</th>\n",
       "      <th>WinRatioA</th>\n",
       "      <th>GapAvgA</th>\n",
       "      <th>WinRatioB</th>\n",
       "      <th>GapAvgB</th>\n",
       "      <th>SeedDiff</th>\n",
       "      <th>WinRatioDiff</th>\n",
       "      <th>GapAvgDiff</th>\n",
       "      <th>ScoreDiff</th>\n",
       "      <th>WinA</th>\n",
       "    </tr>\n",
       "  </thead>\n",
       "  <tbody>\n",
       "    <tr>\n",
       "      <th>0</th>\n",
       "      <td>1998.0</td>\n",
       "      <td>137.0</td>\n",
       "      <td>3422.0</td>\n",
       "      <td>46.0</td>\n",
       "      <td>3104.0</td>\n",
       "      <td>94.0</td>\n",
       "      <td>0.0</td>\n",
       "      <td>15.0</td>\n",
       "      <td>2.0</td>\n",
       "      <td>0.703704</td>\n",
       "      <td>6.111111</td>\n",
       "      <td>0.700000</td>\n",
       "      <td>13.433333</td>\n",
       "      <td>13.0</td>\n",
       "      <td>0.003704</td>\n",
       "      <td>-7.322222</td>\n",
       "      <td>-48.0</td>\n",
       "      <td>0</td>\n",
       "    </tr>\n",
       "    <tr>\n",
       "      <th>1</th>\n",
       "      <td>1998.0</td>\n",
       "      <td>137.0</td>\n",
       "      <td>3112.0</td>\n",
       "      <td>75.0</td>\n",
       "      <td>3365.0</td>\n",
       "      <td>63.0</td>\n",
       "      <td>0.0</td>\n",
       "      <td>3.0</td>\n",
       "      <td>14.0</td>\n",
       "      <td>0.777778</td>\n",
       "      <td>12.407407</td>\n",
       "      <td>0.785714</td>\n",
       "      <td>17.821429</td>\n",
       "      <td>-11.0</td>\n",
       "      <td>-0.007937</td>\n",
       "      <td>-5.414021</td>\n",
       "      <td>12.0</td>\n",
       "      <td>1</td>\n",
       "    </tr>\n",
       "    <tr>\n",
       "      <th>2</th>\n",
       "      <td>1998.0</td>\n",
       "      <td>137.0</td>\n",
       "      <td>3163.0</td>\n",
       "      <td>93.0</td>\n",
       "      <td>3193.0</td>\n",
       "      <td>52.0</td>\n",
       "      <td>0.0</td>\n",
       "      <td>2.0</td>\n",
       "      <td>15.0</td>\n",
       "      <td>0.937500</td>\n",
       "      <td>24.875000</td>\n",
       "      <td>0.714286</td>\n",
       "      <td>5.071429</td>\n",
       "      <td>-13.0</td>\n",
       "      <td>0.223214</td>\n",
       "      <td>19.803571</td>\n",
       "      <td>41.0</td>\n",
       "      <td>1</td>\n",
       "    </tr>\n",
       "    <tr>\n",
       "      <th>3</th>\n",
       "      <td>1998.0</td>\n",
       "      <td>137.0</td>\n",
       "      <td>3198.0</td>\n",
       "      <td>59.0</td>\n",
       "      <td>3266.0</td>\n",
       "      <td>45.0</td>\n",
       "      <td>0.0</td>\n",
       "      <td>7.0</td>\n",
       "      <td>10.0</td>\n",
       "      <td>0.965517</td>\n",
       "      <td>25.103448</td>\n",
       "      <td>0.769231</td>\n",
       "      <td>9.538462</td>\n",
       "      <td>-3.0</td>\n",
       "      <td>0.196286</td>\n",
       "      <td>15.564987</td>\n",
       "      <td>14.0</td>\n",
       "      <td>1</td>\n",
       "    </tr>\n",
       "    <tr>\n",
       "      <th>4</th>\n",
       "      <td>1998.0</td>\n",
       "      <td>137.0</td>\n",
       "      <td>3208.0</td>\n",
       "      <td>72.0</td>\n",
       "      <td>3203.0</td>\n",
       "      <td>74.0</td>\n",
       "      <td>0.0</td>\n",
       "      <td>7.0</td>\n",
       "      <td>10.0</td>\n",
       "      <td>0.653846</td>\n",
       "      <td>4.730769</td>\n",
       "      <td>0.653846</td>\n",
       "      <td>9.653846</td>\n",
       "      <td>-3.0</td>\n",
       "      <td>0.000000</td>\n",
       "      <td>-4.923077</td>\n",
       "      <td>-2.0</td>\n",
       "      <td>0</td>\n",
       "    </tr>\n",
       "  </tbody>\n",
       "</table>\n",
       "</div>"
      ],
      "text/plain": [
       "   Season  DayNum  TeamIdA  ScoreA  TeamIdB  ScoreB  Round  SeedA  SeedB  \\\n",
       "0  1998.0   137.0   3422.0    46.0   3104.0    94.0    0.0   15.0    2.0   \n",
       "1  1998.0   137.0   3112.0    75.0   3365.0    63.0    0.0    3.0   14.0   \n",
       "2  1998.0   137.0   3163.0    93.0   3193.0    52.0    0.0    2.0   15.0   \n",
       "3  1998.0   137.0   3198.0    59.0   3266.0    45.0    0.0    7.0   10.0   \n",
       "4  1998.0   137.0   3208.0    72.0   3203.0    74.0    0.0    7.0   10.0   \n",
       "\n",
       "   WinRatioA    GapAvgA  WinRatioB    GapAvgB  SeedDiff  WinRatioDiff  \\\n",
       "0   0.703704   6.111111   0.700000  13.433333      13.0      0.003704   \n",
       "1   0.777778  12.407407   0.785714  17.821429     -11.0     -0.007937   \n",
       "2   0.937500  24.875000   0.714286   5.071429     -13.0      0.223214   \n",
       "3   0.965517  25.103448   0.769231   9.538462      -3.0      0.196286   \n",
       "4   0.653846   4.730769   0.653846   9.653846      -3.0      0.000000   \n",
       "\n",
       "   GapAvgDiff  ScoreDiff  WinA  \n",
       "0   -7.322222      -48.0     0  \n",
       "1   -5.414021       12.0     1  \n",
       "2   19.803571       41.0     1  \n",
       "3   15.564987       14.0     1  \n",
       "4   -4.923077       -2.0     0  "
      ]
     },
     "execution_count": 96,
     "metadata": {},
     "output_type": "execute_result"
    }
   ],
   "source": [
    "df.head()"
   ]
  },
  {
   "cell_type": "code",
   "execution_count": 97,
   "metadata": {
    "id": "r3Wco19COdbQ"
   },
   "outputs": [],
   "source": [
    "#guardar df a un csv\n",
    "df.to_csv('Dades/WNCAA df', index=False)"
   ]
  },
  {
   "cell_type": "markdown",
   "metadata": {
    "id": "wFGnbh5uyVQD"
   },
   "source": [
    "## Test Data"
   ]
  },
  {
   "cell_type": "code",
   "execution_count": 98,
   "metadata": {
    "colab": {
     "base_uri": "https://localhost:8080/",
     "height": 206
    },
    "id": "oXmMAoI5yWf0",
    "outputId": "a53e79bd-18ad-456b-e82a-df3ef8ad9a6d"
   },
   "outputs": [
    {
     "data": {
      "text/html": [
       "<div>\n",
       "<style scoped>\n",
       "    .dataframe tbody tr th:only-of-type {\n",
       "        vertical-align: middle;\n",
       "    }\n",
       "\n",
       "    .dataframe tbody tr th {\n",
       "        vertical-align: top;\n",
       "    }\n",
       "\n",
       "    .dataframe thead th {\n",
       "        text-align: right;\n",
       "    }\n",
       "</style>\n",
       "<table border=\"1\" class=\"dataframe\">\n",
       "  <thead>\n",
       "    <tr style=\"text-align: right;\">\n",
       "      <th></th>\n",
       "      <th>ID</th>\n",
       "      <th>Pred</th>\n",
       "      <th>Season</th>\n",
       "      <th>TeamIdA</th>\n",
       "      <th>TeamIdB</th>\n",
       "    </tr>\n",
       "  </thead>\n",
       "  <tbody>\n",
       "    <tr>\n",
       "      <th>0</th>\n",
       "      <td>2021_3104_3112</td>\n",
       "      <td>0.5</td>\n",
       "      <td>2021</td>\n",
       "      <td>3104</td>\n",
       "      <td>3112</td>\n",
       "    </tr>\n",
       "    <tr>\n",
       "      <th>1</th>\n",
       "      <td>2021_3104_3116</td>\n",
       "      <td>0.5</td>\n",
       "      <td>2021</td>\n",
       "      <td>3104</td>\n",
       "      <td>3116</td>\n",
       "    </tr>\n",
       "    <tr>\n",
       "      <th>2</th>\n",
       "      <td>2021_3104_3124</td>\n",
       "      <td>0.5</td>\n",
       "      <td>2021</td>\n",
       "      <td>3104</td>\n",
       "      <td>3124</td>\n",
       "    </tr>\n",
       "    <tr>\n",
       "      <th>3</th>\n",
       "      <td>2021_3104_3125</td>\n",
       "      <td>0.5</td>\n",
       "      <td>2021</td>\n",
       "      <td>3104</td>\n",
       "      <td>3125</td>\n",
       "    </tr>\n",
       "    <tr>\n",
       "      <th>4</th>\n",
       "      <td>2021_3104_3133</td>\n",
       "      <td>0.5</td>\n",
       "      <td>2021</td>\n",
       "      <td>3104</td>\n",
       "      <td>3133</td>\n",
       "    </tr>\n",
       "  </tbody>\n",
       "</table>\n",
       "</div>"
      ],
      "text/plain": [
       "               ID  Pred  Season  TeamIdA  TeamIdB\n",
       "0  2021_3104_3112   0.5    2021     3104     3112\n",
       "1  2021_3104_3116   0.5    2021     3104     3116\n",
       "2  2021_3104_3124   0.5    2021     3104     3124\n",
       "3  2021_3104_3125   0.5    2021     3104     3125\n",
       "4  2021_3104_3133   0.5    2021     3104     3133"
      ]
     },
     "execution_count": 98,
     "metadata": {},
     "output_type": "execute_result"
    }
   ],
   "source": [
    "df_test = pd.read_csv('Dades/WSampleSubmissionStage2.csv')\n",
    "df_test['Season'] = df_test['ID'].apply(lambda x: int(x.split('_')[0]))\n",
    "df_test['TeamIdA'] = df_test['ID'].apply(lambda x: int(x.split('_')[1]))\n",
    "df_test['TeamIdB'] = df_test['ID'].apply(lambda x: int(x.split('_')[2]))\n",
    "df_test.head()"
   ]
  },
  {
   "cell_type": "markdown",
   "metadata": {
    "id": "1uEByckazdMQ"
   },
   "source": [
    "afegir la informació de seeds"
   ]
  },
  {
   "cell_type": "code",
   "execution_count": 99,
   "metadata": {
    "id": "9WiUq5s5pjlQ"
   },
   "outputs": [],
   "source": [
    "df_test= pd.merge(df_test, seeds, how='left', left_on=['Season', 'TeamIdA'], right_on=['Season', 'TeamID']).drop('TeamID', axis=1).rename(columns={'Seed': 'SeedA'})\n",
    "df_test= pd.merge(df_test, seeds, how='left', left_on=['Season','TeamIdB'], right_on=['Season', 'TeamID']).drop('TeamID', axis=1).rename(columns={'Seed':'SeedB'})"
   ]
  },
  {
   "cell_type": "code",
   "execution_count": 100,
   "metadata": {
    "id": "HTNW--bOy6S_"
   },
   "outputs": [],
   "source": [
    "df_test['SeedA'] = df_test['SeedA'].apply(treat_seed)\n",
    "df_test['SeedB'] = df_test['SeedB'].apply(treat_seed)"
   ]
  },
  {
   "cell_type": "markdown",
   "metadata": {
    "id": "UBVA3m8bzhFD"
   },
   "source": [
    "afegir la informació de features_season"
   ]
  },
  {
   "cell_type": "code",
   "execution_count": 101,
   "metadata": {
    "id": "uTWUlMllzPHo"
   },
   "outputs": [],
   "source": [
    "df_test=pd.merge(df_test, features_season, how='left', left_on=['Season', 'TeamIdA'], right_on=['Season', 'TeamID']).rename(columns={'WinRatio': 'WinRatioA', 'GapAvg': 'GapAvgA'}).drop(columns='TeamID', axis=1)\n",
    "df_test=pd.merge(df_test, features_season, how='left', left_on=['Season', 'TeamIdB'], right_on=['Season', 'TeamID']).rename(columns={'WinRatio': 'WinRatioB', 'GapAvg': 'GapAvgB'}).drop(columns='TeamID', axis=1)"
   ]
  },
  {
   "cell_type": "markdown",
   "metadata": {
    "id": "jRkLK8gpzjvU"
   },
   "source": [
    "afegir differences"
   ]
  },
  {
   "cell_type": "code",
   "execution_count": 102,
   "metadata": {
    "id": "DhOmict1zRrj"
   },
   "outputs": [],
   "source": [
    "df_test['SeedDiff'] = df_test['SeedA'] - df_test['SeedB']\n",
    "df_test['WinRatioDiff'] = df_test['WinRatioA'] - df_test['WinRatioB']\n",
    "df_test['GapAvgDiff'] = df_test['GapAvgA'] - df_test['GapAvgB']"
   ]
  },
  {
   "cell_type": "code",
   "execution_count": 103,
   "metadata": {
    "colab": {
     "base_uri": "https://localhost:8080/",
     "height": 206
    },
    "id": "Sj7J1jnOzql5",
    "outputId": "e5cae2d0-33ea-43ec-e4f6-9cd76942a462"
   },
   "outputs": [
    {
     "data": {
      "text/html": [
       "<div>\n",
       "<style scoped>\n",
       "    .dataframe tbody tr th:only-of-type {\n",
       "        vertical-align: middle;\n",
       "    }\n",
       "\n",
       "    .dataframe tbody tr th {\n",
       "        vertical-align: top;\n",
       "    }\n",
       "\n",
       "    .dataframe thead th {\n",
       "        text-align: right;\n",
       "    }\n",
       "</style>\n",
       "<table border=\"1\" class=\"dataframe\">\n",
       "  <thead>\n",
       "    <tr style=\"text-align: right;\">\n",
       "      <th></th>\n",
       "      <th>ID</th>\n",
       "      <th>Pred</th>\n",
       "      <th>Season</th>\n",
       "      <th>TeamIdA</th>\n",
       "      <th>TeamIdB</th>\n",
       "      <th>SeedA</th>\n",
       "      <th>SeedB</th>\n",
       "      <th>WinRatioA</th>\n",
       "      <th>GapAvgA</th>\n",
       "      <th>WinRatioB</th>\n",
       "      <th>GapAvgB</th>\n",
       "      <th>SeedDiff</th>\n",
       "      <th>WinRatioDiff</th>\n",
       "      <th>GapAvgDiff</th>\n",
       "    </tr>\n",
       "  </thead>\n",
       "  <tbody>\n",
       "    <tr>\n",
       "      <th>0</th>\n",
       "      <td>2021_3104_3112</td>\n",
       "      <td>0.5</td>\n",
       "      <td>2021</td>\n",
       "      <td>3104</td>\n",
       "      <td>3112</td>\n",
       "      <td>7</td>\n",
       "      <td>3</td>\n",
       "      <td>0.64</td>\n",
       "      <td>4.76</td>\n",
       "      <td>0.761905</td>\n",
       "      <td>10.523810</td>\n",
       "      <td>4</td>\n",
       "      <td>-0.121905</td>\n",
       "      <td>-5.763810</td>\n",
       "    </tr>\n",
       "    <tr>\n",
       "      <th>1</th>\n",
       "      <td>2021_3104_3116</td>\n",
       "      <td>0.5</td>\n",
       "      <td>2021</td>\n",
       "      <td>3104</td>\n",
       "      <td>3116</td>\n",
       "      <td>7</td>\n",
       "      <td>4</td>\n",
       "      <td>0.64</td>\n",
       "      <td>4.76</td>\n",
       "      <td>0.703704</td>\n",
       "      <td>9.000000</td>\n",
       "      <td>3</td>\n",
       "      <td>-0.063704</td>\n",
       "      <td>-4.240000</td>\n",
       "    </tr>\n",
       "    <tr>\n",
       "      <th>2</th>\n",
       "      <td>2021_3104_3124</td>\n",
       "      <td>0.5</td>\n",
       "      <td>2021</td>\n",
       "      <td>3104</td>\n",
       "      <td>3124</td>\n",
       "      <td>7</td>\n",
       "      <td>2</td>\n",
       "      <td>0.64</td>\n",
       "      <td>4.76</td>\n",
       "      <td>0.925926</td>\n",
       "      <td>27.111111</td>\n",
       "      <td>5</td>\n",
       "      <td>-0.285926</td>\n",
       "      <td>-22.351111</td>\n",
       "    </tr>\n",
       "    <tr>\n",
       "      <th>3</th>\n",
       "      <td>2021_3104_3125</td>\n",
       "      <td>0.5</td>\n",
       "      <td>2021</td>\n",
       "      <td>3104</td>\n",
       "      <td>3125</td>\n",
       "      <td>7</td>\n",
       "      <td>12</td>\n",
       "      <td>0.64</td>\n",
       "      <td>4.76</td>\n",
       "      <td>0.800000</td>\n",
       "      <td>12.320000</td>\n",
       "      <td>-5</td>\n",
       "      <td>-0.160000</td>\n",
       "      <td>-7.560000</td>\n",
       "    </tr>\n",
       "    <tr>\n",
       "      <th>4</th>\n",
       "      <td>2021_3104_3133</td>\n",
       "      <td>0.5</td>\n",
       "      <td>2021</td>\n",
       "      <td>3104</td>\n",
       "      <td>3133</td>\n",
       "      <td>7</td>\n",
       "      <td>11</td>\n",
       "      <td>0.64</td>\n",
       "      <td>4.76</td>\n",
       "      <td>0.592593</td>\n",
       "      <td>4.592593</td>\n",
       "      <td>-4</td>\n",
       "      <td>0.047407</td>\n",
       "      <td>0.167407</td>\n",
       "    </tr>\n",
       "  </tbody>\n",
       "</table>\n",
       "</div>"
      ],
      "text/plain": [
       "               ID  Pred  Season  TeamIdA  TeamIdB  SeedA  SeedB  WinRatioA  \\\n",
       "0  2021_3104_3112   0.5    2021     3104     3112      7      3       0.64   \n",
       "1  2021_3104_3116   0.5    2021     3104     3116      7      4       0.64   \n",
       "2  2021_3104_3124   0.5    2021     3104     3124      7      2       0.64   \n",
       "3  2021_3104_3125   0.5    2021     3104     3125      7     12       0.64   \n",
       "4  2021_3104_3133   0.5    2021     3104     3133      7     11       0.64   \n",
       "\n",
       "   GapAvgA  WinRatioB    GapAvgB  SeedDiff  WinRatioDiff  GapAvgDiff  \n",
       "0     4.76   0.761905  10.523810         4     -0.121905   -5.763810  \n",
       "1     4.76   0.703704   9.000000         3     -0.063704   -4.240000  \n",
       "2     4.76   0.925926  27.111111         5     -0.285926  -22.351111  \n",
       "3     4.76   0.800000  12.320000        -5     -0.160000   -7.560000  \n",
       "4     4.76   0.592593   4.592593        -4      0.047407    0.167407  "
      ]
     },
     "execution_count": 103,
     "metadata": {},
     "output_type": "execute_result"
    }
   ],
   "source": [
    "df_test.head()"
   ]
  },
  {
   "cell_type": "code",
   "execution_count": 104,
   "metadata": {
    "id": "e3cp4Kg_zUYr"
   },
   "outputs": [],
   "source": [
    "#guardar df_test a un csv\n",
    "df_test.to_csv('Dades/WNCAA df_test.csv', index=False)"
   ]
  }
 ],
 "metadata": {
  "colab": {
   "collapsed_sections": [],
   "name": "WNCAA Data preparation, Feature Engineering, Test Data",
   "provenance": []
  },
  "kernelspec": {
   "display_name": "Python 3 (ipykernel)",
   "language": "python",
   "name": "python3"
  },
  "language_info": {
   "codemirror_mode": {
    "name": "ipython",
    "version": 3
   },
   "file_extension": ".py",
   "mimetype": "text/x-python",
   "name": "python",
   "nbconvert_exporter": "python",
   "pygments_lexer": "ipython3",
   "version": "3.9.7"
  }
 },
 "nbformat": 4,
 "nbformat_minor": 1
}
