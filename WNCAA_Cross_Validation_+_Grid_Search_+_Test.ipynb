{
 "cells": [
  {
   "cell_type": "markdown",
   "metadata": {
    "id": "0NO-agty9BiR"
   },
   "source": [
    "# Classification"
   ]
  },
  {
   "cell_type": "code",
   "execution_count": 20,
   "metadata": {
    "colab": {
     "base_uri": "https://localhost:8080/"
    },
    "id": "QWTMYYkW84mC",
    "outputId": "10e7fc74-326d-4336-da86-cca859be8282"
   },
   "outputs": [],
   "source": [
    "import sklearn\n",
    "import numpy as np \n",
    "import pandas as pd\n",
    "import matplotlib.pyplot as plt"
   ]
  },
  {
   "cell_type": "code",
   "execution_count": 21,
   "metadata": {
    "id": "bUEJJndU9K4g"
   },
   "outputs": [],
   "source": [
    "df = pd.read_csv('Dades/WNCAA df')"
   ]
  },
  {
   "cell_type": "code",
   "execution_count": 22,
   "metadata": {
    "id": "Ihc1Vw9Byimv"
   },
   "outputs": [],
   "source": [
    "df.drop(['ScoreA','ScoreB','ScoreDiff', 'DayNum', 'Round'], axis=1, inplace=True)"
   ]
  },
  {
   "cell_type": "markdown",
   "metadata": {
    "id": "TCCaDar4X4P2"
   },
   "source": [
    "Es té la sospita de que els atributs TeamIdA i TeamIdB, a l'estar  codificats numèricament, poden aportar soroll al model, ja que es pot confondre. \n",
    "\n",
    "Es planteja l'opció de treure'ls."
   ]
  },
  {
   "cell_type": "code",
   "execution_count": 23,
   "metadata": {
    "id": "Wi2oCF5V_Qu7"
   },
   "outputs": [],
   "source": [
    "from sklearn.preprocessing import MinMaxScaler\n",
    "scaler = MinMaxScaler()\n",
    "scaler.fit(df)\n",
    "dt_scaled=scaler.transform(df)\n",
    "df_scaled=pd.DataFrame(dt_scaled, columns=df.columns)\n",
    "\n",
    "from sklearn.utils import shuffle\n",
    "np.random.seed(1234) #perque desordeni les dades sempre igual\n",
    "dt = pd.DataFrame(shuffle(df_scaled))"
   ]
  },
  {
   "cell_type": "code",
   "execution_count": 24,
   "metadata": {
    "id": "9_NxpgS4uxiU"
   },
   "outputs": [],
   "source": [
    "X=dt.iloc[:,:-1]\n",
    "y=dt.iloc[:,-1]"
   ]
  },
  {
   "cell_type": "markdown",
   "metadata": {
    "id": "NT9ac749-e58"
   },
   "source": [
    "## **Model evaluation using cross_val_score**\n",
    "\n",
    "cross_val_score uses statifield kfold by default"
   ]
  },
  {
   "cell_type": "code",
   "execution_count": 25,
   "metadata": {
    "id": "SwMavNiH46QC"
   },
   "outputs": [],
   "source": [
    "from sklearn import tree\n",
    "from sklearn.ensemble import GradientBoostingClassifier\n",
    "from sklearn.naive_bayes import GaussianNB\n",
    "from sklearn.neighbors import KNeighborsClassifier\n",
    "from sklearn.linear_model import LogisticRegression\n",
    "from sklearn.svm import SVC\n",
    "from sklearn.ensemble import RandomForestClassifier\n",
    "\n",
    "from sklearn.model_selection import cross_val_score"
   ]
  },
  {
   "cell_type": "markdown",
   "metadata": {
    "id": "Vphy99uy3cEB"
   },
   "source": [
    "### **Amb els atributs TeamIDA i TeamIDB**"
   ]
  },
  {
   "cell_type": "code",
   "execution_count": 26,
   "metadata": {
    "colab": {
     "base_uri": "https://localhost:8080/",
     "height": 269
    },
    "id": "sqViIRYyAb2H",
    "outputId": "be15da42-2e11-461e-94e9-088a0395f4a1"
   },
   "outputs": [
    {
     "data": {
      "text/html": [
       "<div>\n",
       "<style scoped>\n",
       "    .dataframe tbody tr th:only-of-type {\n",
       "        vertical-align: middle;\n",
       "    }\n",
       "\n",
       "    .dataframe tbody tr th {\n",
       "        vertical-align: top;\n",
       "    }\n",
       "\n",
       "    .dataframe thead th {\n",
       "        text-align: right;\n",
       "    }\n",
       "</style>\n",
       "<table border=\"1\" class=\"dataframe\">\n",
       "  <thead>\n",
       "    <tr style=\"text-align: right;\">\n",
       "      <th></th>\n",
       "      <th>0</th>\n",
       "      <th>1</th>\n",
       "      <th>2</th>\n",
       "      <th>3</th>\n",
       "      <th>4</th>\n",
       "      <th>Method</th>\n",
       "      <th>Mean</th>\n",
       "      <th>Std</th>\n",
       "    </tr>\n",
       "  </thead>\n",
       "  <tbody>\n",
       "    <tr>\n",
       "      <th>0</th>\n",
       "      <td>0.751799</td>\n",
       "      <td>0.790614</td>\n",
       "      <td>0.794224</td>\n",
       "      <td>0.808664</td>\n",
       "      <td>0.808664</td>\n",
       "      <td>Logistic Regression</td>\n",
       "      <td>0.790793</td>\n",
       "      <td>0.020838</td>\n",
       "    </tr>\n",
       "    <tr>\n",
       "      <th>1</th>\n",
       "      <td>0.762590</td>\n",
       "      <td>0.794224</td>\n",
       "      <td>0.794224</td>\n",
       "      <td>0.794224</td>\n",
       "      <td>0.815884</td>\n",
       "      <td>SVM</td>\n",
       "      <td>0.792229</td>\n",
       "      <td>0.017029</td>\n",
       "    </tr>\n",
       "    <tr>\n",
       "      <th>2</th>\n",
       "      <td>0.751799</td>\n",
       "      <td>0.761733</td>\n",
       "      <td>0.768953</td>\n",
       "      <td>0.797834</td>\n",
       "      <td>0.768953</td>\n",
       "      <td>Random Forest</td>\n",
       "      <td>0.769854</td>\n",
       "      <td>0.015339</td>\n",
       "    </tr>\n",
       "    <tr>\n",
       "      <th>3</th>\n",
       "      <td>0.697842</td>\n",
       "      <td>0.801444</td>\n",
       "      <td>0.761733</td>\n",
       "      <td>0.743682</td>\n",
       "      <td>0.761733</td>\n",
       "      <td>KNN</td>\n",
       "      <td>0.753287</td>\n",
       "      <td>0.033551</td>\n",
       "    </tr>\n",
       "    <tr>\n",
       "      <th>4</th>\n",
       "      <td>0.719424</td>\n",
       "      <td>0.682310</td>\n",
       "      <td>0.736462</td>\n",
       "      <td>0.729242</td>\n",
       "      <td>0.714801</td>\n",
       "      <td>Decision Tree</td>\n",
       "      <td>0.716448</td>\n",
       "      <td>0.018661</td>\n",
       "    </tr>\n",
       "    <tr>\n",
       "      <th>5</th>\n",
       "      <td>0.733813</td>\n",
       "      <td>0.761733</td>\n",
       "      <td>0.787004</td>\n",
       "      <td>0.787004</td>\n",
       "      <td>0.779783</td>\n",
       "      <td>Gradient Boosting</td>\n",
       "      <td>0.769867</td>\n",
       "      <td>0.020257</td>\n",
       "    </tr>\n",
       "    <tr>\n",
       "      <th>6</th>\n",
       "      <td>0.755396</td>\n",
       "      <td>0.797834</td>\n",
       "      <td>0.779783</td>\n",
       "      <td>0.779783</td>\n",
       "      <td>0.794224</td>\n",
       "      <td>Naïve Bayes</td>\n",
       "      <td>0.781404</td>\n",
       "      <td>0.014940</td>\n",
       "    </tr>\n",
       "  </tbody>\n",
       "</table>\n",
       "</div>"
      ],
      "text/plain": [
       "          0         1         2         3         4               Method  \\\n",
       "0  0.751799  0.790614  0.794224  0.808664  0.808664  Logistic Regression   \n",
       "1  0.762590  0.794224  0.794224  0.794224  0.815884                  SVM   \n",
       "2  0.751799  0.761733  0.768953  0.797834  0.768953        Random Forest   \n",
       "3  0.697842  0.801444  0.761733  0.743682  0.761733                  KNN   \n",
       "4  0.719424  0.682310  0.736462  0.729242  0.714801        Decision Tree   \n",
       "5  0.733813  0.761733  0.787004  0.787004  0.779783    Gradient Boosting   \n",
       "6  0.755396  0.797834  0.779783  0.779783  0.794224          Naïve Bayes   \n",
       "\n",
       "       Mean       Std  \n",
       "0  0.790793  0.020838  \n",
       "1  0.792229  0.017029  \n",
       "2  0.769854  0.015339  \n",
       "3  0.753287  0.033551  \n",
       "4  0.716448  0.018661  \n",
       "5  0.769867  0.020257  \n",
       "6  0.781404  0.014940  "
      ]
     },
     "execution_count": 26,
     "metadata": {},
     "output_type": "execute_result"
    }
   ],
   "source": [
    "lr = cross_val_score(LogisticRegression(max_iter=1000), X, y)\n",
    "svm = cross_val_score(SVC(), X, y)\n",
    "rf = cross_val_score(RandomForestClassifier(), X, y)\n",
    "knn = cross_val_score(KNeighborsClassifier(), X, y)\n",
    "dtree= cross_val_score(tree.DecisionTreeClassifier(), X, y)\n",
    "gb= cross_val_score(GradientBoostingClassifier(), X, y)\n",
    "gaus= cross_val_score(GaussianNB(), X, y)\n",
    "\n",
    "data=[lr, svm, rf, knn, dtree, gb, gaus]\n",
    "mean=[lr.mean(), svm.mean(), rf.mean(), knn.mean(), dtree.mean(), gb.mean(), gaus.mean()]\n",
    "std=[lr.std(), svm.std(), rf.std(), knn.std(), dtree.std(), gb.std(), gaus.std()]\n",
    "\n",
    "results= pd.DataFrame(data)\n",
    "results['Method']=['Logistic Regression', 'SVM','Random Forest', 'KNN', 'Decision Tree', 'Gradient Boosting', 'Naïve Bayes']\n",
    "results['Mean']= mean\n",
    "results['Std']=std\n",
    "results"
   ]
  },
  {
   "cell_type": "markdown",
   "metadata": {
    "id": "8hosiTbZ3tIO"
   },
   "source": [
    "### **Sense els atributs TeamIDA i TeamIDB**"
   ]
  },
  {
   "cell_type": "code",
   "execution_count": 27,
   "metadata": {
    "id": "87mIvueO5ePg"
   },
   "outputs": [],
   "source": [
    "dt_sense = dt \n",
    "dt_sense.drop(['TeamIdA','TeamIdB'], axis=1, inplace=True)\n",
    "X1=dt_sense.iloc[:,:-1]\n",
    "y1=dt_sense.iloc[:,-1]"
   ]
  },
  {
   "cell_type": "code",
   "execution_count": 28,
   "metadata": {
    "colab": {
     "base_uri": "https://localhost:8080/",
     "height": 269
    },
    "id": "nYhiDwKZ33dI",
    "outputId": "b6eba57a-020f-4223-ca27-064119f187f0"
   },
   "outputs": [
    {
     "data": {
      "text/html": [
       "<div>\n",
       "<style scoped>\n",
       "    .dataframe tbody tr th:only-of-type {\n",
       "        vertical-align: middle;\n",
       "    }\n",
       "\n",
       "    .dataframe tbody tr th {\n",
       "        vertical-align: top;\n",
       "    }\n",
       "\n",
       "    .dataframe thead th {\n",
       "        text-align: right;\n",
       "    }\n",
       "</style>\n",
       "<table border=\"1\" class=\"dataframe\">\n",
       "  <thead>\n",
       "    <tr style=\"text-align: right;\">\n",
       "      <th></th>\n",
       "      <th>0</th>\n",
       "      <th>1</th>\n",
       "      <th>2</th>\n",
       "      <th>3</th>\n",
       "      <th>4</th>\n",
       "      <th>Method</th>\n",
       "      <th>Mean</th>\n",
       "      <th>Std</th>\n",
       "    </tr>\n",
       "  </thead>\n",
       "  <tbody>\n",
       "    <tr>\n",
       "      <th>0</th>\n",
       "      <td>0.758993</td>\n",
       "      <td>0.790614</td>\n",
       "      <td>0.794224</td>\n",
       "      <td>0.801444</td>\n",
       "      <td>0.805054</td>\n",
       "      <td>Logistic Regression</td>\n",
       "      <td>0.790066</td>\n",
       "      <td>0.016354</td>\n",
       "    </tr>\n",
       "    <tr>\n",
       "      <th>1</th>\n",
       "      <td>0.755396</td>\n",
       "      <td>0.787004</td>\n",
       "      <td>0.794224</td>\n",
       "      <td>0.783394</td>\n",
       "      <td>0.801444</td>\n",
       "      <td>SVM</td>\n",
       "      <td>0.784292</td>\n",
       "      <td>0.015723</td>\n",
       "    </tr>\n",
       "    <tr>\n",
       "      <th>2</th>\n",
       "      <td>0.719424</td>\n",
       "      <td>0.761733</td>\n",
       "      <td>0.747292</td>\n",
       "      <td>0.776173</td>\n",
       "      <td>0.761733</td>\n",
       "      <td>Random Forest</td>\n",
       "      <td>0.753271</td>\n",
       "      <td>0.019230</td>\n",
       "    </tr>\n",
       "    <tr>\n",
       "      <th>3</th>\n",
       "      <td>0.715827</td>\n",
       "      <td>0.754513</td>\n",
       "      <td>0.776173</td>\n",
       "      <td>0.768953</td>\n",
       "      <td>0.754513</td>\n",
       "      <td>KNN</td>\n",
       "      <td>0.753996</td>\n",
       "      <td>0.020847</td>\n",
       "    </tr>\n",
       "    <tr>\n",
       "      <th>4</th>\n",
       "      <td>0.676259</td>\n",
       "      <td>0.678700</td>\n",
       "      <td>0.711191</td>\n",
       "      <td>0.685921</td>\n",
       "      <td>0.718412</td>\n",
       "      <td>Decision Tree</td>\n",
       "      <td>0.694097</td>\n",
       "      <td>0.017352</td>\n",
       "    </tr>\n",
       "    <tr>\n",
       "      <th>5</th>\n",
       "      <td>0.730216</td>\n",
       "      <td>0.783394</td>\n",
       "      <td>0.783394</td>\n",
       "      <td>0.787004</td>\n",
       "      <td>0.768953</td>\n",
       "      <td>Gradient Boosting</td>\n",
       "      <td>0.770592</td>\n",
       "      <td>0.021119</td>\n",
       "    </tr>\n",
       "    <tr>\n",
       "      <th>6</th>\n",
       "      <td>0.758993</td>\n",
       "      <td>0.797834</td>\n",
       "      <td>0.768953</td>\n",
       "      <td>0.772563</td>\n",
       "      <td>0.797834</td>\n",
       "      <td>Naïve Bayes</td>\n",
       "      <td>0.779235</td>\n",
       "      <td>0.015823</td>\n",
       "    </tr>\n",
       "  </tbody>\n",
       "</table>\n",
       "</div>"
      ],
      "text/plain": [
       "          0         1         2         3         4               Method  \\\n",
       "0  0.758993  0.790614  0.794224  0.801444  0.805054  Logistic Regression   \n",
       "1  0.755396  0.787004  0.794224  0.783394  0.801444                  SVM   \n",
       "2  0.719424  0.761733  0.747292  0.776173  0.761733        Random Forest   \n",
       "3  0.715827  0.754513  0.776173  0.768953  0.754513                  KNN   \n",
       "4  0.676259  0.678700  0.711191  0.685921  0.718412        Decision Tree   \n",
       "5  0.730216  0.783394  0.783394  0.787004  0.768953    Gradient Boosting   \n",
       "6  0.758993  0.797834  0.768953  0.772563  0.797834          Naïve Bayes   \n",
       "\n",
       "       Mean       Std  \n",
       "0  0.790066  0.016354  \n",
       "1  0.784292  0.015723  \n",
       "2  0.753271  0.019230  \n",
       "3  0.753996  0.020847  \n",
       "4  0.694097  0.017352  \n",
       "5  0.770592  0.021119  \n",
       "6  0.779235  0.015823  "
      ]
     },
     "execution_count": 28,
     "metadata": {},
     "output_type": "execute_result"
    }
   ],
   "source": [
    "lr = cross_val_score(LogisticRegression(max_iter=1000), X1, y1)\n",
    "svm = cross_val_score(SVC(), X1, y1)\n",
    "rf = cross_val_score(RandomForestClassifier(), X1, y1)\n",
    "knn = cross_val_score(KNeighborsClassifier(), X1, y1)\n",
    "dtree= cross_val_score(tree.DecisionTreeClassifier(), X1, y1)\n",
    "gb= cross_val_score(GradientBoostingClassifier(), X1, y1)\n",
    "gaus= cross_val_score(GaussianNB(), X1, y1)\n",
    "\n",
    "data=[lr, svm, rf, knn, dtree, gb, gaus]\n",
    "mean=[lr.mean(), svm.mean(), rf.mean(), knn.mean(), dtree.mean(), gb.mean(), gaus.mean()]\n",
    "std=[lr.std(), svm.std(), rf.std(), knn.std(), dtree.std(), gb.std(), gaus.std()]\n",
    "\n",
    "results= pd.DataFrame(data)\n",
    "results['Method']=['Logistic Regression', 'SVM','Random Forest', 'KNN', 'Decision Tree', 'Gradient Boosting', 'Naïve Bayes']\n",
    "results['Mean']= mean\n",
    "results['Std']=std\n",
    "results"
   ]
  },
  {
   "cell_type": "markdown",
   "metadata": {
    "id": "LyNgkDjiFEgK"
   },
   "source": [
    "Com em canviaven cada vegada he afegit el np.random.seed() al principi.\n",
    "\n",
    "Em quedo amb la opció sense els atributs TeamIdA i TeamIdB perquè no em convenç."
   ]
  },
  {
   "cell_type": "code",
   "execution_count": 29,
   "metadata": {
    "id": "Ga2dIr8MYB9I"
   },
   "outputs": [],
   "source": [
    "dt=dt_sense\n",
    "X=X1\n",
    "y=y1"
   ]
  },
  {
   "cell_type": "markdown",
   "metadata": {
    "id": "LLA2BCIfqVtX"
   },
   "source": [
    "### **Parameter tunning with Grid Search**"
   ]
  },
  {
   "cell_type": "code",
   "execution_count": 30,
   "metadata": {
    "id": "ykKb0jQXQwAr"
   },
   "outputs": [],
   "source": [
    "from sklearn.model_selection import GridSearchCV\n",
    "from sklearn.metrics import accuracy_score"
   ]
  },
  {
   "cell_type": "code",
   "execution_count": 31,
   "metadata": {
    "id": "foR0bBdSGjBp"
   },
   "outputs": [],
   "source": [
    "from sklearn.model_selection import train_test_split\n",
    "np.random.seed(1234)\n",
    "X_train, X_test, y_train, y_test = train_test_split(X, y, test_size=0.3)"
   ]
  },
  {
   "cell_type": "code",
   "execution_count": 32,
   "metadata": {
    "id": "AkLwL2LyW3Yh"
   },
   "outputs": [],
   "source": [
    "def get_score(model, X_train, X_test, y_train, y_test):\n",
    "    model.fit(X_train, y_train)\n",
    "    return model.score(X_test, y_test)"
   ]
  },
  {
   "cell_type": "code",
   "execution_count": 33,
   "metadata": {
    "id": "9oWFDoH2Qqt8"
   },
   "outputs": [],
   "source": [
    "ths=dt.shape[0]*2//3\n",
    "training=dt.iloc[:ths,:-1]\n",
    "training_labels=dt.iloc[:ths,-1]\n",
    "test=dt.iloc[ths:,:-1]\n",
    "test_labels=dt.iloc[ths:,-1]"
   ]
  },
  {
   "cell_type": "code",
   "execution_count": 34,
   "metadata": {
    "id": "iFRjjzrPNsZ3"
   },
   "outputs": [],
   "source": [
    "from sklearn.metrics import accuracy_score\n",
    "def classification(clf):\n",
    "  clf.fit(training,training_labels)\n",
    "  preds = pd.Series(clf.predict(test), name='preds')\n",
    "  reals = pd.Series(test_labels, name='reals')\n",
    "  reals.index = range(dt.shape[0]-ths)\n",
    "  print('accuracy: ' + str(accuracy_score(reals,preds)))\n",
    "  display(pd.crosstab(reals,preds))"
   ]
  },
  {
   "cell_type": "markdown",
   "metadata": {
    "id": "64PbcyCfNhw-"
   },
   "source": [
    " #### SVM"
   ]
  },
  {
   "cell_type": "code",
   "execution_count": 35,
   "metadata": {
    "colab": {
     "base_uri": "https://localhost:8080/"
    },
    "id": "DfCHYAGlW6X0",
    "outputId": "50da95d6-aa68-4233-871b-c84c96e6f276"
   },
   "outputs": [
    {
     "name": "stdout",
     "output_type": "stream",
     "text": [
      "linear: 0.8076923076923077\n",
      "poly: 0.7644230769230769\n",
      "rbf: 0.7884615384615384\n"
     ]
    }
   ],
   "source": [
    "print('linear: ' + str(get_score(SVC(kernel='linear'),X_train, X_test, y_train, y_test)))\n",
    "print('poly: ' + str(get_score(SVC(kernel='poly'),X_train, X_test, y_train, y_test)))\n",
    "print('rbf: ' + str(get_score(SVC(kernel='rbf'),X_train, X_test, y_train, y_test)))"
   ]
  },
  {
   "cell_type": "markdown",
   "metadata": {
    "id": "xS4A4avAXbB6"
   },
   "source": [
    "em quedo amb'rbf'"
   ]
  },
  {
   "cell_type": "code",
   "execution_count": 36,
   "metadata": {
    "colab": {
     "base_uri": "https://localhost:8080/"
    },
    "id": "sYw7iYlaqW_S",
    "outputId": "0a59c28f-572c-44f9-c573-2994e27d05ec"
   },
   "outputs": [
    {
     "name": "stdout",
     "output_type": "stream",
     "text": [
      "{'C': 1000, 'gamma': 0.1}\n",
      "SVC(C=1000, gamma=0.1)\n"
     ]
    }
   ],
   "source": [
    "param_grid_svm = {'C': [0.1, 1, 10, 100, 1000],\n",
    "              'gamma': [100, 10, 1, 0.1, 0.01]}\n",
    "\n",
    "grid = GridSearchCV(SVC(kernel='rbf'), param_grid_svm, scoring='neg_mean_squared_error', return_train_score=True)\n",
    "grid.fit(X_train, y_train)\n",
    "print(grid.best_params_)\n",
    "print(grid.best_estimator_)"
   ]
  },
  {
   "cell_type": "code",
   "execution_count": 37,
   "metadata": {
    "colab": {
     "base_uri": "https://localhost:8080/",
     "height": 699
    },
    "id": "QJU2dGyhSxHl",
    "outputId": "70474047-ae9e-4914-df14-1e1bd5068b75"
   },
   "outputs": [
    {
     "name": "stdout",
     "output_type": "stream",
     "text": [
      "0.7012507235786554 {'C': 0.1, 'gamma': 100}\n",
      "0.48482114887012984 {'C': 0.1, 'gamma': 10}\n",
      "0.4805495136315782 {'C': 0.1, 'gamma': 1}\n",
      "0.4848211488701298 {'C': 0.1, 'gamma': 0.1}\n",
      "0.7005152742692596 {'C': 0.1, 'gamma': 0.01}\n",
      "0.6032557714379498 {'C': 1, 'gamma': 100}\n",
      "0.49220731530231593 {'C': 1, 'gamma': 10}\n",
      "0.4686017806901499 {'C': 1, 'gamma': 1}\n",
      "0.47623956546190094 {'C': 1, 'gamma': 0.1}\n",
      "0.48588318989938734 {'C': 1, 'gamma': 0.01}\n",
      "0.6006868920394728 {'C': 10, 'gamma': 100}\n",
      "0.5616617465394748 {'C': 10, 'gamma': 10}\n",
      "0.4686017806901499 {'C': 10, 'gamma': 1}\n",
      "0.4652900658307942 {'C': 10, 'gamma': 0.1}\n",
      "0.47515597005224364 {'C': 10, 'gamma': 0.01}\n",
      "0.6006868920394728 {'C': 100, 'gamma': 100}\n",
      "0.566231893044741 {'C': 100, 'gamma': 10}\n",
      "0.4740698978433846 {'C': 100, 'gamma': 1}\n",
      "0.4641809103418334 {'C': 100, 'gamma': 0.1}\n",
      "0.46418091034183345 {'C': 100, 'gamma': 0.01}\n",
      "0.6006868920394728 {'C': 1000, 'gamma': 100}\n",
      "0.5653208194167091 {'C': 1000, 'gamma': 10}\n",
      "0.5096997296771794 {'C': 1000, 'gamma': 1}\n",
      "0.4608374268878544 {'C': 1000, 'gamma': 0.1}\n",
      "0.46306909818160147 {'C': 1000, 'gamma': 0.01}\n"
     ]
    },
    {
     "data": {
      "text/plain": [
       "<function matplotlib.pyplot.show(close=None, block=None)>"
      ]
     },
     "execution_count": 37,
     "metadata": {},
     "output_type": "execute_result"
    },
    {
     "data": {
      "image/png": "[encoded data removed]",
      "text/plain": [
       "<Figure size 432x288 with 1 Axes>"
      ]
     },
     "metadata": {
      "needs_background": "light"
     },
     "output_type": "display_data"
    }
   ],
   "source": [
    "from mpl_toolkits.mplot3d import axes3d\n",
    "\n",
    "fig = plt.figure()\n",
    "ax1 = fig.add_subplot(111,projection='3d')\n",
    "\n",
    "cvres_svm=grid.cv_results_\n",
    "for mean_score, params in zip(cvres_svm['mean_test_score'], cvres_svm['params']):\n",
    "  print(np.sqrt(-mean_score), params)\n",
    "  ax1.scatter(params['C'], params['gamma'], np.sqrt(-mean_score))\n",
    "\n",
    "plt.ylabel('gamma')\n",
    "plt.xlabel('C')\n",
    "plt.show"
   ]
  },
  {
   "cell_type": "markdown",
   "metadata": {
    "id": "gx8EHRUeV4Ay"
   },
   "source": [
    "El millor RMSE score és 0.4619546101682178 i s'aconsegueix amb {'C': 100, 'gamma': 0.01, 'kernel': 'rbf'}"
   ]
  },
  {
   "cell_type": "code",
   "execution_count": 38,
   "metadata": {
    "colab": {
     "base_uri": "https://localhost:8080/",
     "height": 161
    },
    "id": "AozswjHEA02p",
    "outputId": "fb4bbc17-e8d8-4703-8e07-574cc10f298d"
   },
   "outputs": [
    {
     "name": "stdout",
     "output_type": "stream",
     "text": [
      "accuracy: 0.803030303030303\n"
     ]
    },
    {
     "data": {
      "text/html": [
       "<div>\n",
       "<style scoped>\n",
       "    .dataframe tbody tr th:only-of-type {\n",
       "        vertical-align: middle;\n",
       "    }\n",
       "\n",
       "    .dataframe tbody tr th {\n",
       "        vertical-align: top;\n",
       "    }\n",
       "\n",
       "    .dataframe thead th {\n",
       "        text-align: right;\n",
       "    }\n",
       "</style>\n",
       "<table border=\"1\" class=\"dataframe\">\n",
       "  <thead>\n",
       "    <tr style=\"text-align: right;\">\n",
       "      <th>preds</th>\n",
       "      <th>0.0</th>\n",
       "      <th>1.0</th>\n",
       "    </tr>\n",
       "    <tr>\n",
       "      <th>reals</th>\n",
       "      <th></th>\n",
       "      <th></th>\n",
       "    </tr>\n",
       "  </thead>\n",
       "  <tbody>\n",
       "    <tr>\n",
       "      <th>0.0</th>\n",
       "      <td>183</td>\n",
       "      <td>41</td>\n",
       "    </tr>\n",
       "    <tr>\n",
       "      <th>1.0</th>\n",
       "      <td>50</td>\n",
       "      <td>188</td>\n",
       "    </tr>\n",
       "  </tbody>\n",
       "</table>\n",
       "</div>"
      ],
      "text/plain": [
       "preds  0.0  1.0\n",
       "reals          \n",
       "0.0    183   41\n",
       "1.0     50  188"
      ]
     },
     "metadata": {},
     "output_type": "display_data"
    }
   ],
   "source": [
    "svm=SVC(C=100, gamma=0.01).fit(training,training_labels)\n",
    "preds = pd.Series(svm.predict(test), name='preds')\n",
    "reals = pd.Series(test_labels, name='reals')\n",
    "reals.index = range(dt.shape[0]-ths)\n",
    "print('accuracy: ' + str(accuracy_score(reals,preds)))\n",
    "display(pd.crosstab(reals,preds))"
   ]
  },
  {
   "cell_type": "markdown",
   "metadata": {
    "id": "5SRqF9ALYTYl"
   },
   "source": [
    "#### Logistic Regression"
   ]
  },
  {
   "cell_type": "code",
   "execution_count": 39,
   "metadata": {
    "colab": {
     "base_uri": "https://localhost:8080/"
    },
    "id": "nwv1mgBVYGDa",
    "outputId": "b8227fe0-b6d6-47af-f0fd-0c380cc1662a"
   },
   "outputs": [
    {
     "name": "stdout",
     "output_type": "stream",
     "text": [
      "{'C': 1000}\n",
      "LogisticRegression(C=1000, max_iter=1000)\n"
     ]
    }
   ],
   "source": [
    "param_grid_logreg={'C': [0.1, 1, 10, 100, 1000, 10000]}\n",
    "\n",
    "grid_logreg = GridSearchCV(LogisticRegression(penalty='l2', max_iter=1000), param_grid_logreg, scoring='neg_mean_squared_error', return_train_score=True)\n",
    "grid_logreg.fit(X_train, y_train)\n",
    "print(grid_logreg.best_params_)\n",
    "print(grid_logreg.best_estimator_)"
   ]
  },
  {
   "cell_type": "code",
   "execution_count": 40,
   "metadata": {
    "colab": {
     "base_uri": "https://localhost:8080/",
     "height": 496
    },
    "id": "IQhSrVjRdUek",
    "outputId": "8aee5360-9c1e-44e5-8063-c7639b26b18f"
   },
   "outputs": [
    {
     "name": "stdout",
     "output_type": "stream",
     "text": [
      "0.4783993931658393 {'C': 0.1}\n",
      "0.4641809103418334 {'C': 1}\n",
      "0.45971752869078963 {'C': 10}\n",
      "0.45971752869078963 {'C': 100}\n",
      "0.4585948956873762 {'C': 1000}\n",
      "0.4585948956873762 {'C': 10000}\n"
     ]
    },
    {
     "data": {
      "image/png": "[encoded data removed]",
      "text/plain": [
       "<Figure size 576x432 with 1 Axes>"
      ]
     },
     "metadata": {
      "needs_background": "light"
     },
     "output_type": "display_data"
    }
   ],
   "source": [
    "cvres_logreg=grid_logreg.cv_results_\n",
    "plt.figure(figsize=(8, 6))\n",
    "for mean_score, params in zip(cvres_logreg['mean_test_score'], cvres_logreg['params']):\n",
    "  print(np.sqrt(-mean_score), params)\n",
    "  plt.scatter(params['C'], np.sqrt(-mean_score))\n",
    "\n",
    "plt.xscale('log')\n",
    "plt.ylabel('RMSE')\n",
    "plt.xlabel('C')    \n",
    "plt.show()\n"
   ]
  },
  {
   "cell_type": "markdown",
   "metadata": {
    "id": "M9CvUOgMdppG"
   },
   "source": [
    "menor RMSE és 0.46860178069014996 i s'aconsegueix amb {'C': 10}"
   ]
  },
  {
   "cell_type": "code",
   "execution_count": 41,
   "metadata": {
    "colab": {
     "base_uri": "https://localhost:8080/",
     "height": 161
    },
    "id": "fyTjbuCnTRO4",
    "outputId": "ce987bad-53bd-430b-f096-2d3952a2dfb5"
   },
   "outputs": [
    {
     "name": "stdout",
     "output_type": "stream",
     "text": [
      "accuracy: 0.8095238095238095\n"
     ]
    },
    {
     "data": {
      "text/html": [
       "<div>\n",
       "<style scoped>\n",
       "    .dataframe tbody tr th:only-of-type {\n",
       "        vertical-align: middle;\n",
       "    }\n",
       "\n",
       "    .dataframe tbody tr th {\n",
       "        vertical-align: top;\n",
       "    }\n",
       "\n",
       "    .dataframe thead th {\n",
       "        text-align: right;\n",
       "    }\n",
       "</style>\n",
       "<table border=\"1\" class=\"dataframe\">\n",
       "  <thead>\n",
       "    <tr style=\"text-align: right;\">\n",
       "      <th>preds</th>\n",
       "      <th>0.0</th>\n",
       "      <th>1.0</th>\n",
       "    </tr>\n",
       "    <tr>\n",
       "      <th>reals</th>\n",
       "      <th></th>\n",
       "      <th></th>\n",
       "    </tr>\n",
       "  </thead>\n",
       "  <tbody>\n",
       "    <tr>\n",
       "      <th>0.0</th>\n",
       "      <td>183</td>\n",
       "      <td>41</td>\n",
       "    </tr>\n",
       "    <tr>\n",
       "      <th>1.0</th>\n",
       "      <td>47</td>\n",
       "      <td>191</td>\n",
       "    </tr>\n",
       "  </tbody>\n",
       "</table>\n",
       "</div>"
      ],
      "text/plain": [
       "preds  0.0  1.0\n",
       "reals          \n",
       "0.0    183   41\n",
       "1.0     47  191"
      ]
     },
     "metadata": {},
     "output_type": "display_data"
    }
   ],
   "source": [
    "classification(LogisticRegression(C=10, max_iter=1000))"
   ]
  },
  {
   "cell_type": "markdown",
   "metadata": {
    "id": "YaARPX3CIsCy"
   },
   "source": [
    "### Naive Bayes"
   ]
  },
  {
   "cell_type": "code",
   "execution_count": 42,
   "metadata": {
    "colab": {
     "base_uri": "https://localhost:8080/"
    },
    "id": "2dX1tZBjIzHV",
    "outputId": "fda9deaa-e192-460e-a289-f09979d3f04b"
   },
   "outputs": [
    {
     "name": "stdout",
     "output_type": "stream",
     "text": [
      "{'var_smoothing': 0.14677992676220694}\n",
      "GaussianNB(var_smoothing=0.14677992676220694)\n"
     ]
    }
   ],
   "source": [
    "param_grid_nb = {'var_smoothing': np.logspace(0,-5, num=25)}\n",
    "grid_nb = GridSearchCV(GaussianNB(), param_grid_nb, scoring='neg_mean_squared_error', return_train_score=True)\n",
    "grid_nb.fit(X_train, y_train)\n",
    "print(grid_nb.best_params_)\n",
    "print(grid_nb.best_estimator_)"
   ]
  },
  {
   "cell_type": "code",
   "execution_count": 43,
   "metadata": {
    "colab": {
     "base_uri": "https://localhost:8080/",
     "height": 827
    },
    "id": "5PjDQA9PKIy9",
    "outputId": "2c15a152-97fb-4eee-b47f-66f5b582c8d4"
   },
   "outputs": [
    {
     "name": "stdout",
     "output_type": "stream",
     "text": [
      "0.4805495136315782 {'var_smoothing': 1.0}\n",
      "0.47947565862772934 {'var_smoothing': 0.6189658188912606}\n",
      "0.4826900565804618 {'var_smoothing': 0.38311868495572876}\n",
      "0.4805495136315782 {'var_smoothing': 0.23713737056616552}\n",
      "0.4783993931658393 {'var_smoothing': 0.14677992676220694}\n",
      "0.4805495136315782 {'var_smoothing': 0.09085175756516867}\n",
      "0.483756776238536 {'var_smoothing': 0.05623413251903491}\n",
      "0.4826900565804618 {'var_smoothing': 0.03480700588428409}\n",
      "0.4848211488701298 {'var_smoothing': 0.021544346900318832}\n",
      "0.48588318989938734 {'var_smoothing': 0.01333521432163324}\n",
      "0.48800033800900916 {'var_smoothing': 0.008254041852680182}\n",
      "0.48800033800900916 {'var_smoothing': 0.005108969774506924}\n",
      "0.48800033800900916 {'var_smoothing': 0.0031622776601683794}\n",
      "0.48800033800900916 {'var_smoothing': 0.0019573417814876598}\n",
      "0.48800033800900916 {'var_smoothing': 0.0012115276586285877}\n",
      "0.48800033800900916 {'var_smoothing': 0.0007498942093324559}\n",
      "0.48800033800900916 {'var_smoothing': 0.00046415888336127773}\n",
      "0.48800033800900916 {'var_smoothing': 0.00028729848333536626}\n",
      "0.48800033800900916 {'var_smoothing': 0.00017782794100389227}\n",
      "0.48800033800900916 {'var_smoothing': 0.00011006941712522091}\n",
      "0.48800033800900916 {'var_smoothing': 6.812920690579608e-05}\n",
      "0.48800033800900916 {'var_smoothing': 4.216965034285822e-05}\n",
      "0.48800033800900916 {'var_smoothing': 2.6101572156825332e-05}\n",
      "0.48800033800900916 {'var_smoothing': 1.6155980984398728e-05}\n",
      "0.48800033800900916 {'var_smoothing': 1e-05}\n"
     ]
    },
    {
     "data": {
      "image/png": "[encoded data removed]",
      "text/plain": [
       "<Figure size 576x432 with 1 Axes>"
      ]
     },
     "metadata": {
      "needs_background": "light"
     },
     "output_type": "display_data"
    }
   ],
   "source": [
    "cvres_nb=grid_nb.cv_results_\n",
    "plt.figure(figsize=(8, 6))\n",
    "for mean_score, params in zip(cvres_nb['mean_test_score'], cvres_nb['params']):\n",
    "  print(np.sqrt(-mean_score), params)\n",
    "  plt.scatter(params['var_smoothing'], np.sqrt(-mean_score))\n",
    "\n",
    "plt.xscale('log')\n",
    "plt.ylabel('RMSE')\n",
    "plt.xlabel('var_smoothing')    \n",
    "plt.show()"
   ]
  },
  {
   "cell_type": "markdown",
   "metadata": {
    "id": "VQ6O-_8juPEw"
   },
   "source": [
    "El menor RMSE és 0.4707966488156882 i s'aconsegueix amb {'var_smoothing': 0.10481131341546858}"
   ]
  },
  {
   "cell_type": "code",
   "execution_count": 44,
   "metadata": {
    "colab": {
     "base_uri": "https://localhost:8080/",
     "height": 161
    },
    "id": "fOX0el6DTXTm",
    "outputId": "591da9d9-a93e-40fe-d4d9-7d6f5f940112"
   },
   "outputs": [
    {
     "name": "stdout",
     "output_type": "stream",
     "text": [
      "accuracy: 0.79004329004329\n"
     ]
    },
    {
     "data": {
      "text/html": [
       "<div>\n",
       "<style scoped>\n",
       "    .dataframe tbody tr th:only-of-type {\n",
       "        vertical-align: middle;\n",
       "    }\n",
       "\n",
       "    .dataframe tbody tr th {\n",
       "        vertical-align: top;\n",
       "    }\n",
       "\n",
       "    .dataframe thead th {\n",
       "        text-align: right;\n",
       "    }\n",
       "</style>\n",
       "<table border=\"1\" class=\"dataframe\">\n",
       "  <thead>\n",
       "    <tr style=\"text-align: right;\">\n",
       "      <th>preds</th>\n",
       "      <th>0.0</th>\n",
       "      <th>1.0</th>\n",
       "    </tr>\n",
       "    <tr>\n",
       "      <th>reals</th>\n",
       "      <th></th>\n",
       "      <th></th>\n",
       "    </tr>\n",
       "  </thead>\n",
       "  <tbody>\n",
       "    <tr>\n",
       "      <th>0.0</th>\n",
       "      <td>177</td>\n",
       "      <td>47</td>\n",
       "    </tr>\n",
       "    <tr>\n",
       "      <th>1.0</th>\n",
       "      <td>50</td>\n",
       "      <td>188</td>\n",
       "    </tr>\n",
       "  </tbody>\n",
       "</table>\n",
       "</div>"
      ],
      "text/plain": [
       "preds  0.0  1.0\n",
       "reals          \n",
       "0.0    177   47\n",
       "1.0     50  188"
      ]
     },
     "metadata": {},
     "output_type": "display_data"
    }
   ],
   "source": [
    "classification(GaussianNB(var_smoothing=0.09085175756516867))"
   ]
  },
  {
   "cell_type": "markdown",
   "metadata": {
    "id": "Fyk-lDSO6lSs"
   },
   "source": [
    "### Random Forest"
   ]
  },
  {
   "cell_type": "code",
   "execution_count": 45,
   "metadata": {
    "colab": {
     "base_uri": "https://localhost:8080/"
    },
    "id": "SL3Drd0T6pK3",
    "outputId": "52e704ac-a68a-4adb-b878-a060961c7242"
   },
   "outputs": [
    {
     "name": "stdout",
     "output_type": "stream",
     "text": [
      "{'max_depth': 4, 'min_samples_split': 5, 'n_estimators': 45}\n",
      "RandomForestClassifier(max_depth=4, min_samples_split=5, n_estimators=45)\n"
     ]
    }
   ],
   "source": [
    "max_depth=[2, 4]\n",
    "n_estimators = [int(x) for x in np.linspace(start=10, stop=80, num=5)]\n",
    "min_samples_split=[2,5]\n",
    "param_grid_rf = dict(max_depth=max_depth, n_estimators=n_estimators, min_samples_split=min_samples_split)\n",
    "grid_rf = GridSearchCV(RandomForestClassifier(), param_grid_rf, scoring='neg_mean_squared_error', return_train_score=True)\n",
    "grid_rf.fit(X_train, y_train)\n",
    "print(grid_rf.best_params_)\n",
    "print(grid_rf.best_estimator_)"
   ]
  },
  {
   "cell_type": "code",
   "execution_count": 46,
   "metadata": {
    "colab": {
     "base_uri": "https://localhost:8080/",
     "height": 613
    },
    "id": "ogmTG8P99Y6B",
    "outputId": "30438020-61b3-4e05-f07b-2951a12e339f"
   },
   "outputs": [
    {
     "name": "stdout",
     "output_type": "stream",
     "text": [
      "0.4805495136315782 {'max_depth': 2, 'min_samples_split': 2, 'n_estimators': 10}\n",
      "0.4718902545837687 {'max_depth': 2, 'min_samples_split': 2, 'n_estimators': 27}\n",
      "0.47839939316583935 {'max_depth': 2, 'min_samples_split': 2, 'n_estimators': 45}\n",
      "0.47515597005224364 {'max_depth': 2, 'min_samples_split': 2, 'n_estimators': 62}\n",
      "0.47298133177344914 {'max_depth': 2, 'min_samples_split': 2, 'n_estimators': 80}\n",
      "0.47623956546190094 {'max_depth': 2, 'min_samples_split': 5, 'n_estimators': 10}\n",
      "0.4740698978433846 {'max_depth': 2, 'min_samples_split': 5, 'n_estimators': 27}\n",
      "0.4718902545837687 {'max_depth': 2, 'min_samples_split': 5, 'n_estimators': 45}\n",
      "0.47515597005224364 {'max_depth': 2, 'min_samples_split': 5, 'n_estimators': 62}\n",
      "0.47839939316583935 {'max_depth': 2, 'min_samples_split': 5, 'n_estimators': 80}\n",
      "0.47623956546190094 {'max_depth': 4, 'min_samples_split': 2, 'n_estimators': 10}\n",
      "0.4675004823857702 {'max_depth': 4, 'min_samples_split': 2, 'n_estimators': 27}\n",
      "0.46306909818160147 {'max_depth': 4, 'min_samples_split': 2, 'n_estimators': 45}\n",
      "0.46639658360227754 {'max_depth': 4, 'min_samples_split': 2, 'n_estimators': 62}\n",
      "0.46306909818160147 {'max_depth': 4, 'min_samples_split': 2, 'n_estimators': 80}\n",
      "0.4718902545837687 {'max_depth': 4, 'min_samples_split': 5, 'n_estimators': 10}\n",
      "0.4675004823857702 {'max_depth': 4, 'min_samples_split': 5, 'n_estimators': 27}\n",
      "0.4608374268878544 {'max_depth': 4, 'min_samples_split': 5, 'n_estimators': 45}\n",
      "0.46860178069014996 {'max_depth': 4, 'min_samples_split': 5, 'n_estimators': 62}\n",
      "0.4707966488156882 {'max_depth': 4, 'min_samples_split': 5, 'n_estimators': 80}\n"
     ]
    },
    {
     "data": {
      "text/plain": [
       "<function matplotlib.pyplot.show(close=None, block=None)>"
      ]
     },
     "execution_count": 46,
     "metadata": {},
     "output_type": "execute_result"
    },
    {
     "data": {
      "image/png": "[encoded data removed]",
      "text/plain": [
       "<Figure size 432x288 with 1 Axes>"
      ]
     },
     "metadata": {
      "needs_background": "light"
     },
     "output_type": "display_data"
    }
   ],
   "source": [
    "fig = plt.figure()\n",
    "ax = fig.add_subplot(111,projection='3d')\n",
    "\n",
    "cvres_rf=grid_rf.cv_results_\n",
    "for mean_score, params in zip(cvres_rf['mean_test_score'], cvres_rf['params']):\n",
    "  print(np.sqrt(-mean_score), params)\n",
    "  ax.scatter(params['n_estimators'], params['max_depth'], np.sqrt(-mean_score))\n",
    "\n",
    "plt.ylabel('max_depht')\n",
    "plt.xlabel('n_estimators')\n",
    "plt.show"
   ]
  },
  {
   "cell_type": "code",
   "execution_count": 47,
   "metadata": {
    "colab": {
     "base_uri": "https://localhost:8080/",
     "height": 161
    },
    "id": "8O7oqox_-MhY",
    "outputId": "206f92e9-6bf6-4b42-c213-63578d220d93"
   },
   "outputs": [
    {
     "name": "stdout",
     "output_type": "stream",
     "text": [
      "accuracy: 0.7748917748917749\n"
     ]
    },
    {
     "data": {
      "text/html": [
       "<div>\n",
       "<style scoped>\n",
       "    .dataframe tbody tr th:only-of-type {\n",
       "        vertical-align: middle;\n",
       "    }\n",
       "\n",
       "    .dataframe tbody tr th {\n",
       "        vertical-align: top;\n",
       "    }\n",
       "\n",
       "    .dataframe thead th {\n",
       "        text-align: right;\n",
       "    }\n",
       "</style>\n",
       "<table border=\"1\" class=\"dataframe\">\n",
       "  <thead>\n",
       "    <tr style=\"text-align: right;\">\n",
       "      <th>preds</th>\n",
       "      <th>0.0</th>\n",
       "      <th>1.0</th>\n",
       "    </tr>\n",
       "    <tr>\n",
       "      <th>reals</th>\n",
       "      <th></th>\n",
       "      <th></th>\n",
       "    </tr>\n",
       "  </thead>\n",
       "  <tbody>\n",
       "    <tr>\n",
       "      <th>0.0</th>\n",
       "      <td>173</td>\n",
       "      <td>51</td>\n",
       "    </tr>\n",
       "    <tr>\n",
       "      <th>1.0</th>\n",
       "      <td>53</td>\n",
       "      <td>185</td>\n",
       "    </tr>\n",
       "  </tbody>\n",
       "</table>\n",
       "</div>"
      ],
      "text/plain": [
       "preds  0.0  1.0\n",
       "reals          \n",
       "0.0    173   51\n",
       "1.0     53  185"
      ]
     },
     "metadata": {},
     "output_type": "display_data"
    }
   ],
   "source": [
    "classification(RandomForestClassifier(max_depth=4, min_samples_split=5, n_estimators=62))"
   ]
  },
  {
   "cell_type": "markdown",
   "metadata": {
    "id": "rjtVFogjeqhy"
   },
   "source": [
    "# Test"
   ]
  },
  {
   "cell_type": "code",
   "execution_count": 49,
   "metadata": {
    "colab": {
     "base_uri": "https://localhost:8080/",
     "height": 206
    },
    "id": "AQLhyBpAAkNj",
    "outputId": "3333f588-509e-44cc-c1fb-59367804c0db"
   },
   "outputs": [
    {
     "data": {
      "text/html": [
       "<div>\n",
       "<style scoped>\n",
       "    .dataframe tbody tr th:only-of-type {\n",
       "        vertical-align: middle;\n",
       "    }\n",
       "\n",
       "    .dataframe tbody tr th {\n",
       "        vertical-align: top;\n",
       "    }\n",
       "\n",
       "    .dataframe thead th {\n",
       "        text-align: right;\n",
       "    }\n",
       "</style>\n",
       "<table border=\"1\" class=\"dataframe\">\n",
       "  <thead>\n",
       "    <tr style=\"text-align: right;\">\n",
       "      <th></th>\n",
       "      <th>Season</th>\n",
       "      <th>SeedA</th>\n",
       "      <th>SeedB</th>\n",
       "      <th>WinRatioA</th>\n",
       "      <th>GapAvgA</th>\n",
       "      <th>WinRatioB</th>\n",
       "      <th>GapAvgB</th>\n",
       "      <th>SeedDiff</th>\n",
       "      <th>WinRatioDiff</th>\n",
       "      <th>GapAvgDiff</th>\n",
       "    </tr>\n",
       "  </thead>\n",
       "  <tbody>\n",
       "    <tr>\n",
       "      <th>0</th>\n",
       "      <td>1.095238</td>\n",
       "      <td>0.4</td>\n",
       "      <td>0.133333</td>\n",
       "      <td>0.364706</td>\n",
       "      <td>0.217268</td>\n",
       "      <td>0.565826</td>\n",
       "      <td>0.321967</td>\n",
       "      <td>0.633333</td>\n",
       "      <td>0.369753</td>\n",
       "      <td>0.440232</td>\n",
       "    </tr>\n",
       "    <tr>\n",
       "      <th>1</th>\n",
       "      <td>1.095238</td>\n",
       "      <td>0.4</td>\n",
       "      <td>0.200000</td>\n",
       "      <td>0.364706</td>\n",
       "      <td>0.217268</td>\n",
       "      <td>0.459695</td>\n",
       "      <td>0.289206</td>\n",
       "      <td>0.600000</td>\n",
       "      <td>0.424477</td>\n",
       "      <td>0.458807</td>\n",
       "    </tr>\n",
       "    <tr>\n",
       "      <th>2</th>\n",
       "      <td>1.095238</td>\n",
       "      <td>0.4</td>\n",
       "      <td>0.066667</td>\n",
       "      <td>0.364706</td>\n",
       "      <td>0.217268</td>\n",
       "      <td>0.864924</td>\n",
       "      <td>0.678590</td>\n",
       "      <td>0.666667</td>\n",
       "      <td>0.215531</td>\n",
       "      <td>0.238037</td>\n",
       "    </tr>\n",
       "    <tr>\n",
       "      <th>3</th>\n",
       "      <td>1.095238</td>\n",
       "      <td>0.4</td>\n",
       "      <td>0.733333</td>\n",
       "      <td>0.364706</td>\n",
       "      <td>0.217268</td>\n",
       "      <td>0.635294</td>\n",
       "      <td>0.360585</td>\n",
       "      <td>0.333333</td>\n",
       "      <td>0.333934</td>\n",
       "      <td>0.418337</td>\n",
       "    </tr>\n",
       "    <tr>\n",
       "      <th>4</th>\n",
       "      <td>1.095238</td>\n",
       "      <td>0.4</td>\n",
       "      <td>0.666667</td>\n",
       "      <td>0.364706</td>\n",
       "      <td>0.217268</td>\n",
       "      <td>0.257081</td>\n",
       "      <td>0.194448</td>\n",
       "      <td>0.366667</td>\n",
       "      <td>0.528950</td>\n",
       "      <td>0.512532</td>\n",
       "    </tr>\n",
       "  </tbody>\n",
       "</table>\n",
       "</div>"
      ],
      "text/plain": [
       "     Season  SeedA     SeedB  WinRatioA   GapAvgA  WinRatioB   GapAvgB  \\\n",
       "0  1.095238    0.4  0.133333   0.364706  0.217268   0.565826  0.321967   \n",
       "1  1.095238    0.4  0.200000   0.364706  0.217268   0.459695  0.289206   \n",
       "2  1.095238    0.4  0.066667   0.364706  0.217268   0.864924  0.678590   \n",
       "3  1.095238    0.4  0.733333   0.364706  0.217268   0.635294  0.360585   \n",
       "4  1.095238    0.4  0.666667   0.364706  0.217268   0.257081  0.194448   \n",
       "\n",
       "   SeedDiff  WinRatioDiff  GapAvgDiff  \n",
       "0  0.633333      0.369753    0.440232  \n",
       "1  0.600000      0.424477    0.458807  \n",
       "2  0.666667      0.215531    0.238037  \n",
       "3  0.333333      0.333934    0.418337  \n",
       "4  0.366667      0.528950    0.512532  "
      ]
     },
     "execution_count": 49,
     "metadata": {},
     "output_type": "execute_result"
    }
   ],
   "source": [
    "df_test = pd.read_csv('Dades/WNCAA df_test.csv')\n",
    "df_test.drop(['ID', 'Pred'], axis=1, inplace=True)\n",
    "df_test['WinA']=0\n",
    "df_test.head()\n",
    "df_test_scaled=scaler.transform(df_test)\n",
    "dt_test_scaled=pd.DataFrame(df_test_scaled, columns=df_test.columns)\n",
    "dt_test_scaled.drop(['WinA', 'TeamIdA', 'TeamIdB'], axis=1,inplace=True)\n",
    "dt_test_scaled.head()"
   ]
  },
  {
   "cell_type": "code",
   "execution_count": 50,
   "metadata": {
    "id": "CV6yAJyFDDkb"
   },
   "outputs": [],
   "source": [
    "predicció = pd.Series(svm.predict(dt_test_scaled), name='preds')"
   ]
  },
  {
   "cell_type": "code",
   "execution_count": 51,
   "metadata": {
    "colab": {
     "base_uri": "https://localhost:8080/",
     "height": 206
    },
    "id": "Utv49JWWfmtz",
    "outputId": "9c7094d8-18eb-42f3-ed68-72688c9834f4"
   },
   "outputs": [
    {
     "data": {
      "text/html": [
       "<div>\n",
       "<style scoped>\n",
       "    .dataframe tbody tr th:only-of-type {\n",
       "        vertical-align: middle;\n",
       "    }\n",
       "\n",
       "    .dataframe tbody tr th {\n",
       "        vertical-align: top;\n",
       "    }\n",
       "\n",
       "    .dataframe thead th {\n",
       "        text-align: right;\n",
       "    }\n",
       "</style>\n",
       "<table border=\"1\" class=\"dataframe\">\n",
       "  <thead>\n",
       "    <tr style=\"text-align: right;\">\n",
       "      <th></th>\n",
       "      <th>Season</th>\n",
       "      <th>TeamIdA</th>\n",
       "      <th>TeamIdB</th>\n",
       "      <th>SeedA</th>\n",
       "      <th>SeedB</th>\n",
       "      <th>WinRatioA</th>\n",
       "      <th>GapAvgA</th>\n",
       "      <th>WinRatioB</th>\n",
       "      <th>GapAvgB</th>\n",
       "      <th>SeedDiff</th>\n",
       "      <th>WinRatioDiff</th>\n",
       "      <th>GapAvgDiff</th>\n",
       "      <th>WinA</th>\n",
       "    </tr>\n",
       "  </thead>\n",
       "  <tbody>\n",
       "    <tr>\n",
       "      <th>0</th>\n",
       "      <td>2021</td>\n",
       "      <td>3104</td>\n",
       "      <td>3112</td>\n",
       "      <td>7</td>\n",
       "      <td>3</td>\n",
       "      <td>0.64</td>\n",
       "      <td>4.76</td>\n",
       "      <td>0.761905</td>\n",
       "      <td>10.523810</td>\n",
       "      <td>4</td>\n",
       "      <td>-0.121905</td>\n",
       "      <td>-5.763810</td>\n",
       "      <td>0.0</td>\n",
       "    </tr>\n",
       "    <tr>\n",
       "      <th>1</th>\n",
       "      <td>2021</td>\n",
       "      <td>3104</td>\n",
       "      <td>3116</td>\n",
       "      <td>7</td>\n",
       "      <td>4</td>\n",
       "      <td>0.64</td>\n",
       "      <td>4.76</td>\n",
       "      <td>0.703704</td>\n",
       "      <td>9.000000</td>\n",
       "      <td>3</td>\n",
       "      <td>-0.063704</td>\n",
       "      <td>-4.240000</td>\n",
       "      <td>0.0</td>\n",
       "    </tr>\n",
       "    <tr>\n",
       "      <th>2</th>\n",
       "      <td>2021</td>\n",
       "      <td>3104</td>\n",
       "      <td>3124</td>\n",
       "      <td>7</td>\n",
       "      <td>2</td>\n",
       "      <td>0.64</td>\n",
       "      <td>4.76</td>\n",
       "      <td>0.925926</td>\n",
       "      <td>27.111111</td>\n",
       "      <td>5</td>\n",
       "      <td>-0.285926</td>\n",
       "      <td>-22.351111</td>\n",
       "      <td>0.0</td>\n",
       "    </tr>\n",
       "    <tr>\n",
       "      <th>3</th>\n",
       "      <td>2021</td>\n",
       "      <td>3104</td>\n",
       "      <td>3125</td>\n",
       "      <td>7</td>\n",
       "      <td>12</td>\n",
       "      <td>0.64</td>\n",
       "      <td>4.76</td>\n",
       "      <td>0.800000</td>\n",
       "      <td>12.320000</td>\n",
       "      <td>-5</td>\n",
       "      <td>-0.160000</td>\n",
       "      <td>-7.560000</td>\n",
       "      <td>1.0</td>\n",
       "    </tr>\n",
       "    <tr>\n",
       "      <th>4</th>\n",
       "      <td>2021</td>\n",
       "      <td>3104</td>\n",
       "      <td>3133</td>\n",
       "      <td>7</td>\n",
       "      <td>11</td>\n",
       "      <td>0.64</td>\n",
       "      <td>4.76</td>\n",
       "      <td>0.592593</td>\n",
       "      <td>4.592593</td>\n",
       "      <td>-4</td>\n",
       "      <td>0.047407</td>\n",
       "      <td>0.167407</td>\n",
       "      <td>1.0</td>\n",
       "    </tr>\n",
       "  </tbody>\n",
       "</table>\n",
       "</div>"
      ],
      "text/plain": [
       "   Season  TeamIdA  TeamIdB  SeedA  SeedB  WinRatioA  GapAvgA  WinRatioB  \\\n",
       "0    2021     3104     3112      7      3       0.64     4.76   0.761905   \n",
       "1    2021     3104     3116      7      4       0.64     4.76   0.703704   \n",
       "2    2021     3104     3124      7      2       0.64     4.76   0.925926   \n",
       "3    2021     3104     3125      7     12       0.64     4.76   0.800000   \n",
       "4    2021     3104     3133      7     11       0.64     4.76   0.592593   \n",
       "\n",
       "     GapAvgB  SeedDiff  WinRatioDiff  GapAvgDiff  WinA  \n",
       "0  10.523810         4     -0.121905   -5.763810   0.0  \n",
       "1   9.000000         3     -0.063704   -4.240000   0.0  \n",
       "2  27.111111         5     -0.285926  -22.351111   0.0  \n",
       "3  12.320000        -5     -0.160000   -7.560000   1.0  \n",
       "4   4.592593        -4      0.047407    0.167407   1.0  "
      ]
     },
     "execution_count": 51,
     "metadata": {},
     "output_type": "execute_result"
    }
   ],
   "source": [
    "df_test['WinA']=predicció\n",
    "df_test.head()"
   ]
  },
  {
   "cell_type": "code",
   "execution_count": 52,
   "metadata": {
    "colab": {
     "base_uri": "https://localhost:8080/"
    },
    "id": "UgvX_5Apj5nU",
    "outputId": "f69b28fa-9f33-48f2-a589-db32b4c03182"
   },
   "outputs": [
    {
     "data": {
      "text/plain": [
       "WinA\n",
       "False     920\n",
       "True     1096\n",
       "dtype: int64"
      ]
     },
     "execution_count": 52,
     "metadata": {},
     "output_type": "execute_result"
    }
   ],
   "source": [
    "wins=df_test.groupby(df_test['WinA']==1)\n",
    "wins.size()"
   ]
  },
  {
   "cell_type": "code",
   "execution_count": 53,
   "metadata": {
    "id": "CI5YL9_BEmZ1"
   },
   "outputs": [],
   "source": [
    "teams = pd.read_csv('Dades/WTeams.csv')\n"
   ]
  },
  {
   "cell_type": "code",
   "execution_count": 54,
   "metadata": {
    "colab": {
     "base_uri": "https://localhost:8080/",
     "height": 81
    },
    "id": "gNMhEFQzTCUE",
    "outputId": "373dcb2e-a5eb-489c-bf0e-5060f74d2fa1"
   },
   "outputs": [
    {
     "data": {
      "text/html": [
       "<div>\n",
       "<style scoped>\n",
       "    .dataframe tbody tr th:only-of-type {\n",
       "        vertical-align: middle;\n",
       "    }\n",
       "\n",
       "    .dataframe tbody tr th {\n",
       "        vertical-align: top;\n",
       "    }\n",
       "\n",
       "    .dataframe thead th {\n",
       "        text-align: right;\n",
       "    }\n",
       "</style>\n",
       "<table border=\"1\" class=\"dataframe\">\n",
       "  <thead>\n",
       "    <tr style=\"text-align: right;\">\n",
       "      <th></th>\n",
       "      <th>TeamID</th>\n",
       "      <th>TeamName</th>\n",
       "    </tr>\n",
       "  </thead>\n",
       "  <tbody>\n",
       "    <tr>\n",
       "      <th>148</th>\n",
       "      <td>3250</td>\n",
       "      <td>Lehigh</td>\n",
       "    </tr>\n",
       "  </tbody>\n",
       "</table>\n",
       "</div>"
      ],
      "text/plain": [
       "     TeamID TeamName\n",
       "148    3250   Lehigh"
      ]
     },
     "execution_count": 54,
     "metadata": {},
     "output_type": "execute_result"
    }
   ],
   "source": [
    "teams[teams['TeamName']=='Lehigh']"
   ]
  },
  {
   "cell_type": "markdown",
   "metadata": {
    "id": "AZ8ryOE9UAaX"
   },
   "source": [
    "Per muntar el Bracket: "
   ]
  },
  {
   "cell_type": "code",
   "execution_count": 55,
   "metadata": {
    "colab": {
     "base_uri": "https://localhost:8080/"
    },
    "id": "vxAdaGQqHFdp",
    "outputId": "9584a061-51b9-470c-923a-d527eba5a452"
   },
   "outputs": [
    {
     "name": "stdout",
     "output_type": "stream",
     "text": [
      "Connecticut\n"
     ]
    }
   ],
   "source": [
    "A='Connecticut'\n",
    "B='Stanford'\n",
    "IDA = teams[teams['TeamName']==A]\n",
    "IDB = teams[teams['TeamName']==B]\n",
    "TeamIDA=IDA.iloc[0,0]\n",
    "TeamIDB=IDB.iloc[0,0]\n",
    "c=df_test[df_test['TeamIdA']==TeamIDA]\n",
    "d=c[c['TeamIdB']==TeamIDB]\n",
    "if d.iloc[0,-1]==1.0:\n",
    "  print(A)\n",
    "elif d.iloc[0,-1]==0.0:  \n",
    "  print(B)"
   ]
  }
 ],
 "metadata": {
  "colab": {
   "collapsed_sections": [
    "5SRqF9ALYTYl",
    "YaARPX3CIsCy",
    "Fyk-lDSO6lSs"
   ],
   "name": "WNCAA Cross Validation + Grid Search + Test.ipynb",
   "provenance": []
  },
  "kernelspec": {
   "display_name": "Python 3 (ipykernel)",
   "language": "python",
   "name": "python3"
  },
  "language_info": {
   "codemirror_mode": {
    "name": "ipython",
    "version": 3
   },
   "file_extension": ".py",
   "mimetype": "text/x-python",
   "name": "python",
   "nbconvert_exporter": "python",
   "pygments_lexer": "ipython3",
   "version": "3.9.7"
  }
 },
 "nbformat": 4,
 "nbformat_minor": 1
}
