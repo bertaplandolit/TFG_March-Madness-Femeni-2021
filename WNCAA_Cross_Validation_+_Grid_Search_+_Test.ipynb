{
  "nbformat": 4,
  "nbformat_minor": 0,
  "metadata": {
    "colab": {
      "name": "WNCAA Cross Validation + Grid Search + Test.ipynb",
      "provenance": [],
      "collapsed_sections": [
        "5SRqF9ALYTYl",
        "YaARPX3CIsCy",
        "Fyk-lDSO6lSs"
      ]
    },
    "kernelspec": {
      "name": "python3",
      "display_name": "Python 3"
    },
    "language_info": {
      "name": "python"
    }
  },
  "cells": [
    {
      "cell_type": "markdown",
      "source": [
        "#Classification"
      ],
      "metadata": {
        "id": "0NO-agty9BiR"
      }
    },
    {
      "cell_type": "code",
      "execution_count": 23,
      "metadata": {
        "colab": {
          "base_uri": "https://localhost:8080/"
        },
        "id": "QWTMYYkW84mC",
        "outputId": "10e7fc74-326d-4336-da86-cca859be8282"
      },
      "outputs": [
        {
          "output_type": "stream",
          "name": "stdout",
          "text": [
            "Drive already mounted at /content/drive; to attempt to forcibly remount, call drive.mount(\"/content/drive\", force_remount=True).\n"
          ]
        }
      ],
      "source": [
        "import sklearn\n",
        "import numpy as np \n",
        "import pandas as pd\n",
        "import matplotlib.pyplot as plt\n",
        "\n",
        "from google.colab import drive\n",
        "drive.mount('/content/drive')"
      ]
    },
    {
      "cell_type": "code",
      "source": [
        "df = pd.read_csv('/content/drive/MyDrive/TFG/WNCAA df')"
      ],
      "metadata": {
        "id": "bUEJJndU9K4g"
      },
      "execution_count": 24,
      "outputs": []
    },
    {
      "cell_type": "code",
      "source": [
        "df.drop(['ScoreA','ScoreB','ScoreDiff', 'DayNum', 'Round'], axis=1, inplace=True)"
      ],
      "metadata": {
        "id": "Ihc1Vw9Byimv"
      },
      "execution_count": 25,
      "outputs": []
    },
    {
      "cell_type": "markdown",
      "source": [
        "Es té la sospita de que els atributs TeamIdA i TeamIdB, a l'estar  codificats numèricament, poden aportar soroll al model, ja que es pot confondre. \n",
        "\n",
        "Es planteja l'opció de treure'ls."
      ],
      "metadata": {
        "id": "TCCaDar4X4P2"
      }
    },
    {
      "cell_type": "code",
      "source": [
        "from sklearn.preprocessing import MinMaxScaler\n",
        "scaler = MinMaxScaler()\n",
        "scaler.fit(df)\n",
        "dt_scaled=scaler.transform(df)\n",
        "df_scaled=pd.DataFrame(dt_scaled, columns=df.columns)\n",
        "\n",
        "from sklearn.utils import shuffle\n",
        "np.random.seed(1234) #perque desordeni les dades sempre igual\n",
        "dt = pd.DataFrame(shuffle(df_scaled))"
      ],
      "metadata": {
        "id": "Wi2oCF5V_Qu7"
      },
      "execution_count": 26,
      "outputs": []
    },
    {
      "cell_type": "code",
      "source": [
        "X=dt.iloc[:,:-1]\n",
        "y=dt.iloc[:,-1]"
      ],
      "metadata": {
        "id": "9_NxpgS4uxiU"
      },
      "execution_count": 27,
      "outputs": []
    },
    {
      "cell_type": "markdown",
      "source": [
        "## **Model evaluation using cross_val_score**\n",
        "\n",
        "cross_val_score uses statifield kfold by default"
      ],
      "metadata": {
        "id": "NT9ac749-e58"
      }
    },
    {
      "cell_type": "code",
      "source": [
        "from sklearn import tree\n",
        "from sklearn.ensemble import GradientBoostingClassifier\n",
        "from sklearn.naive_bayes import GaussianNB\n",
        "from sklearn.neighbors import KNeighborsClassifier\n",
        "from sklearn.linear_model import LogisticRegression\n",
        "from sklearn.svm import SVC\n",
        "from sklearn.ensemble import RandomForestClassifier\n",
        "\n",
        "from sklearn.model_selection import cross_val_score"
      ],
      "metadata": {
        "id": "SwMavNiH46QC"
      },
      "execution_count": 28,
      "outputs": []
    },
    {
      "cell_type": "markdown",
      "source": [
        "###**Amb els atributs TeamIDA i TeamIDB**"
      ],
      "metadata": {
        "id": "Vphy99uy3cEB"
      }
    },
    {
      "cell_type": "code",
      "source": [
        "lr = cross_val_score(LogisticRegression(max_iter=1000), X, y)\n",
        "svm = cross_val_score(SVC(), X, y)\n",
        "rf = cross_val_score(RandomForestClassifier(), X, y)\n",
        "knn = cross_val_score(KNeighborsClassifier(), X, y)\n",
        "dtree= cross_val_score(tree.DecisionTreeClassifier(), X, y)\n",
        "gb= cross_val_score(GradientBoostingClassifier(), X, y)\n",
        "gaus= cross_val_score(GaussianNB(), X, y)\n",
        "\n",
        "data=[lr, svm, rf, knn, dtree, gb, gaus]\n",
        "mean=[lr.mean(), svm.mean(), rf.mean(), knn.mean(), dtree.mean(), gb.mean(), gaus.mean()]\n",
        "std=[lr.std(), svm.std(), rf.std(), knn.std(), dtree.std(), gb.std(), gaus.std()]\n",
        "\n",
        "results= pd.DataFrame(data)\n",
        "results['Method']=['Logistic Regression', 'SVM','Random Forest', 'KNN', 'Decision Tree', 'Gradient Boosting', 'Naïve Bayes']\n",
        "results['Mean']= mean\n",
        "results['Std']=std\n",
        "results"
      ],
      "metadata": {
        "id": "sqViIRYyAb2H",
        "colab": {
          "base_uri": "https://localhost:8080/",
          "height": 269
        },
        "outputId": "be15da42-2e11-461e-94e9-088a0395f4a1"
      },
      "execution_count": 29,
      "outputs": [
        {
          "output_type": "execute_result",
          "data": {
            "text/html": [
              "\n",
              "  <div id=\"df-3d456a4e-405f-40a4-ad23-2b33dcf01872\">\n",
              "    <div class=\"colab-df-container\">\n",
              "      <div>\n",
              "<style scoped>\n",
              "    .dataframe tbody tr th:only-of-type {\n",
              "        vertical-align: middle;\n",
              "    }\n",
              "\n",
              "    .dataframe tbody tr th {\n",
              "        vertical-align: top;\n",
              "    }\n",
              "\n",
              "    .dataframe thead th {\n",
              "        text-align: right;\n",
              "    }\n",
              "</style>\n",
              "<table border=\"1\" class=\"dataframe\">\n",
              "  <thead>\n",
              "    <tr style=\"text-align: right;\">\n",
              "      <th></th>\n",
              "      <th>0</th>\n",
              "      <th>1</th>\n",
              "      <th>2</th>\n",
              "      <th>3</th>\n",
              "      <th>4</th>\n",
              "      <th>Method</th>\n",
              "      <th>Mean</th>\n",
              "      <th>Std</th>\n",
              "    </tr>\n",
              "  </thead>\n",
              "  <tbody>\n",
              "    <tr>\n",
              "      <th>0</th>\n",
              "      <td>0.744604</td>\n",
              "      <td>0.783394</td>\n",
              "      <td>0.783394</td>\n",
              "      <td>0.808664</td>\n",
              "      <td>0.758123</td>\n",
              "      <td>Logistic Regression</td>\n",
              "      <td>0.775636</td>\n",
              "      <td>0.022275</td>\n",
              "    </tr>\n",
              "    <tr>\n",
              "      <th>1</th>\n",
              "      <td>0.755396</td>\n",
              "      <td>0.783394</td>\n",
              "      <td>0.805054</td>\n",
              "      <td>0.783394</td>\n",
              "      <td>0.772563</td>\n",
              "      <td>SVM</td>\n",
              "      <td>0.779960</td>\n",
              "      <td>0.016195</td>\n",
              "    </tr>\n",
              "    <tr>\n",
              "      <th>2</th>\n",
              "      <td>0.741007</td>\n",
              "      <td>0.776173</td>\n",
              "      <td>0.776173</td>\n",
              "      <td>0.794224</td>\n",
              "      <td>0.747292</td>\n",
              "      <td>Random Forest</td>\n",
              "      <td>0.766974</td>\n",
              "      <td>0.019867</td>\n",
              "    </tr>\n",
              "    <tr>\n",
              "      <th>3</th>\n",
              "      <td>0.751799</td>\n",
              "      <td>0.768953</td>\n",
              "      <td>0.794224</td>\n",
              "      <td>0.765343</td>\n",
              "      <td>0.718412</td>\n",
              "      <td>KNN</td>\n",
              "      <td>0.759746</td>\n",
              "      <td>0.024805</td>\n",
              "    </tr>\n",
              "    <tr>\n",
              "      <th>4</th>\n",
              "      <td>0.687050</td>\n",
              "      <td>0.725632</td>\n",
              "      <td>0.682310</td>\n",
              "      <td>0.732852</td>\n",
              "      <td>0.696751</td>\n",
              "      <td>Decision Tree</td>\n",
              "      <td>0.704919</td>\n",
              "      <td>0.020525</td>\n",
              "    </tr>\n",
              "    <tr>\n",
              "      <th>5</th>\n",
              "      <td>0.737410</td>\n",
              "      <td>0.776173</td>\n",
              "      <td>0.772563</td>\n",
              "      <td>0.779783</td>\n",
              "      <td>0.754513</td>\n",
              "      <td>Gradient Boosting</td>\n",
              "      <td>0.764089</td>\n",
              "      <td>0.015922</td>\n",
              "    </tr>\n",
              "    <tr>\n",
              "      <th>6</th>\n",
              "      <td>0.755396</td>\n",
              "      <td>0.790614</td>\n",
              "      <td>0.794224</td>\n",
              "      <td>0.783394</td>\n",
              "      <td>0.772563</td>\n",
              "      <td>Naïve Bayes</td>\n",
              "      <td>0.779238</td>\n",
              "      <td>0.014030</td>\n",
              "    </tr>\n",
              "  </tbody>\n",
              "</table>\n",
              "</div>\n",
              "      <button class=\"colab-df-convert\" onclick=\"convertToInteractive('df-3d456a4e-405f-40a4-ad23-2b33dcf01872')\"\n",
              "              title=\"Convert this dataframe to an interactive table.\"\n",
              "              style=\"display:none;\">\n",
              "        \n",
              "  <svg xmlns=\"http://www.w3.org/2000/svg\" height=\"24px\"viewBox=\"0 0 24 24\"\n",
              "       width=\"24px\">\n",
              "    <path d=\"M0 0h24v24H0V0z\" fill=\"none\"/>\n",
              "    <path d=\"M18.56 5.44l.94 2.06.94-2.06 2.06-.94-2.06-.94-.94-2.06-.94 2.06-2.06.94zm-11 1L8.5 8.5l.94-2.06 2.06-.94-2.06-.94L8.5 2.5l-.94 2.06-2.06.94zm10 10l.94 2.06.94-2.06 2.06-.94-2.06-.94-.94-2.06-.94 2.06-2.06.94z\"/><path d=\"M17.41 7.96l-1.37-1.37c-.4-.4-.92-.59-1.43-.59-.52 0-1.04.2-1.43.59L10.3 9.45l-7.72 7.72c-.78.78-.78 2.05 0 2.83L4 21.41c.39.39.9.59 1.41.59.51 0 1.02-.2 1.41-.59l7.78-7.78 2.81-2.81c.8-.78.8-2.07 0-2.86zM5.41 20L4 18.59l7.72-7.72 1.47 1.35L5.41 20z\"/>\n",
              "  </svg>\n",
              "      </button>\n",
              "      \n",
              "  <style>\n",
              "    .colab-df-container {\n",
              "      display:flex;\n",
              "      flex-wrap:wrap;\n",
              "      gap: 12px;\n",
              "    }\n",
              "\n",
              "    .colab-df-convert {\n",
              "      background-color: #E8F0FE;\n",
              "      border: none;\n",
              "      border-radius: 50%;\n",
              "      cursor: pointer;\n",
              "      display: none;\n",
              "      fill: #1967D2;\n",
              "      height: 32px;\n",
              "      padding: 0 0 0 0;\n",
              "      width: 32px;\n",
              "    }\n",
              "\n",
              "    .colab-df-convert:hover {\n",
              "      background-color: #E2EBFA;\n",
              "      box-shadow: 0px 1px 2px rgba(60, 64, 67, 0.3), 0px 1px 3px 1px rgba(60, 64, 67, 0.15);\n",
              "      fill: #174EA6;\n",
              "    }\n",
              "\n",
              "    [theme=dark] .colab-df-convert {\n",
              "      background-color: #3B4455;\n",
              "      fill: #D2E3FC;\n",
              "    }\n",
              "\n",
              "    [theme=dark] .colab-df-convert:hover {\n",
              "      background-color: #434B5C;\n",
              "      box-shadow: 0px 1px 3px 1px rgba(0, 0, 0, 0.15);\n",
              "      filter: drop-shadow(0px 1px 2px rgba(0, 0, 0, 0.3));\n",
              "      fill: #FFFFFF;\n",
              "    }\n",
              "  </style>\n",
              "\n",
              "      <script>\n",
              "        const buttonEl =\n",
              "          document.querySelector('#df-3d456a4e-405f-40a4-ad23-2b33dcf01872 button.colab-df-convert');\n",
              "        buttonEl.style.display =\n",
              "          google.colab.kernel.accessAllowed ? 'block' : 'none';\n",
              "\n",
              "        async function convertToInteractive(key) {\n",
              "          const element = document.querySelector('#df-3d456a4e-405f-40a4-ad23-2b33dcf01872');\n",
              "          const dataTable =\n",
              "            await google.colab.kernel.invokeFunction('convertToInteractive',\n",
              "                                                     [key], {});\n",
              "          if (!dataTable) return;\n",
              "\n",
              "          const docLinkHtml = 'Like what you see? Visit the ' +\n",
              "            '<a target=\"_blank\" href=https://colab.research.google.com/notebooks/data_table.ipynb>data table notebook</a>'\n",
              "            + ' to learn more about interactive tables.';\n",
              "          element.innerHTML = '';\n",
              "          dataTable['output_type'] = 'display_data';\n",
              "          await google.colab.output.renderOutput(dataTable, element);\n",
              "          const docLink = document.createElement('div');\n",
              "          docLink.innerHTML = docLinkHtml;\n",
              "          element.appendChild(docLink);\n",
              "        }\n",
              "      </script>\n",
              "    </div>\n",
              "  </div>\n",
              "  "
            ],
            "text/plain": [
              "          0         1         2  ...               Method      Mean       Std\n",
              "0  0.744604  0.783394  0.783394  ...  Logistic Regression  0.775636  0.022275\n",
              "1  0.755396  0.783394  0.805054  ...                  SVM  0.779960  0.016195\n",
              "2  0.741007  0.776173  0.776173  ...        Random Forest  0.766974  0.019867\n",
              "3  0.751799  0.768953  0.794224  ...                  KNN  0.759746  0.024805\n",
              "4  0.687050  0.725632  0.682310  ...        Decision Tree  0.704919  0.020525\n",
              "5  0.737410  0.776173  0.772563  ...    Gradient Boosting  0.764089  0.015922\n",
              "6  0.755396  0.790614  0.794224  ...          Naïve Bayes  0.779238  0.014030\n",
              "\n",
              "[7 rows x 8 columns]"
            ]
          },
          "metadata": {},
          "execution_count": 29
        }
      ]
    },
    {
      "cell_type": "markdown",
      "source": [
        "###**Sense els atributs TeamIDA i TeamIDB**"
      ],
      "metadata": {
        "id": "8hosiTbZ3tIO"
      }
    },
    {
      "cell_type": "code",
      "source": [
        "dt_sense = dt \n",
        "dt_sense.drop(['TeamIdA','TeamIdB'], axis=1, inplace=True)\n",
        "X1=dt_sense.iloc[:,:-1]\n",
        "y1=dt_sense.iloc[:,-1]"
      ],
      "metadata": {
        "id": "87mIvueO5ePg"
      },
      "execution_count": 30,
      "outputs": []
    },
    {
      "cell_type": "code",
      "source": [
        "lr = cross_val_score(LogisticRegression(max_iter=1000), X1, y1)\n",
        "svm = cross_val_score(SVC(), X1, y1)\n",
        "rf = cross_val_score(RandomForestClassifier(), X1, y1)\n",
        "knn = cross_val_score(KNeighborsClassifier(), X1, y1)\n",
        "dtree= cross_val_score(tree.DecisionTreeClassifier(), X1, y1)\n",
        "gb= cross_val_score(GradientBoostingClassifier(), X1, y1)\n",
        "gaus= cross_val_score(GaussianNB(), X1, y1)\n",
        "\n",
        "data=[lr, svm, rf, knn, dtree, gb, gaus]\n",
        "mean=[lr.mean(), svm.mean(), rf.mean(), knn.mean(), dtree.mean(), gb.mean(), gaus.mean()]\n",
        "std=[lr.std(), svm.std(), rf.std(), knn.std(), dtree.std(), gb.std(), gaus.std()]\n",
        "\n",
        "results= pd.DataFrame(data)\n",
        "results['Method']=['Logistic Regression', 'SVM','Random Forest', 'KNN', 'Decision Tree', 'Gradient Boosting', 'Naïve Bayes']\n",
        "results['Mean']= mean\n",
        "results['Std']=std\n",
        "results"
      ],
      "metadata": {
        "colab": {
          "base_uri": "https://localhost:8080/",
          "height": 269
        },
        "id": "nYhiDwKZ33dI",
        "outputId": "b6eba57a-020f-4223-ca27-064119f187f0"
      },
      "execution_count": 31,
      "outputs": [
        {
          "output_type": "execute_result",
          "data": {
            "text/html": [
              "\n",
              "  <div id=\"df-068bcf93-f3b0-491f-808a-a886ee085273\">\n",
              "    <div class=\"colab-df-container\">\n",
              "      <div>\n",
              "<style scoped>\n",
              "    .dataframe tbody tr th:only-of-type {\n",
              "        vertical-align: middle;\n",
              "    }\n",
              "\n",
              "    .dataframe tbody tr th {\n",
              "        vertical-align: top;\n",
              "    }\n",
              "\n",
              "    .dataframe thead th {\n",
              "        text-align: right;\n",
              "    }\n",
              "</style>\n",
              "<table border=\"1\" class=\"dataframe\">\n",
              "  <thead>\n",
              "    <tr style=\"text-align: right;\">\n",
              "      <th></th>\n",
              "      <th>0</th>\n",
              "      <th>1</th>\n",
              "      <th>2</th>\n",
              "      <th>3</th>\n",
              "      <th>4</th>\n",
              "      <th>Method</th>\n",
              "      <th>Mean</th>\n",
              "      <th>Std</th>\n",
              "    </tr>\n",
              "  </thead>\n",
              "  <tbody>\n",
              "    <tr>\n",
              "      <th>0</th>\n",
              "      <td>0.758993</td>\n",
              "      <td>0.783394</td>\n",
              "      <td>0.808664</td>\n",
              "      <td>0.823105</td>\n",
              "      <td>0.794224</td>\n",
              "      <td>Logistic Regression</td>\n",
              "      <td>0.793676</td>\n",
              "      <td>0.021907</td>\n",
              "    </tr>\n",
              "    <tr>\n",
              "      <th>1</th>\n",
              "      <td>0.758993</td>\n",
              "      <td>0.783394</td>\n",
              "      <td>0.808664</td>\n",
              "      <td>0.805054</td>\n",
              "      <td>0.776173</td>\n",
              "      <td>SVM</td>\n",
              "      <td>0.786456</td>\n",
              "      <td>0.018485</td>\n",
              "    </tr>\n",
              "    <tr>\n",
              "      <th>2</th>\n",
              "      <td>0.730216</td>\n",
              "      <td>0.768953</td>\n",
              "      <td>0.754513</td>\n",
              "      <td>0.805054</td>\n",
              "      <td>0.740072</td>\n",
              "      <td>Random Forest</td>\n",
              "      <td>0.759762</td>\n",
              "      <td>0.026169</td>\n",
              "    </tr>\n",
              "    <tr>\n",
              "      <th>3</th>\n",
              "      <td>0.715827</td>\n",
              "      <td>0.750903</td>\n",
              "      <td>0.772563</td>\n",
              "      <td>0.776173</td>\n",
              "      <td>0.772563</td>\n",
              "      <td>KNN</td>\n",
              "      <td>0.757606</td>\n",
              "      <td>0.022727</td>\n",
              "    </tr>\n",
              "    <tr>\n",
              "      <th>4</th>\n",
              "      <td>0.694245</td>\n",
              "      <td>0.729242</td>\n",
              "      <td>0.693141</td>\n",
              "      <td>0.725632</td>\n",
              "      <td>0.689531</td>\n",
              "      <td>Decision Tree</td>\n",
              "      <td>0.706358</td>\n",
              "      <td>0.017319</td>\n",
              "    </tr>\n",
              "    <tr>\n",
              "      <th>5</th>\n",
              "      <td>0.748201</td>\n",
              "      <td>0.776173</td>\n",
              "      <td>0.768953</td>\n",
              "      <td>0.787004</td>\n",
              "      <td>0.768953</td>\n",
              "      <td>Gradient Boosting</td>\n",
              "      <td>0.769857</td>\n",
              "      <td>0.012685</td>\n",
              "    </tr>\n",
              "    <tr>\n",
              "      <th>6</th>\n",
              "      <td>0.751799</td>\n",
              "      <td>0.787004</td>\n",
              "      <td>0.797834</td>\n",
              "      <td>0.787004</td>\n",
              "      <td>0.772563</td>\n",
              "      <td>Naïve Bayes</td>\n",
              "      <td>0.779241</td>\n",
              "      <td>0.015899</td>\n",
              "    </tr>\n",
              "  </tbody>\n",
              "</table>\n",
              "</div>\n",
              "      <button class=\"colab-df-convert\" onclick=\"convertToInteractive('df-068bcf93-f3b0-491f-808a-a886ee085273')\"\n",
              "              title=\"Convert this dataframe to an interactive table.\"\n",
              "              style=\"display:none;\">\n",
              "        \n",
              "  <svg xmlns=\"http://www.w3.org/2000/svg\" height=\"24px\"viewBox=\"0 0 24 24\"\n",
              "       width=\"24px\">\n",
              "    <path d=\"M0 0h24v24H0V0z\" fill=\"none\"/>\n",
              "    <path d=\"M18.56 5.44l.94 2.06.94-2.06 2.06-.94-2.06-.94-.94-2.06-.94 2.06-2.06.94zm-11 1L8.5 8.5l.94-2.06 2.06-.94-2.06-.94L8.5 2.5l-.94 2.06-2.06.94zm10 10l.94 2.06.94-2.06 2.06-.94-2.06-.94-.94-2.06-.94 2.06-2.06.94z\"/><path d=\"M17.41 7.96l-1.37-1.37c-.4-.4-.92-.59-1.43-.59-.52 0-1.04.2-1.43.59L10.3 9.45l-7.72 7.72c-.78.78-.78 2.05 0 2.83L4 21.41c.39.39.9.59 1.41.59.51 0 1.02-.2 1.41-.59l7.78-7.78 2.81-2.81c.8-.78.8-2.07 0-2.86zM5.41 20L4 18.59l7.72-7.72 1.47 1.35L5.41 20z\"/>\n",
              "  </svg>\n",
              "      </button>\n",
              "      \n",
              "  <style>\n",
              "    .colab-df-container {\n",
              "      display:flex;\n",
              "      flex-wrap:wrap;\n",
              "      gap: 12px;\n",
              "    }\n",
              "\n",
              "    .colab-df-convert {\n",
              "      background-color: #E8F0FE;\n",
              "      border: none;\n",
              "      border-radius: 50%;\n",
              "      cursor: pointer;\n",
              "      display: none;\n",
              "      fill: #1967D2;\n",
              "      height: 32px;\n",
              "      padding: 0 0 0 0;\n",
              "      width: 32px;\n",
              "    }\n",
              "\n",
              "    .colab-df-convert:hover {\n",
              "      background-color: #E2EBFA;\n",
              "      box-shadow: 0px 1px 2px rgba(60, 64, 67, 0.3), 0px 1px 3px 1px rgba(60, 64, 67, 0.15);\n",
              "      fill: #174EA6;\n",
              "    }\n",
              "\n",
              "    [theme=dark] .colab-df-convert {\n",
              "      background-color: #3B4455;\n",
              "      fill: #D2E3FC;\n",
              "    }\n",
              "\n",
              "    [theme=dark] .colab-df-convert:hover {\n",
              "      background-color: #434B5C;\n",
              "      box-shadow: 0px 1px 3px 1px rgba(0, 0, 0, 0.15);\n",
              "      filter: drop-shadow(0px 1px 2px rgba(0, 0, 0, 0.3));\n",
              "      fill: #FFFFFF;\n",
              "    }\n",
              "  </style>\n",
              "\n",
              "      <script>\n",
              "        const buttonEl =\n",
              "          document.querySelector('#df-068bcf93-f3b0-491f-808a-a886ee085273 button.colab-df-convert');\n",
              "        buttonEl.style.display =\n",
              "          google.colab.kernel.accessAllowed ? 'block' : 'none';\n",
              "\n",
              "        async function convertToInteractive(key) {\n",
              "          const element = document.querySelector('#df-068bcf93-f3b0-491f-808a-a886ee085273');\n",
              "          const dataTable =\n",
              "            await google.colab.kernel.invokeFunction('convertToInteractive',\n",
              "                                                     [key], {});\n",
              "          if (!dataTable) return;\n",
              "\n",
              "          const docLinkHtml = 'Like what you see? Visit the ' +\n",
              "            '<a target=\"_blank\" href=https://colab.research.google.com/notebooks/data_table.ipynb>data table notebook</a>'\n",
              "            + ' to learn more about interactive tables.';\n",
              "          element.innerHTML = '';\n",
              "          dataTable['output_type'] = 'display_data';\n",
              "          await google.colab.output.renderOutput(dataTable, element);\n",
              "          const docLink = document.createElement('div');\n",
              "          docLink.innerHTML = docLinkHtml;\n",
              "          element.appendChild(docLink);\n",
              "        }\n",
              "      </script>\n",
              "    </div>\n",
              "  </div>\n",
              "  "
            ],
            "text/plain": [
              "          0         1         2  ...               Method      Mean       Std\n",
              "0  0.758993  0.783394  0.808664  ...  Logistic Regression  0.793676  0.021907\n",
              "1  0.758993  0.783394  0.808664  ...                  SVM  0.786456  0.018485\n",
              "2  0.730216  0.768953  0.754513  ...        Random Forest  0.759762  0.026169\n",
              "3  0.715827  0.750903  0.772563  ...                  KNN  0.757606  0.022727\n",
              "4  0.694245  0.729242  0.693141  ...        Decision Tree  0.706358  0.017319\n",
              "5  0.748201  0.776173  0.768953  ...    Gradient Boosting  0.769857  0.012685\n",
              "6  0.751799  0.787004  0.797834  ...          Naïve Bayes  0.779241  0.015899\n",
              "\n",
              "[7 rows x 8 columns]"
            ]
          },
          "metadata": {},
          "execution_count": 31
        }
      ]
    },
    {
      "cell_type": "markdown",
      "source": [
        "Com em canviaven cada vegada he afegit el np.random.seed() al principi.\n",
        "\n",
        "Em quedo amb la opció sense els atributs TeamIdA i TeamIdB perquè no em convenç."
      ],
      "metadata": {
        "id": "LyNgkDjiFEgK"
      }
    },
    {
      "cell_type": "code",
      "source": [
        "dt=dt_sense\n",
        "X=X1\n",
        "y=y1"
      ],
      "metadata": {
        "id": "Ga2dIr8MYB9I"
      },
      "execution_count": 32,
      "outputs": []
    },
    {
      "cell_type": "markdown",
      "source": [
        "### **Parameter tunning with Grid Search**"
      ],
      "metadata": {
        "id": "LLA2BCIfqVtX"
      }
    },
    {
      "cell_type": "code",
      "source": [
        "from sklearn.model_selection import GridSearchCV\n",
        "from sklearn.metrics import accuracy_score"
      ],
      "metadata": {
        "id": "ykKb0jQXQwAr"
      },
      "execution_count": 33,
      "outputs": []
    },
    {
      "cell_type": "code",
      "source": [
        "from sklearn.model_selection import train_test_split\n",
        "np.random.seed(1234)\n",
        "X_train, X_test, y_train, y_test = train_test_split(X, y, test_size=0.3)"
      ],
      "metadata": {
        "id": "foR0bBdSGjBp"
      },
      "execution_count": 34,
      "outputs": []
    },
    {
      "cell_type": "code",
      "source": [
        "def get_score(model, X_train, X_test, y_train, y_test):\n",
        "    model.fit(X_train, y_train)\n",
        "    return model.score(X_test, y_test)"
      ],
      "metadata": {
        "id": "AkLwL2LyW3Yh"
      },
      "execution_count": 35,
      "outputs": []
    },
    {
      "cell_type": "code",
      "source": [
        "ths=dt.shape[0]*2//3\n",
        "training=dt.iloc[:ths,:-1]\n",
        "training_labels=dt.iloc[:ths,-1]\n",
        "test=dt.iloc[ths:,:-1]\n",
        "test_labels=dt.iloc[ths:,-1]"
      ],
      "metadata": {
        "id": "9oWFDoH2Qqt8"
      },
      "execution_count": 36,
      "outputs": []
    },
    {
      "cell_type": "code",
      "source": [
        "from sklearn.metrics import accuracy_score\n",
        "def classification(clf):\n",
        "  clf.fit(training,training_labels)\n",
        "  preds = pd.Series(clf.predict(test), name='preds')\n",
        "  reals = pd.Series(test_labels, name='reals')\n",
        "  reals.index = range(dt.shape[0]-ths)\n",
        "  print('accuracy: ' + str(accuracy_score(reals,preds)))\n",
        "  display(pd.crosstab(reals,preds))"
      ],
      "metadata": {
        "id": "iFRjjzrPNsZ3"
      },
      "execution_count": 37,
      "outputs": []
    },
    {
      "cell_type": "markdown",
      "source": [
        " #### SVM"
      ],
      "metadata": {
        "id": "64PbcyCfNhw-"
      }
    },
    {
      "cell_type": "code",
      "source": [
        "print('linear: ' + str(get_score(SVC(kernel='linear'),X_train, X_test, y_train, y_test)))\n",
        "print('poly: ' + str(get_score(SVC(kernel='poly'),X_train, X_test, y_train, y_test)))\n",
        "print('rbf: ' + str(get_score(SVC(kernel='rbf'),X_train, X_test, y_train, y_test)))"
      ],
      "metadata": {
        "colab": {
          "base_uri": "https://localhost:8080/"
        },
        "id": "DfCHYAGlW6X0",
        "outputId": "50da95d6-aa68-4233-871b-c84c96e6f276"
      },
      "execution_count": 38,
      "outputs": [
        {
          "output_type": "stream",
          "name": "stdout",
          "text": [
            "linear: 0.8052884615384616\n",
            "poly: 0.8028846153846154\n",
            "rbf: 0.8076923076923077\n"
          ]
        }
      ]
    },
    {
      "cell_type": "markdown",
      "source": [
        "em quedo amb'rbf'"
      ],
      "metadata": {
        "id": "xS4A4avAXbB6"
      }
    },
    {
      "cell_type": "code",
      "source": [
        "param_grid_svm = {'C': [0.1, 1, 10, 100, 1000],\n",
        "              'gamma': [100, 10, 1, 0.1, 0.01]}\n",
        "\n",
        "grid = GridSearchCV(SVC(kernel='rbf'), param_grid_svm, scoring='neg_mean_squared_error', return_train_score=True)\n",
        "grid.fit(X_train, y_train)\n",
        "print(grid.best_params_)\n",
        "print(grid.best_estimator_)"
      ],
      "metadata": {
        "id": "sYw7iYlaqW_S",
        "colab": {
          "base_uri": "https://localhost:8080/"
        },
        "outputId": "0a59c28f-572c-44f9-c573-2994e27d05ec"
      },
      "execution_count": 39,
      "outputs": [
        {
          "output_type": "stream",
          "name": "stdout",
          "text": [
            "{'C': 10, 'gamma': 1}\n",
            "SVC(C=10, gamma=1)\n"
          ]
        }
      ]
    },
    {
      "cell_type": "code",
      "source": [
        "from mpl_toolkits.mplot3d import axes3d\n",
        "\n",
        "fig = plt.figure()\n",
        "ax1 = fig.add_subplot(111,projection='3d')\n",
        "\n",
        "cvres_svm=grid.cv_results_\n",
        "for mean_score, params in zip(cvres_svm['mean_test_score'], cvres_svm['params']):\n",
        "  print(np.sqrt(-mean_score), params)\n",
        "  ax1.scatter(params['C'], params['gamma'], np.sqrt(-mean_score))\n",
        "\n",
        "plt.ylabel('gamma')\n",
        "plt.xlabel('C')\n",
        "plt.show"
      ],
      "metadata": {
        "colab": {
          "base_uri": "https://localhost:8080/",
          "height": 699
        },
        "id": "QJU2dGyhSxHl",
        "outputId": "70474047-ae9e-4914-df14-1e1bd5068b75"
      },
      "execution_count": 40,
      "outputs": [
        {
          "output_type": "stream",
          "name": "stdout",
          "text": [
            "0.6946036472724022 {'C': 0.1, 'gamma': 100}\n",
            "0.4826900565804618 {'C': 0.1, 'gamma': 10}\n",
            "0.46860178069014996 {'C': 0.1, 'gamma': 1}\n",
            "0.47623956546190094 {'C': 0.1, 'gamma': 0.1}\n",
            "0.6946036472724022 {'C': 0.1, 'gamma': 0.01}\n",
            "0.6167757867604894 {'C': 1, 'gamma': 100}\n",
            "0.48482114887012984 {'C': 1, 'gamma': 10}\n",
            "0.46750048238577024 {'C': 1, 'gamma': 1}\n",
            "0.4707966488156882 {'C': 1, 'gamma': 0.1}\n",
            "0.4740698978433846 {'C': 1, 'gamma': 0.01}\n",
            "0.6066640232562024 {'C': 10, 'gamma': 100}\n",
            "0.5334192370680184 {'C': 10, 'gamma': 10}\n",
            "0.4641809103418334 {'C': 10, 'gamma': 1}\n",
            "0.4641809103418334 {'C': 10, 'gamma': 0.1}\n",
            "0.4718902545837687 {'C': 10, 'gamma': 0.01}\n",
            "0.6066640232562024 {'C': 100, 'gamma': 100}\n",
            "0.5334192370680184 {'C': 100, 'gamma': 10}\n",
            "0.47515597005224364 {'C': 100, 'gamma': 1}\n",
            "0.46750048238577024 {'C': 100, 'gamma': 0.1}\n",
            "0.46529006583079413 {'C': 100, 'gamma': 0.01}\n",
            "0.6066640232562024 {'C': 1000, 'gamma': 100}\n",
            "0.5275893435844943 {'C': 1000, 'gamma': 10}\n",
            "0.49325345317814545 {'C': 1000, 'gamma': 1}\n",
            "0.4641809103418334 {'C': 1000, 'gamma': 0.1}\n",
            "0.46750048238577024 {'C': 1000, 'gamma': 0.01}\n"
          ]
        },
        {
          "output_type": "execute_result",
          "data": {
            "text/plain": [
              "<function matplotlib.pyplot.show>"
            ]
          },
          "metadata": {},
          "execution_count": 40
        },
        {
          "output_type": "display_data",
          "data": {
            "image/png": "[encoded data removed]",
            "text/plain": [
              "<Figure size 432x288 with 1 Axes>"
            ]
          },
          "metadata": {
            "needs_background": "light"
          }
        }
      ]
    },
    {
      "cell_type": "markdown",
      "source": [
        "El millor RMSE score és 0.4619546101682178 i s'aconsegueix amb {'C': 100, 'gamma': 0.01, 'kernel': 'rbf'}"
      ],
      "metadata": {
        "id": "gx8EHRUeV4Ay"
      }
    },
    {
      "cell_type": "code",
      "source": [
        "svm=SVC(C=100, gamma=0.01).fit(training,training_labels)\n",
        "preds = pd.Series(svm.predict(test), name='preds')\n",
        "reals = pd.Series(test_labels, name='reals')\n",
        "reals.index = range(dt.shape[0]-ths)\n",
        "print('accuracy: ' + str(accuracy_score(reals,preds)))\n",
        "display(pd.crosstab(reals,preds))"
      ],
      "metadata": {
        "colab": {
          "base_uri": "https://localhost:8080/",
          "height": 161
        },
        "id": "AozswjHEA02p",
        "outputId": "fb4bbc17-e8d8-4703-8e07-574cc10f298d"
      },
      "execution_count": 41,
      "outputs": [
        {
          "output_type": "stream",
          "name": "stdout",
          "text": [
            "accuracy: 0.79004329004329\n"
          ]
        },
        {
          "output_type": "display_data",
          "data": {
            "text/html": [
              "\n",
              "  <div id=\"df-1f2cde58-2953-4c5f-bfbd-4235b9e39950\">\n",
              "    <div class=\"colab-df-container\">\n",
              "      <div>\n",
              "<style scoped>\n",
              "    .dataframe tbody tr th:only-of-type {\n",
              "        vertical-align: middle;\n",
              "    }\n",
              "\n",
              "    .dataframe tbody tr th {\n",
              "        vertical-align: top;\n",
              "    }\n",
              "\n",
              "    .dataframe thead th {\n",
              "        text-align: right;\n",
              "    }\n",
              "</style>\n",
              "<table border=\"1\" class=\"dataframe\">\n",
              "  <thead>\n",
              "    <tr style=\"text-align: right;\">\n",
              "      <th>preds</th>\n",
              "      <th>0.0</th>\n",
              "      <th>1.0</th>\n",
              "    </tr>\n",
              "    <tr>\n",
              "      <th>reals</th>\n",
              "      <th></th>\n",
              "      <th></th>\n",
              "    </tr>\n",
              "  </thead>\n",
              "  <tbody>\n",
              "    <tr>\n",
              "      <th>0.0</th>\n",
              "      <td>169</td>\n",
              "      <td>50</td>\n",
              "    </tr>\n",
              "    <tr>\n",
              "      <th>1.0</th>\n",
              "      <td>47</td>\n",
              "      <td>196</td>\n",
              "    </tr>\n",
              "  </tbody>\n",
              "</table>\n",
              "</div>\n",
              "      <button class=\"colab-df-convert\" onclick=\"convertToInteractive('df-1f2cde58-2953-4c5f-bfbd-4235b9e39950')\"\n",
              "              title=\"Convert this dataframe to an interactive table.\"\n",
              "              style=\"display:none;\">\n",
              "        \n",
              "  <svg xmlns=\"http://www.w3.org/2000/svg\" height=\"24px\"viewBox=\"0 0 24 24\"\n",
              "       width=\"24px\">\n",
              "    <path d=\"M0 0h24v24H0V0z\" fill=\"none\"/>\n",
              "    <path d=\"M18.56 5.44l.94 2.06.94-2.06 2.06-.94-2.06-.94-.94-2.06-.94 2.06-2.06.94zm-11 1L8.5 8.5l.94-2.06 2.06-.94-2.06-.94L8.5 2.5l-.94 2.06-2.06.94zm10 10l.94 2.06.94-2.06 2.06-.94-2.06-.94-.94-2.06-.94 2.06-2.06.94z\"/><path d=\"M17.41 7.96l-1.37-1.37c-.4-.4-.92-.59-1.43-.59-.52 0-1.04.2-1.43.59L10.3 9.45l-7.72 7.72c-.78.78-.78 2.05 0 2.83L4 21.41c.39.39.9.59 1.41.59.51 0 1.02-.2 1.41-.59l7.78-7.78 2.81-2.81c.8-.78.8-2.07 0-2.86zM5.41 20L4 18.59l7.72-7.72 1.47 1.35L5.41 20z\"/>\n",
              "  </svg>\n",
              "      </button>\n",
              "      \n",
              "  <style>\n",
              "    .colab-df-container {\n",
              "      display:flex;\n",
              "      flex-wrap:wrap;\n",
              "      gap: 12px;\n",
              "    }\n",
              "\n",
              "    .colab-df-convert {\n",
              "      background-color: #E8F0FE;\n",
              "      border: none;\n",
              "      border-radius: 50%;\n",
              "      cursor: pointer;\n",
              "      display: none;\n",
              "      fill: #1967D2;\n",
              "      height: 32px;\n",
              "      padding: 0 0 0 0;\n",
              "      width: 32px;\n",
              "    }\n",
              "\n",
              "    .colab-df-convert:hover {\n",
              "      background-color: #E2EBFA;\n",
              "      box-shadow: 0px 1px 2px rgba(60, 64, 67, 0.3), 0px 1px 3px 1px rgba(60, 64, 67, 0.15);\n",
              "      fill: #174EA6;\n",
              "    }\n",
              "\n",
              "    [theme=dark] .colab-df-convert {\n",
              "      background-color: #3B4455;\n",
              "      fill: #D2E3FC;\n",
              "    }\n",
              "\n",
              "    [theme=dark] .colab-df-convert:hover {\n",
              "      background-color: #434B5C;\n",
              "      box-shadow: 0px 1px 3px 1px rgba(0, 0, 0, 0.15);\n",
              "      filter: drop-shadow(0px 1px 2px rgba(0, 0, 0, 0.3));\n",
              "      fill: #FFFFFF;\n",
              "    }\n",
              "  </style>\n",
              "\n",
              "      <script>\n",
              "        const buttonEl =\n",
              "          document.querySelector('#df-1f2cde58-2953-4c5f-bfbd-4235b9e39950 button.colab-df-convert');\n",
              "        buttonEl.style.display =\n",
              "          google.colab.kernel.accessAllowed ? 'block' : 'none';\n",
              "\n",
              "        async function convertToInteractive(key) {\n",
              "          const element = document.querySelector('#df-1f2cde58-2953-4c5f-bfbd-4235b9e39950');\n",
              "          const dataTable =\n",
              "            await google.colab.kernel.invokeFunction('convertToInteractive',\n",
              "                                                     [key], {});\n",
              "          if (!dataTable) return;\n",
              "\n",
              "          const docLinkHtml = 'Like what you see? Visit the ' +\n",
              "            '<a target=\"_blank\" href=https://colab.research.google.com/notebooks/data_table.ipynb>data table notebook</a>'\n",
              "            + ' to learn more about interactive tables.';\n",
              "          element.innerHTML = '';\n",
              "          dataTable['output_type'] = 'display_data';\n",
              "          await google.colab.output.renderOutput(dataTable, element);\n",
              "          const docLink = document.createElement('div');\n",
              "          docLink.innerHTML = docLinkHtml;\n",
              "          element.appendChild(docLink);\n",
              "        }\n",
              "      </script>\n",
              "    </div>\n",
              "  </div>\n",
              "  "
            ],
            "text/plain": [
              "preds  0.0  1.0\n",
              "reals          \n",
              "0.0    169   50\n",
              "1.0     47  196"
            ]
          },
          "metadata": {}
        }
      ]
    },
    {
      "cell_type": "markdown",
      "source": [
        "#### Logistic Regression"
      ],
      "metadata": {
        "id": "5SRqF9ALYTYl"
      }
    },
    {
      "cell_type": "code",
      "source": [
        "param_grid_logreg={'C': [0.1, 1, 10, 100, 1000, 10000]}\n",
        "\n",
        "grid_logreg = GridSearchCV(LogisticRegression(penalty='l2', max_iter=1000), param_grid_logreg, scoring='neg_mean_squared_error', return_train_score=True)\n",
        "grid_logreg.fit(X_train, y_train)\n",
        "print(grid_logreg.best_params_)\n",
        "print(grid_logreg.best_estimator_)"
      ],
      "metadata": {
        "colab": {
          "base_uri": "https://localhost:8080/"
        },
        "id": "nwv1mgBVYGDa",
        "outputId": "b8227fe0-b6d6-47af-f0fd-0c380cc1662a"
      },
      "execution_count": 42,
      "outputs": [
        {
          "output_type": "stream",
          "name": "stdout",
          "text": [
            "{'C': 10}\n",
            "LogisticRegression(C=10, max_iter=1000)\n"
          ]
        }
      ]
    },
    {
      "cell_type": "code",
      "source": [
        "cvres_logreg=grid_logreg.cv_results_\n",
        "plt.figure(figsize=(8, 6))\n",
        "for mean_score, params in zip(cvres_logreg['mean_test_score'], cvres_logreg['params']):\n",
        "  print(np.sqrt(-mean_score), params)\n",
        "  plt.scatter(params['C'], np.sqrt(-mean_score))\n",
        "\n",
        "plt.xscale('log')\n",
        "plt.ylabel('RMSE')\n",
        "plt.xlabel('C')    \n",
        "plt.show()\n"
      ],
      "metadata": {
        "colab": {
          "base_uri": "https://localhost:8080/",
          "height": 496
        },
        "id": "IQhSrVjRdUek",
        "outputId": "8aee5360-9c1e-44e5-8063-c7639b26b18f"
      },
      "execution_count": 43,
      "outputs": [
        {
          "output_type": "stream",
          "name": "stdout",
          "text": [
            "0.47298133177344914 {'C': 0.1}\n",
            "0.4686017806901499 {'C': 1}\n",
            "0.4675004823857702 {'C': 10}\n",
            "0.4707966488156882 {'C': 100}\n",
            "0.4707966488156882 {'C': 1000}\n",
            "0.4707966488156882 {'C': 10000}\n"
          ]
        },
        {
          "output_type": "display_data",
          "data": {
            "image/png": "[encoded data removed]",
            "text/plain": [
              "<Figure size 576x432 with 1 Axes>"
            ]
          },
          "metadata": {
            "needs_background": "light"
          }
        }
      ]
    },
    {
      "cell_type": "markdown",
      "source": [
        "menor RMSE és 0.46860178069014996 i s'aconsegueix amb {'C': 10}"
      ],
      "metadata": {
        "id": "M9CvUOgMdppG"
      }
    },
    {
      "cell_type": "code",
      "source": [
        "classification(LogisticRegression(C=10, max_iter=1000))"
      ],
      "metadata": {
        "colab": {
          "base_uri": "https://localhost:8080/",
          "height": 161
        },
        "id": "fyTjbuCnTRO4",
        "outputId": "ce987bad-53bd-430b-f096-2d3952a2dfb5"
      },
      "execution_count": 44,
      "outputs": [
        {
          "output_type": "stream",
          "name": "stdout",
          "text": [
            "accuracy: 0.7965367965367965\n"
          ]
        },
        {
          "output_type": "display_data",
          "data": {
            "text/html": [
              "\n",
              "  <div id=\"df-40785fe8-748d-4042-8c0d-24028cbf7338\">\n",
              "    <div class=\"colab-df-container\">\n",
              "      <div>\n",
              "<style scoped>\n",
              "    .dataframe tbody tr th:only-of-type {\n",
              "        vertical-align: middle;\n",
              "    }\n",
              "\n",
              "    .dataframe tbody tr th {\n",
              "        vertical-align: top;\n",
              "    }\n",
              "\n",
              "    .dataframe thead th {\n",
              "        text-align: right;\n",
              "    }\n",
              "</style>\n",
              "<table border=\"1\" class=\"dataframe\">\n",
              "  <thead>\n",
              "    <tr style=\"text-align: right;\">\n",
              "      <th>preds</th>\n",
              "      <th>0.0</th>\n",
              "      <th>1.0</th>\n",
              "    </tr>\n",
              "    <tr>\n",
              "      <th>reals</th>\n",
              "      <th></th>\n",
              "      <th></th>\n",
              "    </tr>\n",
              "  </thead>\n",
              "  <tbody>\n",
              "    <tr>\n",
              "      <th>0.0</th>\n",
              "      <td>168</td>\n",
              "      <td>51</td>\n",
              "    </tr>\n",
              "    <tr>\n",
              "      <th>1.0</th>\n",
              "      <td>43</td>\n",
              "      <td>200</td>\n",
              "    </tr>\n",
              "  </tbody>\n",
              "</table>\n",
              "</div>\n",
              "      <button class=\"colab-df-convert\" onclick=\"convertToInteractive('df-40785fe8-748d-4042-8c0d-24028cbf7338')\"\n",
              "              title=\"Convert this dataframe to an interactive table.\"\n",
              "              style=\"display:none;\">\n",
              "        \n",
              "  <svg xmlns=\"http://www.w3.org/2000/svg\" height=\"24px\"viewBox=\"0 0 24 24\"\n",
              "       width=\"24px\">\n",
              "    <path d=\"M0 0h24v24H0V0z\" fill=\"none\"/>\n",
              "    <path d=\"M18.56 5.44l.94 2.06.94-2.06 2.06-.94-2.06-.94-.94-2.06-.94 2.06-2.06.94zm-11 1L8.5 8.5l.94-2.06 2.06-.94-2.06-.94L8.5 2.5l-.94 2.06-2.06.94zm10 10l.94 2.06.94-2.06 2.06-.94-2.06-.94-.94-2.06-.94 2.06-2.06.94z\"/><path d=\"M17.41 7.96l-1.37-1.37c-.4-.4-.92-.59-1.43-.59-.52 0-1.04.2-1.43.59L10.3 9.45l-7.72 7.72c-.78.78-.78 2.05 0 2.83L4 21.41c.39.39.9.59 1.41.59.51 0 1.02-.2 1.41-.59l7.78-7.78 2.81-2.81c.8-.78.8-2.07 0-2.86zM5.41 20L4 18.59l7.72-7.72 1.47 1.35L5.41 20z\"/>\n",
              "  </svg>\n",
              "      </button>\n",
              "      \n",
              "  <style>\n",
              "    .colab-df-container {\n",
              "      display:flex;\n",
              "      flex-wrap:wrap;\n",
              "      gap: 12px;\n",
              "    }\n",
              "\n",
              "    .colab-df-convert {\n",
              "      background-color: #E8F0FE;\n",
              "      border: none;\n",
              "      border-radius: 50%;\n",
              "      cursor: pointer;\n",
              "      display: none;\n",
              "      fill: #1967D2;\n",
              "      height: 32px;\n",
              "      padding: 0 0 0 0;\n",
              "      width: 32px;\n",
              "    }\n",
              "\n",
              "    .colab-df-convert:hover {\n",
              "      background-color: #E2EBFA;\n",
              "      box-shadow: 0px 1px 2px rgba(60, 64, 67, 0.3), 0px 1px 3px 1px rgba(60, 64, 67, 0.15);\n",
              "      fill: #174EA6;\n",
              "    }\n",
              "\n",
              "    [theme=dark] .colab-df-convert {\n",
              "      background-color: #3B4455;\n",
              "      fill: #D2E3FC;\n",
              "    }\n",
              "\n",
              "    [theme=dark] .colab-df-convert:hover {\n",
              "      background-color: #434B5C;\n",
              "      box-shadow: 0px 1px 3px 1px rgba(0, 0, 0, 0.15);\n",
              "      filter: drop-shadow(0px 1px 2px rgba(0, 0, 0, 0.3));\n",
              "      fill: #FFFFFF;\n",
              "    }\n",
              "  </style>\n",
              "\n",
              "      <script>\n",
              "        const buttonEl =\n",
              "          document.querySelector('#df-40785fe8-748d-4042-8c0d-24028cbf7338 button.colab-df-convert');\n",
              "        buttonEl.style.display =\n",
              "          google.colab.kernel.accessAllowed ? 'block' : 'none';\n",
              "\n",
              "        async function convertToInteractive(key) {\n",
              "          const element = document.querySelector('#df-40785fe8-748d-4042-8c0d-24028cbf7338');\n",
              "          const dataTable =\n",
              "            await google.colab.kernel.invokeFunction('convertToInteractive',\n",
              "                                                     [key], {});\n",
              "          if (!dataTable) return;\n",
              "\n",
              "          const docLinkHtml = 'Like what you see? Visit the ' +\n",
              "            '<a target=\"_blank\" href=https://colab.research.google.com/notebooks/data_table.ipynb>data table notebook</a>'\n",
              "            + ' to learn more about interactive tables.';\n",
              "          element.innerHTML = '';\n",
              "          dataTable['output_type'] = 'display_data';\n",
              "          await google.colab.output.renderOutput(dataTable, element);\n",
              "          const docLink = document.createElement('div');\n",
              "          docLink.innerHTML = docLinkHtml;\n",
              "          element.appendChild(docLink);\n",
              "        }\n",
              "      </script>\n",
              "    </div>\n",
              "  </div>\n",
              "  "
            ],
            "text/plain": [
              "preds  0.0  1.0\n",
              "reals          \n",
              "0.0    168   51\n",
              "1.0     43  200"
            ]
          },
          "metadata": {}
        }
      ]
    },
    {
      "cell_type": "markdown",
      "source": [
        "### Naive Bayes"
      ],
      "metadata": {
        "id": "YaARPX3CIsCy"
      }
    },
    {
      "cell_type": "code",
      "source": [
        "param_grid_nb = {'var_smoothing': np.logspace(0,-5, num=25)}\n",
        "grid_nb = GridSearchCV(GaussianNB(), param_grid_nb, scoring='neg_mean_squared_error', return_train_score=True)\n",
        "grid_nb.fit(X_train, y_train)\n",
        "print(grid_nb.best_params_)\n",
        "print(grid_nb.best_estimator_)"
      ],
      "metadata": {
        "colab": {
          "base_uri": "https://localhost:8080/"
        },
        "id": "2dX1tZBjIzHV",
        "outputId": "fda9deaa-e192-460e-a289-f09979d3f04b"
      },
      "execution_count": 45,
      "outputs": [
        {
          "output_type": "stream",
          "name": "stdout",
          "text": [
            "{'var_smoothing': 0.38311868495572876}\n",
            "GaussianNB(var_smoothing=0.38311868495572876)\n"
          ]
        }
      ]
    },
    {
      "cell_type": "code",
      "source": [
        "cvres_nb=grid_nb.cv_results_\n",
        "plt.figure(figsize=(8, 6))\n",
        "for mean_score, params in zip(cvres_nb['mean_test_score'], cvres_nb['params']):\n",
        "  print(np.sqrt(-mean_score), params)\n",
        "  plt.scatter(params['var_smoothing'], np.sqrt(-mean_score))\n",
        "\n",
        "plt.xscale('log')\n",
        "plt.ylabel('RMSE')\n",
        "plt.xlabel('var_smoothing')    \n",
        "plt.show()"
      ],
      "metadata": {
        "colab": {
          "base_uri": "https://localhost:8080/",
          "height": 827
        },
        "id": "5PjDQA9PKIy9",
        "outputId": "2c15a152-97fb-4eee-b47f-66f5b582c8d4"
      },
      "execution_count": 46,
      "outputs": [
        {
          "output_type": "stream",
          "name": "stdout",
          "text": [
            "0.47623956546190094 {'var_smoothing': 1.0}\n",
            "0.47515597005224364 {'var_smoothing': 0.6189658188912606}\n",
            "0.47298133177344914 {'var_smoothing': 0.38311868495572876}\n",
            "0.4740698978433846 {'var_smoothing': 0.23713737056616552}\n",
            "0.47298133177344914 {'var_smoothing': 0.14677992676220694}\n",
            "0.47298133177344914 {'var_smoothing': 0.09085175756516867}\n",
            "0.47298133177344914 {'var_smoothing': 0.05623413251903491}\n",
            "0.4740698978433846 {'var_smoothing': 0.03480700588428409}\n",
            "0.4740698978433846 {'var_smoothing': 0.021544346900318832}\n",
            "0.4740698978433846 {'var_smoothing': 0.01333521432163324}\n",
            "0.47623956546190094 {'var_smoothing': 0.008254041852680182}\n",
            "0.47623956546190094 {'var_smoothing': 0.005108969774506924}\n",
            "0.47623956546190094 {'var_smoothing': 0.0031622776601683794}\n",
            "0.47623956546190094 {'var_smoothing': 0.0019573417814876598}\n",
            "0.47623956546190094 {'var_smoothing': 0.0012115276586285877}\n",
            "0.47623956546190094 {'var_smoothing': 0.0007498942093324559}\n",
            "0.47623956546190094 {'var_smoothing': 0.00046415888336127773}\n",
            "0.47623956546190094 {'var_smoothing': 0.00028729848333536626}\n",
            "0.47623956546190094 {'var_smoothing': 0.00017782794100389227}\n",
            "0.47623956546190094 {'var_smoothing': 0.00011006941712522093}\n",
            "0.47623956546190094 {'var_smoothing': 6.812920690579608e-05}\n",
            "0.47623956546190094 {'var_smoothing': 4.216965034285822e-05}\n",
            "0.47623956546190094 {'var_smoothing': 2.6101572156825332e-05}\n",
            "0.47623956546190094 {'var_smoothing': 1.6155980984398728e-05}\n",
            "0.47623956546190094 {'var_smoothing': 1e-05}\n"
          ]
        },
        {
          "output_type": "display_data",
          "data": {
            "image/png": "[encoded data removed]",
            "text/plain": [
              "<Figure size 576x432 with 1 Axes>"
            ]
          },
          "metadata": {
            "needs_background": "light"
          }
        }
      ]
    },
    {
      "cell_type": "markdown",
      "source": [
        "El menor RMSE és 0.4707966488156882 i s'aconsegueix amb {'var_smoothing': 0.10481131341546858}"
      ],
      "metadata": {
        "id": "VQ6O-_8juPEw"
      }
    },
    {
      "cell_type": "code",
      "source": [
        "classification(GaussianNB(var_smoothing=0.09085175756516867))"
      ],
      "metadata": {
        "colab": {
          "base_uri": "https://localhost:8080/",
          "height": 161
        },
        "id": "fOX0el6DTXTm",
        "outputId": "591da9d9-a93e-40fe-d4d9-7d6f5f940112"
      },
      "execution_count": 47,
      "outputs": [
        {
          "output_type": "stream",
          "name": "stdout",
          "text": [
            "accuracy: 0.7792207792207793\n"
          ]
        },
        {
          "output_type": "display_data",
          "data": {
            "text/html": [
              "\n",
              "  <div id=\"df-e5ef4000-7b0a-4d2a-9a42-bb9adb1e38c8\">\n",
              "    <div class=\"colab-df-container\">\n",
              "      <div>\n",
              "<style scoped>\n",
              "    .dataframe tbody tr th:only-of-type {\n",
              "        vertical-align: middle;\n",
              "    }\n",
              "\n",
              "    .dataframe tbody tr th {\n",
              "        vertical-align: top;\n",
              "    }\n",
              "\n",
              "    .dataframe thead th {\n",
              "        text-align: right;\n",
              "    }\n",
              "</style>\n",
              "<table border=\"1\" class=\"dataframe\">\n",
              "  <thead>\n",
              "    <tr style=\"text-align: right;\">\n",
              "      <th>preds</th>\n",
              "      <th>0.0</th>\n",
              "      <th>1.0</th>\n",
              "    </tr>\n",
              "    <tr>\n",
              "      <th>reals</th>\n",
              "      <th></th>\n",
              "      <th></th>\n",
              "    </tr>\n",
              "  </thead>\n",
              "  <tbody>\n",
              "    <tr>\n",
              "      <th>0.0</th>\n",
              "      <td>160</td>\n",
              "      <td>59</td>\n",
              "    </tr>\n",
              "    <tr>\n",
              "      <th>1.0</th>\n",
              "      <td>43</td>\n",
              "      <td>200</td>\n",
              "    </tr>\n",
              "  </tbody>\n",
              "</table>\n",
              "</div>\n",
              "      <button class=\"colab-df-convert\" onclick=\"convertToInteractive('df-e5ef4000-7b0a-4d2a-9a42-bb9adb1e38c8')\"\n",
              "              title=\"Convert this dataframe to an interactive table.\"\n",
              "              style=\"display:none;\">\n",
              "        \n",
              "  <svg xmlns=\"http://www.w3.org/2000/svg\" height=\"24px\"viewBox=\"0 0 24 24\"\n",
              "       width=\"24px\">\n",
              "    <path d=\"M0 0h24v24H0V0z\" fill=\"none\"/>\n",
              "    <path d=\"M18.56 5.44l.94 2.06.94-2.06 2.06-.94-2.06-.94-.94-2.06-.94 2.06-2.06.94zm-11 1L8.5 8.5l.94-2.06 2.06-.94-2.06-.94L8.5 2.5l-.94 2.06-2.06.94zm10 10l.94 2.06.94-2.06 2.06-.94-2.06-.94-.94-2.06-.94 2.06-2.06.94z\"/><path d=\"M17.41 7.96l-1.37-1.37c-.4-.4-.92-.59-1.43-.59-.52 0-1.04.2-1.43.59L10.3 9.45l-7.72 7.72c-.78.78-.78 2.05 0 2.83L4 21.41c.39.39.9.59 1.41.59.51 0 1.02-.2 1.41-.59l7.78-7.78 2.81-2.81c.8-.78.8-2.07 0-2.86zM5.41 20L4 18.59l7.72-7.72 1.47 1.35L5.41 20z\"/>\n",
              "  </svg>\n",
              "      </button>\n",
              "      \n",
              "  <style>\n",
              "    .colab-df-container {\n",
              "      display:flex;\n",
              "      flex-wrap:wrap;\n",
              "      gap: 12px;\n",
              "    }\n",
              "\n",
              "    .colab-df-convert {\n",
              "      background-color: #E8F0FE;\n",
              "      border: none;\n",
              "      border-radius: 50%;\n",
              "      cursor: pointer;\n",
              "      display: none;\n",
              "      fill: #1967D2;\n",
              "      height: 32px;\n",
              "      padding: 0 0 0 0;\n",
              "      width: 32px;\n",
              "    }\n",
              "\n",
              "    .colab-df-convert:hover {\n",
              "      background-color: #E2EBFA;\n",
              "      box-shadow: 0px 1px 2px rgba(60, 64, 67, 0.3), 0px 1px 3px 1px rgba(60, 64, 67, 0.15);\n",
              "      fill: #174EA6;\n",
              "    }\n",
              "\n",
              "    [theme=dark] .colab-df-convert {\n",
              "      background-color: #3B4455;\n",
              "      fill: #D2E3FC;\n",
              "    }\n",
              "\n",
              "    [theme=dark] .colab-df-convert:hover {\n",
              "      background-color: #434B5C;\n",
              "      box-shadow: 0px 1px 3px 1px rgba(0, 0, 0, 0.15);\n",
              "      filter: drop-shadow(0px 1px 2px rgba(0, 0, 0, 0.3));\n",
              "      fill: #FFFFFF;\n",
              "    }\n",
              "  </style>\n",
              "\n",
              "      <script>\n",
              "        const buttonEl =\n",
              "          document.querySelector('#df-e5ef4000-7b0a-4d2a-9a42-bb9adb1e38c8 button.colab-df-convert');\n",
              "        buttonEl.style.display =\n",
              "          google.colab.kernel.accessAllowed ? 'block' : 'none';\n",
              "\n",
              "        async function convertToInteractive(key) {\n",
              "          const element = document.querySelector('#df-e5ef4000-7b0a-4d2a-9a42-bb9adb1e38c8');\n",
              "          const dataTable =\n",
              "            await google.colab.kernel.invokeFunction('convertToInteractive',\n",
              "                                                     [key], {});\n",
              "          if (!dataTable) return;\n",
              "\n",
              "          const docLinkHtml = 'Like what you see? Visit the ' +\n",
              "            '<a target=\"_blank\" href=https://colab.research.google.com/notebooks/data_table.ipynb>data table notebook</a>'\n",
              "            + ' to learn more about interactive tables.';\n",
              "          element.innerHTML = '';\n",
              "          dataTable['output_type'] = 'display_data';\n",
              "          await google.colab.output.renderOutput(dataTable, element);\n",
              "          const docLink = document.createElement('div');\n",
              "          docLink.innerHTML = docLinkHtml;\n",
              "          element.appendChild(docLink);\n",
              "        }\n",
              "      </script>\n",
              "    </div>\n",
              "  </div>\n",
              "  "
            ],
            "text/plain": [
              "preds  0.0  1.0\n",
              "reals          \n",
              "0.0    160   59\n",
              "1.0     43  200"
            ]
          },
          "metadata": {}
        }
      ]
    },
    {
      "cell_type": "markdown",
      "source": [
        "### Random Forest"
      ],
      "metadata": {
        "id": "Fyk-lDSO6lSs"
      }
    },
    {
      "cell_type": "code",
      "source": [
        "max_depth=[2, 4]\n",
        "n_estimators = [int(x) for x in np.linspace(start=10, stop=80, num=5)]\n",
        "min_samples_split=[2,5]\n",
        "param_grid_rf = dict(max_depth=max_depth, n_estimators=n_estimators, min_samples_split=min_samples_split)\n",
        "grid_rf = GridSearchCV(RandomForestClassifier(), param_grid_rf, scoring='neg_mean_squared_error', return_train_score=True)\n",
        "grid_rf.fit(X_train, y_train)\n",
        "print(grid_rf.best_params_)\n",
        "print(grid_rf.best_estimator_)"
      ],
      "metadata": {
        "colab": {
          "base_uri": "https://localhost:8080/"
        },
        "id": "SL3Drd0T6pK3",
        "outputId": "52e704ac-a68a-4adb-b878-a060961c7242"
      },
      "execution_count": 48,
      "outputs": [
        {
          "output_type": "stream",
          "name": "stdout",
          "text": [
            "{'max_depth': 2, 'min_samples_split': 2, 'n_estimators': 45}\n",
            "RandomForestClassifier(max_depth=2, n_estimators=45)\n"
          ]
        }
      ]
    },
    {
      "cell_type": "code",
      "source": [
        "fig = plt.figure()\n",
        "ax = fig.add_subplot(111,projection='3d')\n",
        "\n",
        "cvres_rf=grid_rf.cv_results_\n",
        "for mean_score, params in zip(cvres_rf['mean_test_score'], cvres_rf['params']):\n",
        "  print(np.sqrt(-mean_score), params)\n",
        "  ax.scatter(params['n_estimators'], params['max_depth'], np.sqrt(-mean_score))\n",
        "\n",
        "plt.ylabel('max_depht')\n",
        "plt.xlabel('n_estimators')\n",
        "plt.show"
      ],
      "metadata": {
        "colab": {
          "base_uri": "https://localhost:8080/",
          "height": 613
        },
        "id": "ogmTG8P99Y6B",
        "outputId": "30438020-61b3-4e05-f07b-2951a12e339f"
      },
      "execution_count": 49,
      "outputs": [
        {
          "output_type": "stream",
          "name": "stdout",
          "text": [
            "0.47298133177344914 {'max_depth': 2, 'min_samples_split': 2, 'n_estimators': 10}\n",
            "0.4697004968073069 {'max_depth': 2, 'min_samples_split': 2, 'n_estimators': 27}\n",
            "0.4641809103418334 {'max_depth': 2, 'min_samples_split': 2, 'n_estimators': 45}\n",
            "0.46529006583079413 {'max_depth': 2, 'min_samples_split': 2, 'n_estimators': 62}\n",
            "0.46639658360227754 {'max_depth': 2, 'min_samples_split': 2, 'n_estimators': 80}\n",
            "0.4869429145822492 {'max_depth': 2, 'min_samples_split': 5, 'n_estimators': 10}\n",
            "0.4675004823857702 {'max_depth': 2, 'min_samples_split': 5, 'n_estimators': 27}\n",
            "0.46529006583079413 {'max_depth': 2, 'min_samples_split': 5, 'n_estimators': 45}\n",
            "0.4718902545837687 {'max_depth': 2, 'min_samples_split': 5, 'n_estimators': 62}\n",
            "0.46529006583079413 {'max_depth': 2, 'min_samples_split': 5, 'n_estimators': 80}\n",
            "0.47947565862772934 {'max_depth': 4, 'min_samples_split': 2, 'n_estimators': 10}\n",
            "0.4641809103418334 {'max_depth': 4, 'min_samples_split': 2, 'n_estimators': 27}\n",
            "0.47298133177344914 {'max_depth': 4, 'min_samples_split': 2, 'n_estimators': 45}\n",
            "0.46750048238577024 {'max_depth': 4, 'min_samples_split': 2, 'n_estimators': 62}\n",
            "0.46860178069014996 {'max_depth': 4, 'min_samples_split': 2, 'n_estimators': 80}\n",
            "0.47298133177344914 {'max_depth': 4, 'min_samples_split': 5, 'n_estimators': 10}\n",
            "0.4783993931658393 {'max_depth': 4, 'min_samples_split': 5, 'n_estimators': 27}\n",
            "0.47298133177344914 {'max_depth': 4, 'min_samples_split': 5, 'n_estimators': 45}\n",
            "0.4707966488156882 {'max_depth': 4, 'min_samples_split': 5, 'n_estimators': 62}\n",
            "0.46639658360227754 {'max_depth': 4, 'min_samples_split': 5, 'n_estimators': 80}\n"
          ]
        },
        {
          "output_type": "execute_result",
          "data": {
            "text/plain": [
              "<function matplotlib.pyplot.show>"
            ]
          },
          "metadata": {},
          "execution_count": 49
        },
        {
          "output_type": "display_data",
          "data": {
            "image/png": "[encoded data removed]",
            "text/plain": [
              "<Figure size 432x288 with 1 Axes>"
            ]
          },
          "metadata": {
            "needs_background": "light"
          }
        }
      ]
    },
    {
      "cell_type": "code",
      "source": [
        "classification(RandomForestClassifier(max_depth=4, min_samples_split=5, n_estimators=62))"
      ],
      "metadata": {
        "colab": {
          "base_uri": "https://localhost:8080/",
          "height": 161
        },
        "id": "8O7oqox_-MhY",
        "outputId": "206f92e9-6bf6-4b42-c213-63578d220d93"
      },
      "execution_count": 50,
      "outputs": [
        {
          "output_type": "stream",
          "name": "stdout",
          "text": [
            "accuracy: 0.7748917748917749\n"
          ]
        },
        {
          "output_type": "display_data",
          "data": {
            "text/html": [
              "\n",
              "  <div id=\"df-db49d018-7561-4366-bb3f-cc004ce0e10f\">\n",
              "    <div class=\"colab-df-container\">\n",
              "      <div>\n",
              "<style scoped>\n",
              "    .dataframe tbody tr th:only-of-type {\n",
              "        vertical-align: middle;\n",
              "    }\n",
              "\n",
              "    .dataframe tbody tr th {\n",
              "        vertical-align: top;\n",
              "    }\n",
              "\n",
              "    .dataframe thead th {\n",
              "        text-align: right;\n",
              "    }\n",
              "</style>\n",
              "<table border=\"1\" class=\"dataframe\">\n",
              "  <thead>\n",
              "    <tr style=\"text-align: right;\">\n",
              "      <th>preds</th>\n",
              "      <th>0.0</th>\n",
              "      <th>1.0</th>\n",
              "    </tr>\n",
              "    <tr>\n",
              "      <th>reals</th>\n",
              "      <th></th>\n",
              "      <th></th>\n",
              "    </tr>\n",
              "  </thead>\n",
              "  <tbody>\n",
              "    <tr>\n",
              "      <th>0.0</th>\n",
              "      <td>162</td>\n",
              "      <td>57</td>\n",
              "    </tr>\n",
              "    <tr>\n",
              "      <th>1.0</th>\n",
              "      <td>47</td>\n",
              "      <td>196</td>\n",
              "    </tr>\n",
              "  </tbody>\n",
              "</table>\n",
              "</div>\n",
              "      <button class=\"colab-df-convert\" onclick=\"convertToInteractive('df-db49d018-7561-4366-bb3f-cc004ce0e10f')\"\n",
              "              title=\"Convert this dataframe to an interactive table.\"\n",
              "              style=\"display:none;\">\n",
              "        \n",
              "  <svg xmlns=\"http://www.w3.org/2000/svg\" height=\"24px\"viewBox=\"0 0 24 24\"\n",
              "       width=\"24px\">\n",
              "    <path d=\"M0 0h24v24H0V0z\" fill=\"none\"/>\n",
              "    <path d=\"M18.56 5.44l.94 2.06.94-2.06 2.06-.94-2.06-.94-.94-2.06-.94 2.06-2.06.94zm-11 1L8.5 8.5l.94-2.06 2.06-.94-2.06-.94L8.5 2.5l-.94 2.06-2.06.94zm10 10l.94 2.06.94-2.06 2.06-.94-2.06-.94-.94-2.06-.94 2.06-2.06.94z\"/><path d=\"M17.41 7.96l-1.37-1.37c-.4-.4-.92-.59-1.43-.59-.52 0-1.04.2-1.43.59L10.3 9.45l-7.72 7.72c-.78.78-.78 2.05 0 2.83L4 21.41c.39.39.9.59 1.41.59.51 0 1.02-.2 1.41-.59l7.78-7.78 2.81-2.81c.8-.78.8-2.07 0-2.86zM5.41 20L4 18.59l7.72-7.72 1.47 1.35L5.41 20z\"/>\n",
              "  </svg>\n",
              "      </button>\n",
              "      \n",
              "  <style>\n",
              "    .colab-df-container {\n",
              "      display:flex;\n",
              "      flex-wrap:wrap;\n",
              "      gap: 12px;\n",
              "    }\n",
              "\n",
              "    .colab-df-convert {\n",
              "      background-color: #E8F0FE;\n",
              "      border: none;\n",
              "      border-radius: 50%;\n",
              "      cursor: pointer;\n",
              "      display: none;\n",
              "      fill: #1967D2;\n",
              "      height: 32px;\n",
              "      padding: 0 0 0 0;\n",
              "      width: 32px;\n",
              "    }\n",
              "\n",
              "    .colab-df-convert:hover {\n",
              "      background-color: #E2EBFA;\n",
              "      box-shadow: 0px 1px 2px rgba(60, 64, 67, 0.3), 0px 1px 3px 1px rgba(60, 64, 67, 0.15);\n",
              "      fill: #174EA6;\n",
              "    }\n",
              "\n",
              "    [theme=dark] .colab-df-convert {\n",
              "      background-color: #3B4455;\n",
              "      fill: #D2E3FC;\n",
              "    }\n",
              "\n",
              "    [theme=dark] .colab-df-convert:hover {\n",
              "      background-color: #434B5C;\n",
              "      box-shadow: 0px 1px 3px 1px rgba(0, 0, 0, 0.15);\n",
              "      filter: drop-shadow(0px 1px 2px rgba(0, 0, 0, 0.3));\n",
              "      fill: #FFFFFF;\n",
              "    }\n",
              "  </style>\n",
              "\n",
              "      <script>\n",
              "        const buttonEl =\n",
              "          document.querySelector('#df-db49d018-7561-4366-bb3f-cc004ce0e10f button.colab-df-convert');\n",
              "        buttonEl.style.display =\n",
              "          google.colab.kernel.accessAllowed ? 'block' : 'none';\n",
              "\n",
              "        async function convertToInteractive(key) {\n",
              "          const element = document.querySelector('#df-db49d018-7561-4366-bb3f-cc004ce0e10f');\n",
              "          const dataTable =\n",
              "            await google.colab.kernel.invokeFunction('convertToInteractive',\n",
              "                                                     [key], {});\n",
              "          if (!dataTable) return;\n",
              "\n",
              "          const docLinkHtml = 'Like what you see? Visit the ' +\n",
              "            '<a target=\"_blank\" href=https://colab.research.google.com/notebooks/data_table.ipynb>data table notebook</a>'\n",
              "            + ' to learn more about interactive tables.';\n",
              "          element.innerHTML = '';\n",
              "          dataTable['output_type'] = 'display_data';\n",
              "          await google.colab.output.renderOutput(dataTable, element);\n",
              "          const docLink = document.createElement('div');\n",
              "          docLink.innerHTML = docLinkHtml;\n",
              "          element.appendChild(docLink);\n",
              "        }\n",
              "      </script>\n",
              "    </div>\n",
              "  </div>\n",
              "  "
            ],
            "text/plain": [
              "preds  0.0  1.0\n",
              "reals          \n",
              "0.0    162   57\n",
              "1.0     47  196"
            ]
          },
          "metadata": {}
        }
      ]
    },
    {
      "cell_type": "markdown",
      "source": [
        "# Predicitions / Test"
      ],
      "metadata": {
        "id": "rjtVFogjeqhy"
      }
    },
    {
      "cell_type": "code",
      "source": [
        "df_test = pd.read_csv('/content/drive/MyDrive/TFG/WNCAA df_test.csv')\n",
        "df_test.drop(['ID', 'Pred'], axis=1, inplace=True)\n",
        "df_test['WinA']=0\n",
        "df_test.head()\n",
        "df_test_scaled=scaler.transform(df_test)\n",
        "dt_test_scaled=pd.DataFrame(df_test_scaled, columns=df_test.columns)\n",
        "dt_test_scaled.drop(['WinA', 'TeamIdA', 'TeamIdB'], axis=1,inplace=True)\n",
        "dt_test_scaled.head()"
      ],
      "metadata": {
        "colab": {
          "base_uri": "https://localhost:8080/",
          "height": 206
        },
        "id": "AQLhyBpAAkNj",
        "outputId": "3333f588-509e-44cc-c1fb-59367804c0db"
      },
      "execution_count": 51,
      "outputs": [
        {
          "output_type": "execute_result",
          "data": {
            "text/html": [
              "\n",
              "  <div id=\"df-74f34a6b-354c-414b-bf08-539c52285c47\">\n",
              "    <div class=\"colab-df-container\">\n",
              "      <div>\n",
              "<style scoped>\n",
              "    .dataframe tbody tr th:only-of-type {\n",
              "        vertical-align: middle;\n",
              "    }\n",
              "\n",
              "    .dataframe tbody tr th {\n",
              "        vertical-align: top;\n",
              "    }\n",
              "\n",
              "    .dataframe thead th {\n",
              "        text-align: right;\n",
              "    }\n",
              "</style>\n",
              "<table border=\"1\" class=\"dataframe\">\n",
              "  <thead>\n",
              "    <tr style=\"text-align: right;\">\n",
              "      <th></th>\n",
              "      <th>Season</th>\n",
              "      <th>SeedA</th>\n",
              "      <th>SeedB</th>\n",
              "      <th>WinRatioA</th>\n",
              "      <th>GapAvgA</th>\n",
              "      <th>WinRatioB</th>\n",
              "      <th>GapAvgB</th>\n",
              "      <th>SeedDiff</th>\n",
              "      <th>WinRatioDiff</th>\n",
              "      <th>GapAvgDiff</th>\n",
              "    </tr>\n",
              "  </thead>\n",
              "  <tbody>\n",
              "    <tr>\n",
              "      <th>0</th>\n",
              "      <td>1.095238</td>\n",
              "      <td>0.4</td>\n",
              "      <td>0.133333</td>\n",
              "      <td>0.36</td>\n",
              "      <td>0.217268</td>\n",
              "      <td>0.579832</td>\n",
              "      <td>0.313189</td>\n",
              "      <td>0.633333</td>\n",
              "      <td>0.420157</td>\n",
              "      <td>0.480269</td>\n",
              "    </tr>\n",
              "    <tr>\n",
              "      <th>1</th>\n",
              "      <td>1.095238</td>\n",
              "      <td>0.4</td>\n",
              "      <td>0.200000</td>\n",
              "      <td>0.36</td>\n",
              "      <td>0.217268</td>\n",
              "      <td>0.477124</td>\n",
              "      <td>0.280004</td>\n",
              "      <td>0.600000</td>\n",
              "      <td>0.477495</td>\n",
              "      <td>0.500533</td>\n",
              "    </tr>\n",
              "    <tr>\n",
              "      <th>2</th>\n",
              "      <td>1.095238</td>\n",
              "      <td>0.4</td>\n",
              "      <td>0.066667</td>\n",
              "      <td>0.36</td>\n",
              "      <td>0.217268</td>\n",
              "      <td>0.869281</td>\n",
              "      <td>0.674429</td>\n",
              "      <td>0.666667</td>\n",
              "      <td>0.258569</td>\n",
              "      <td>0.259685</td>\n",
              "    </tr>\n",
              "    <tr>\n",
              "      <th>3</th>\n",
              "      <td>1.095238</td>\n",
              "      <td>0.4</td>\n",
              "      <td>0.733333</td>\n",
              "      <td>0.36</td>\n",
              "      <td>0.217268</td>\n",
              "      <td>0.647059</td>\n",
              "      <td>0.352307</td>\n",
              "      <td>0.333333</td>\n",
              "      <td>0.382627</td>\n",
              "      <td>0.456382</td>\n",
              "    </tr>\n",
              "    <tr>\n",
              "      <th>4</th>\n",
              "      <td>1.095238</td>\n",
              "      <td>0.4</td>\n",
              "      <td>0.666667</td>\n",
              "      <td>0.36</td>\n",
              "      <td>0.217268</td>\n",
              "      <td>0.281046</td>\n",
              "      <td>0.184019</td>\n",
              "      <td>0.366667</td>\n",
              "      <td>0.586959</td>\n",
              "      <td>0.559144</td>\n",
              "    </tr>\n",
              "  </tbody>\n",
              "</table>\n",
              "</div>\n",
              "      <button class=\"colab-df-convert\" onclick=\"convertToInteractive('df-74f34a6b-354c-414b-bf08-539c52285c47')\"\n",
              "              title=\"Convert this dataframe to an interactive table.\"\n",
              "              style=\"display:none;\">\n",
              "        \n",
              "  <svg xmlns=\"http://www.w3.org/2000/svg\" height=\"24px\"viewBox=\"0 0 24 24\"\n",
              "       width=\"24px\">\n",
              "    <path d=\"M0 0h24v24H0V0z\" fill=\"none\"/>\n",
              "    <path d=\"M18.56 5.44l.94 2.06.94-2.06 2.06-.94-2.06-.94-.94-2.06-.94 2.06-2.06.94zm-11 1L8.5 8.5l.94-2.06 2.06-.94-2.06-.94L8.5 2.5l-.94 2.06-2.06.94zm10 10l.94 2.06.94-2.06 2.06-.94-2.06-.94-.94-2.06-.94 2.06-2.06.94z\"/><path d=\"M17.41 7.96l-1.37-1.37c-.4-.4-.92-.59-1.43-.59-.52 0-1.04.2-1.43.59L10.3 9.45l-7.72 7.72c-.78.78-.78 2.05 0 2.83L4 21.41c.39.39.9.59 1.41.59.51 0 1.02-.2 1.41-.59l7.78-7.78 2.81-2.81c.8-.78.8-2.07 0-2.86zM5.41 20L4 18.59l7.72-7.72 1.47 1.35L5.41 20z\"/>\n",
              "  </svg>\n",
              "      </button>\n",
              "      \n",
              "  <style>\n",
              "    .colab-df-container {\n",
              "      display:flex;\n",
              "      flex-wrap:wrap;\n",
              "      gap: 12px;\n",
              "    }\n",
              "\n",
              "    .colab-df-convert {\n",
              "      background-color: #E8F0FE;\n",
              "      border: none;\n",
              "      border-radius: 50%;\n",
              "      cursor: pointer;\n",
              "      display: none;\n",
              "      fill: #1967D2;\n",
              "      height: 32px;\n",
              "      padding: 0 0 0 0;\n",
              "      width: 32px;\n",
              "    }\n",
              "\n",
              "    .colab-df-convert:hover {\n",
              "      background-color: #E2EBFA;\n",
              "      box-shadow: 0px 1px 2px rgba(60, 64, 67, 0.3), 0px 1px 3px 1px rgba(60, 64, 67, 0.15);\n",
              "      fill: #174EA6;\n",
              "    }\n",
              "\n",
              "    [theme=dark] .colab-df-convert {\n",
              "      background-color: #3B4455;\n",
              "      fill: #D2E3FC;\n",
              "    }\n",
              "\n",
              "    [theme=dark] .colab-df-convert:hover {\n",
              "      background-color: #434B5C;\n",
              "      box-shadow: 0px 1px 3px 1px rgba(0, 0, 0, 0.15);\n",
              "      filter: drop-shadow(0px 1px 2px rgba(0, 0, 0, 0.3));\n",
              "      fill: #FFFFFF;\n",
              "    }\n",
              "  </style>\n",
              "\n",
              "      <script>\n",
              "        const buttonEl =\n",
              "          document.querySelector('#df-74f34a6b-354c-414b-bf08-539c52285c47 button.colab-df-convert');\n",
              "        buttonEl.style.display =\n",
              "          google.colab.kernel.accessAllowed ? 'block' : 'none';\n",
              "\n",
              "        async function convertToInteractive(key) {\n",
              "          const element = document.querySelector('#df-74f34a6b-354c-414b-bf08-539c52285c47');\n",
              "          const dataTable =\n",
              "            await google.colab.kernel.invokeFunction('convertToInteractive',\n",
              "                                                     [key], {});\n",
              "          if (!dataTable) return;\n",
              "\n",
              "          const docLinkHtml = 'Like what you see? Visit the ' +\n",
              "            '<a target=\"_blank\" href=https://colab.research.google.com/notebooks/data_table.ipynb>data table notebook</a>'\n",
              "            + ' to learn more about interactive tables.';\n",
              "          element.innerHTML = '';\n",
              "          dataTable['output_type'] = 'display_data';\n",
              "          await google.colab.output.renderOutput(dataTable, element);\n",
              "          const docLink = document.createElement('div');\n",
              "          docLink.innerHTML = docLinkHtml;\n",
              "          element.appendChild(docLink);\n",
              "        }\n",
              "      </script>\n",
              "    </div>\n",
              "  </div>\n",
              "  "
            ],
            "text/plain": [
              "     Season  SeedA     SeedB  ...  SeedDiff  WinRatioDiff  GapAvgDiff\n",
              "0  1.095238    0.4  0.133333  ...  0.633333      0.420157    0.480269\n",
              "1  1.095238    0.4  0.200000  ...  0.600000      0.477495    0.500533\n",
              "2  1.095238    0.4  0.066667  ...  0.666667      0.258569    0.259685\n",
              "3  1.095238    0.4  0.733333  ...  0.333333      0.382627    0.456382\n",
              "4  1.095238    0.4  0.666667  ...  0.366667      0.586959    0.559144\n",
              "\n",
              "[5 rows x 10 columns]"
            ]
          },
          "metadata": {},
          "execution_count": 51
        }
      ]
    },
    {
      "cell_type": "code",
      "source": [
        "predicció = pd.Series(svm.predict(dt_test_scaled), name='preds')"
      ],
      "metadata": {
        "id": "CV6yAJyFDDkb"
      },
      "execution_count": 52,
      "outputs": []
    },
    {
      "cell_type": "code",
      "source": [
        "df_test['WinA']=predicció\n",
        "df_test.head()"
      ],
      "metadata": {
        "colab": {
          "base_uri": "https://localhost:8080/",
          "height": 206
        },
        "id": "Utv49JWWfmtz",
        "outputId": "9c7094d8-18eb-42f3-ed68-72688c9834f4"
      },
      "execution_count": 53,
      "outputs": [
        {
          "output_type": "execute_result",
          "data": {
            "text/html": [
              "\n",
              "  <div id=\"df-1988197c-e8a4-404f-b1cf-2549637a409f\">\n",
              "    <div class=\"colab-df-container\">\n",
              "      <div>\n",
              "<style scoped>\n",
              "    .dataframe tbody tr th:only-of-type {\n",
              "        vertical-align: middle;\n",
              "    }\n",
              "\n",
              "    .dataframe tbody tr th {\n",
              "        vertical-align: top;\n",
              "    }\n",
              "\n",
              "    .dataframe thead th {\n",
              "        text-align: right;\n",
              "    }\n",
              "</style>\n",
              "<table border=\"1\" class=\"dataframe\">\n",
              "  <thead>\n",
              "    <tr style=\"text-align: right;\">\n",
              "      <th></th>\n",
              "      <th>Season</th>\n",
              "      <th>TeamIdA</th>\n",
              "      <th>TeamIdB</th>\n",
              "      <th>SeedA</th>\n",
              "      <th>SeedB</th>\n",
              "      <th>WinRatioA</th>\n",
              "      <th>GapAvgA</th>\n",
              "      <th>WinRatioB</th>\n",
              "      <th>GapAvgB</th>\n",
              "      <th>SeedDiff</th>\n",
              "      <th>WinRatioDiff</th>\n",
              "      <th>GapAvgDiff</th>\n",
              "      <th>WinA</th>\n",
              "    </tr>\n",
              "  </thead>\n",
              "  <tbody>\n",
              "    <tr>\n",
              "      <th>0</th>\n",
              "      <td>2021</td>\n",
              "      <td>3104</td>\n",
              "      <td>3112</td>\n",
              "      <td>7</td>\n",
              "      <td>3</td>\n",
              "      <td>0.64</td>\n",
              "      <td>4.76</td>\n",
              "      <td>0.761905</td>\n",
              "      <td>10.523810</td>\n",
              "      <td>4</td>\n",
              "      <td>-0.121905</td>\n",
              "      <td>-5.763810</td>\n",
              "      <td>0.0</td>\n",
              "    </tr>\n",
              "    <tr>\n",
              "      <th>1</th>\n",
              "      <td>2021</td>\n",
              "      <td>3104</td>\n",
              "      <td>3116</td>\n",
              "      <td>7</td>\n",
              "      <td>4</td>\n",
              "      <td>0.64</td>\n",
              "      <td>4.76</td>\n",
              "      <td>0.703704</td>\n",
              "      <td>9.000000</td>\n",
              "      <td>3</td>\n",
              "      <td>-0.063704</td>\n",
              "      <td>-4.240000</td>\n",
              "      <td>0.0</td>\n",
              "    </tr>\n",
              "    <tr>\n",
              "      <th>2</th>\n",
              "      <td>2021</td>\n",
              "      <td>3104</td>\n",
              "      <td>3124</td>\n",
              "      <td>7</td>\n",
              "      <td>2</td>\n",
              "      <td>0.64</td>\n",
              "      <td>4.76</td>\n",
              "      <td>0.925926</td>\n",
              "      <td>27.111111</td>\n",
              "      <td>5</td>\n",
              "      <td>-0.285926</td>\n",
              "      <td>-22.351111</td>\n",
              "      <td>0.0</td>\n",
              "    </tr>\n",
              "    <tr>\n",
              "      <th>3</th>\n",
              "      <td>2021</td>\n",
              "      <td>3104</td>\n",
              "      <td>3125</td>\n",
              "      <td>7</td>\n",
              "      <td>12</td>\n",
              "      <td>0.64</td>\n",
              "      <td>4.76</td>\n",
              "      <td>0.800000</td>\n",
              "      <td>12.320000</td>\n",
              "      <td>-5</td>\n",
              "      <td>-0.160000</td>\n",
              "      <td>-7.560000</td>\n",
              "      <td>1.0</td>\n",
              "    </tr>\n",
              "    <tr>\n",
              "      <th>4</th>\n",
              "      <td>2021</td>\n",
              "      <td>3104</td>\n",
              "      <td>3133</td>\n",
              "      <td>7</td>\n",
              "      <td>11</td>\n",
              "      <td>0.64</td>\n",
              "      <td>4.76</td>\n",
              "      <td>0.592593</td>\n",
              "      <td>4.592593</td>\n",
              "      <td>-4</td>\n",
              "      <td>0.047407</td>\n",
              "      <td>0.167407</td>\n",
              "      <td>1.0</td>\n",
              "    </tr>\n",
              "  </tbody>\n",
              "</table>\n",
              "</div>\n",
              "      <button class=\"colab-df-convert\" onclick=\"convertToInteractive('df-1988197c-e8a4-404f-b1cf-2549637a409f')\"\n",
              "              title=\"Convert this dataframe to an interactive table.\"\n",
              "              style=\"display:none;\">\n",
              "        \n",
              "  <svg xmlns=\"http://www.w3.org/2000/svg\" height=\"24px\"viewBox=\"0 0 24 24\"\n",
              "       width=\"24px\">\n",
              "    <path d=\"M0 0h24v24H0V0z\" fill=\"none\"/>\n",
              "    <path d=\"M18.56 5.44l.94 2.06.94-2.06 2.06-.94-2.06-.94-.94-2.06-.94 2.06-2.06.94zm-11 1L8.5 8.5l.94-2.06 2.06-.94-2.06-.94L8.5 2.5l-.94 2.06-2.06.94zm10 10l.94 2.06.94-2.06 2.06-.94-2.06-.94-.94-2.06-.94 2.06-2.06.94z\"/><path d=\"M17.41 7.96l-1.37-1.37c-.4-.4-.92-.59-1.43-.59-.52 0-1.04.2-1.43.59L10.3 9.45l-7.72 7.72c-.78.78-.78 2.05 0 2.83L4 21.41c.39.39.9.59 1.41.59.51 0 1.02-.2 1.41-.59l7.78-7.78 2.81-2.81c.8-.78.8-2.07 0-2.86zM5.41 20L4 18.59l7.72-7.72 1.47 1.35L5.41 20z\"/>\n",
              "  </svg>\n",
              "      </button>\n",
              "      \n",
              "  <style>\n",
              "    .colab-df-container {\n",
              "      display:flex;\n",
              "      flex-wrap:wrap;\n",
              "      gap: 12px;\n",
              "    }\n",
              "\n",
              "    .colab-df-convert {\n",
              "      background-color: #E8F0FE;\n",
              "      border: none;\n",
              "      border-radius: 50%;\n",
              "      cursor: pointer;\n",
              "      display: none;\n",
              "      fill: #1967D2;\n",
              "      height: 32px;\n",
              "      padding: 0 0 0 0;\n",
              "      width: 32px;\n",
              "    }\n",
              "\n",
              "    .colab-df-convert:hover {\n",
              "      background-color: #E2EBFA;\n",
              "      box-shadow: 0px 1px 2px rgba(60, 64, 67, 0.3), 0px 1px 3px 1px rgba(60, 64, 67, 0.15);\n",
              "      fill: #174EA6;\n",
              "    }\n",
              "\n",
              "    [theme=dark] .colab-df-convert {\n",
              "      background-color: #3B4455;\n",
              "      fill: #D2E3FC;\n",
              "    }\n",
              "\n",
              "    [theme=dark] .colab-df-convert:hover {\n",
              "      background-color: #434B5C;\n",
              "      box-shadow: 0px 1px 3px 1px rgba(0, 0, 0, 0.15);\n",
              "      filter: drop-shadow(0px 1px 2px rgba(0, 0, 0, 0.3));\n",
              "      fill: #FFFFFF;\n",
              "    }\n",
              "  </style>\n",
              "\n",
              "      <script>\n",
              "        const buttonEl =\n",
              "          document.querySelector('#df-1988197c-e8a4-404f-b1cf-2549637a409f button.colab-df-convert');\n",
              "        buttonEl.style.display =\n",
              "          google.colab.kernel.accessAllowed ? 'block' : 'none';\n",
              "\n",
              "        async function convertToInteractive(key) {\n",
              "          const element = document.querySelector('#df-1988197c-e8a4-404f-b1cf-2549637a409f');\n",
              "          const dataTable =\n",
              "            await google.colab.kernel.invokeFunction('convertToInteractive',\n",
              "                                                     [key], {});\n",
              "          if (!dataTable) return;\n",
              "\n",
              "          const docLinkHtml = 'Like what you see? Visit the ' +\n",
              "            '<a target=\"_blank\" href=https://colab.research.google.com/notebooks/data_table.ipynb>data table notebook</a>'\n",
              "            + ' to learn more about interactive tables.';\n",
              "          element.innerHTML = '';\n",
              "          dataTable['output_type'] = 'display_data';\n",
              "          await google.colab.output.renderOutput(dataTable, element);\n",
              "          const docLink = document.createElement('div');\n",
              "          docLink.innerHTML = docLinkHtml;\n",
              "          element.appendChild(docLink);\n",
              "        }\n",
              "      </script>\n",
              "    </div>\n",
              "  </div>\n",
              "  "
            ],
            "text/plain": [
              "   Season  TeamIdA  TeamIdB  SeedA  ...  SeedDiff  WinRatioDiff  GapAvgDiff  WinA\n",
              "0    2021     3104     3112      7  ...         4     -0.121905   -5.763810   0.0\n",
              "1    2021     3104     3116      7  ...         3     -0.063704   -4.240000   0.0\n",
              "2    2021     3104     3124      7  ...         5     -0.285926  -22.351111   0.0\n",
              "3    2021     3104     3125      7  ...        -5     -0.160000   -7.560000   1.0\n",
              "4    2021     3104     3133      7  ...        -4      0.047407    0.167407   1.0\n",
              "\n",
              "[5 rows x 13 columns]"
            ]
          },
          "metadata": {},
          "execution_count": 53
        }
      ]
    },
    {
      "cell_type": "code",
      "source": [
        "wins=df_test.groupby(df_test['WinA']==1)\n",
        "wins.size()"
      ],
      "metadata": {
        "colab": {
          "base_uri": "https://localhost:8080/"
        },
        "id": "UgvX_5Apj5nU",
        "outputId": "f69b28fa-9f33-48f2-a589-db32b4c03182"
      },
      "execution_count": 54,
      "outputs": [
        {
          "output_type": "execute_result",
          "data": {
            "text/plain": [
              "WinA\n",
              "False     983\n",
              "True     1033\n",
              "dtype: int64"
            ]
          },
          "metadata": {},
          "execution_count": 54
        }
      ]
    },
    {
      "cell_type": "code",
      "source": [
        "teams = pd.read_csv('/content/drive/MyDrive/TFG/ncaaw-march-mania-2021/WDataFiles_Stage2/WTeams.csv')\n"
      ],
      "metadata": {
        "id": "CI5YL9_BEmZ1"
      },
      "execution_count": 55,
      "outputs": []
    },
    {
      "cell_type": "code",
      "source": [
        "teams[teams['TeamName']=='Lehigh']"
      ],
      "metadata": {
        "id": "gNMhEFQzTCUE",
        "outputId": "373dcb2e-a5eb-489c-bf0e-5060f74d2fa1",
        "colab": {
          "base_uri": "https://localhost:8080/",
          "height": 81
        }
      },
      "execution_count": 56,
      "outputs": [
        {
          "output_type": "execute_result",
          "data": {
            "text/html": [
              "\n",
              "  <div id=\"df-db8e0f7f-2fbf-4504-8c2e-465b190170b0\">\n",
              "    <div class=\"colab-df-container\">\n",
              "      <div>\n",
              "<style scoped>\n",
              "    .dataframe tbody tr th:only-of-type {\n",
              "        vertical-align: middle;\n",
              "    }\n",
              "\n",
              "    .dataframe tbody tr th {\n",
              "        vertical-align: top;\n",
              "    }\n",
              "\n",
              "    .dataframe thead th {\n",
              "        text-align: right;\n",
              "    }\n",
              "</style>\n",
              "<table border=\"1\" class=\"dataframe\">\n",
              "  <thead>\n",
              "    <tr style=\"text-align: right;\">\n",
              "      <th></th>\n",
              "      <th>TeamID</th>\n",
              "      <th>TeamName</th>\n",
              "    </tr>\n",
              "  </thead>\n",
              "  <tbody>\n",
              "    <tr>\n",
              "      <th>148</th>\n",
              "      <td>3250</td>\n",
              "      <td>Lehigh</td>\n",
              "    </tr>\n",
              "  </tbody>\n",
              "</table>\n",
              "</div>\n",
              "      <button class=\"colab-df-convert\" onclick=\"convertToInteractive('df-db8e0f7f-2fbf-4504-8c2e-465b190170b0')\"\n",
              "              title=\"Convert this dataframe to an interactive table.\"\n",
              "              style=\"display:none;\">\n",
              "        \n",
              "  <svg xmlns=\"http://www.w3.org/2000/svg\" height=\"24px\"viewBox=\"0 0 24 24\"\n",
              "       width=\"24px\">\n",
              "    <path d=\"M0 0h24v24H0V0z\" fill=\"none\"/>\n",
              "    <path d=\"M18.56 5.44l.94 2.06.94-2.06 2.06-.94-2.06-.94-.94-2.06-.94 2.06-2.06.94zm-11 1L8.5 8.5l.94-2.06 2.06-.94-2.06-.94L8.5 2.5l-.94 2.06-2.06.94zm10 10l.94 2.06.94-2.06 2.06-.94-2.06-.94-.94-2.06-.94 2.06-2.06.94z\"/><path d=\"M17.41 7.96l-1.37-1.37c-.4-.4-.92-.59-1.43-.59-.52 0-1.04.2-1.43.59L10.3 9.45l-7.72 7.72c-.78.78-.78 2.05 0 2.83L4 21.41c.39.39.9.59 1.41.59.51 0 1.02-.2 1.41-.59l7.78-7.78 2.81-2.81c.8-.78.8-2.07 0-2.86zM5.41 20L4 18.59l7.72-7.72 1.47 1.35L5.41 20z\"/>\n",
              "  </svg>\n",
              "      </button>\n",
              "      \n",
              "  <style>\n",
              "    .colab-df-container {\n",
              "      display:flex;\n",
              "      flex-wrap:wrap;\n",
              "      gap: 12px;\n",
              "    }\n",
              "\n",
              "    .colab-df-convert {\n",
              "      background-color: #E8F0FE;\n",
              "      border: none;\n",
              "      border-radius: 50%;\n",
              "      cursor: pointer;\n",
              "      display: none;\n",
              "      fill: #1967D2;\n",
              "      height: 32px;\n",
              "      padding: 0 0 0 0;\n",
              "      width: 32px;\n",
              "    }\n",
              "\n",
              "    .colab-df-convert:hover {\n",
              "      background-color: #E2EBFA;\n",
              "      box-shadow: 0px 1px 2px rgba(60, 64, 67, 0.3), 0px 1px 3px 1px rgba(60, 64, 67, 0.15);\n",
              "      fill: #174EA6;\n",
              "    }\n",
              "\n",
              "    [theme=dark] .colab-df-convert {\n",
              "      background-color: #3B4455;\n",
              "      fill: #D2E3FC;\n",
              "    }\n",
              "\n",
              "    [theme=dark] .colab-df-convert:hover {\n",
              "      background-color: #434B5C;\n",
              "      box-shadow: 0px 1px 3px 1px rgba(0, 0, 0, 0.15);\n",
              "      filter: drop-shadow(0px 1px 2px rgba(0, 0, 0, 0.3));\n",
              "      fill: #FFFFFF;\n",
              "    }\n",
              "  </style>\n",
              "\n",
              "      <script>\n",
              "        const buttonEl =\n",
              "          document.querySelector('#df-db8e0f7f-2fbf-4504-8c2e-465b190170b0 button.colab-df-convert');\n",
              "        buttonEl.style.display =\n",
              "          google.colab.kernel.accessAllowed ? 'block' : 'none';\n",
              "\n",
              "        async function convertToInteractive(key) {\n",
              "          const element = document.querySelector('#df-db8e0f7f-2fbf-4504-8c2e-465b190170b0');\n",
              "          const dataTable =\n",
              "            await google.colab.kernel.invokeFunction('convertToInteractive',\n",
              "                                                     [key], {});\n",
              "          if (!dataTable) return;\n",
              "\n",
              "          const docLinkHtml = 'Like what you see? Visit the ' +\n",
              "            '<a target=\"_blank\" href=https://colab.research.google.com/notebooks/data_table.ipynb>data table notebook</a>'\n",
              "            + ' to learn more about interactive tables.';\n",
              "          element.innerHTML = '';\n",
              "          dataTable['output_type'] = 'display_data';\n",
              "          await google.colab.output.renderOutput(dataTable, element);\n",
              "          const docLink = document.createElement('div');\n",
              "          docLink.innerHTML = docLinkHtml;\n",
              "          element.appendChild(docLink);\n",
              "        }\n",
              "      </script>\n",
              "    </div>\n",
              "  </div>\n",
              "  "
            ],
            "text/plain": [
              "     TeamID TeamName\n",
              "148    3250   Lehigh"
            ]
          },
          "metadata": {},
          "execution_count": 56
        }
      ]
    },
    {
      "cell_type": "markdown",
      "source": [
        "Per muntar el Bracket: "
      ],
      "metadata": {
        "id": "AZ8ryOE9UAaX"
      }
    },
    {
      "cell_type": "code",
      "source": [
        "A='Connecticut'\n",
        "B='Stanford'\n",
        "IDA = teams[teams['TeamName']==A]\n",
        "IDB = teams[teams['TeamName']==B]\n",
        "TeamIDA=IDA.iloc[0,0]\n",
        "TeamIDB=IDB.iloc[0,0]\n",
        "c=df_test[df_test['TeamIdA']==TeamIDA]\n",
        "d=c[c['TeamIdB']==TeamIDB]\n",
        "if d.iloc[0,-1]==1.0:\n",
        "  print(A)\n",
        "elif d.iloc[0,-1]==0.0:  \n",
        "  print(B)"
      ],
      "metadata": {
        "id": "vxAdaGQqHFdp",
        "outputId": "9584a061-51b9-470c-923a-d527eba5a452",
        "colab": {
          "base_uri": "https://localhost:8080/"
        }
      },
      "execution_count": 57,
      "outputs": [
        {
          "output_type": "stream",
          "name": "stdout",
          "text": [
            "Connecticut\n"
          ]
        }
      ]
    }
  ]
}