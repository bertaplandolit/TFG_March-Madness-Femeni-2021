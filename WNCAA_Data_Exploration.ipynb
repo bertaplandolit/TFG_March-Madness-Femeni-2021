{
  "nbformat": 4,
  "nbformat_minor": 0,
  "metadata": {
    "colab": {
      "name": "WNCAA Data Exploration.ipynb",
      "provenance": []
    },
    "kernelspec": {
      "name": "python3",
      "display_name": "Python 3"
    },
    "language_info": {
      "name": "python"
    }
  },
  "cells": [
    {
      "cell_type": "markdown",
      "source": [
        "##Data exploration"
      ],
      "metadata": {
        "id": "PyJtzvJdMqnk"
      }
    },
    {
      "cell_type": "code",
      "source": [
        "\n",
        "import sklearn\n",
        "import numpy as np \n",
        "import pandas as pd\n",
        "import seaborn as sns\n",
        "import matplotlib.pyplot as plt"
      ],
      "metadata": {
        "id": "7UEqK3hqM95I"
      },
      "execution_count": 1,
      "outputs": []
    },
    {
      "cell_type": "code",
      "execution_count": 2,
      "metadata": {
        "colab": {
          "base_uri": "https://localhost:8080/"
        },
        "id": "BrNeyReYMDvV",
        "outputId": "4d341107-f586-4bbf-ea3e-644cdd900107"
      },
      "outputs": [
        {
          "output_type": "stream",
          "name": "stdout",
          "text": [
            "Drive already mounted at /content/drive; to attempt to forcibly remount, call drive.mount(\"/content/drive\", force_remount=True).\n"
          ]
        }
      ],
      "source": [
        "from google.colab import drive\n",
        "drive.mount('/content/drive')"
      ]
    },
    {
      "cell_type": "code",
      "source": [
        "df = pd.read_csv('/content/drive/MyDrive/TFG/WNCAA df')\n",
        "df.head()"
      ],
      "metadata": {
        "id": "GmSx97UcMvPf",
        "colab": {
          "base_uri": "https://localhost:8080/",
          "height": 270
        },
        "outputId": "7950a500-77fc-45fd-aa4f-2950d4e0a1c8"
      },
      "execution_count": 3,
      "outputs": [
        {
          "output_type": "execute_result",
          "data": {
            "text/html": [
              "\n",
              "  <div id=\"df-ab85d664-89b5-4f41-8995-d59aced6dbc1\">\n",
              "    <div class=\"colab-df-container\">\n",
              "      <div>\n",
              "<style scoped>\n",
              "    .dataframe tbody tr th:only-of-type {\n",
              "        vertical-align: middle;\n",
              "    }\n",
              "\n",
              "    .dataframe tbody tr th {\n",
              "        vertical-align: top;\n",
              "    }\n",
              "\n",
              "    .dataframe thead th {\n",
              "        text-align: right;\n",
              "    }\n",
              "</style>\n",
              "<table border=\"1\" class=\"dataframe\">\n",
              "  <thead>\n",
              "    <tr style=\"text-align: right;\">\n",
              "      <th></th>\n",
              "      <th>Season</th>\n",
              "      <th>DayNum</th>\n",
              "      <th>TeamIdA</th>\n",
              "      <th>ScoreA</th>\n",
              "      <th>TeamIdB</th>\n",
              "      <th>ScoreB</th>\n",
              "      <th>Round</th>\n",
              "      <th>SeedA</th>\n",
              "      <th>SeedB</th>\n",
              "      <th>WinRatioA</th>\n",
              "      <th>GapAvgA</th>\n",
              "      <th>WinRatioB</th>\n",
              "      <th>GapAvgB</th>\n",
              "      <th>SeedDiff</th>\n",
              "      <th>WinRatioDiff</th>\n",
              "      <th>GapAvgDiff</th>\n",
              "      <th>ScoreDiff</th>\n",
              "      <th>WinA</th>\n",
              "    </tr>\n",
              "  </thead>\n",
              "  <tbody>\n",
              "    <tr>\n",
              "      <th>0</th>\n",
              "      <td>1998.0</td>\n",
              "      <td>137.0</td>\n",
              "      <td>3104.0</td>\n",
              "      <td>94.0</td>\n",
              "      <td>3422.0</td>\n",
              "      <td>46.0</td>\n",
              "      <td>0.0</td>\n",
              "      <td>2.0</td>\n",
              "      <td>15.0</td>\n",
              "      <td>0.700000</td>\n",
              "      <td>13.433333</td>\n",
              "      <td>0.703704</td>\n",
              "      <td>6.111111</td>\n",
              "      <td>-13.0</td>\n",
              "      <td>-0.003704</td>\n",
              "      <td>7.322222</td>\n",
              "      <td>48.0</td>\n",
              "      <td>1</td>\n",
              "    </tr>\n",
              "    <tr>\n",
              "      <th>1</th>\n",
              "      <td>1998.0</td>\n",
              "      <td>137.0</td>\n",
              "      <td>3112.0</td>\n",
              "      <td>75.0</td>\n",
              "      <td>3365.0</td>\n",
              "      <td>63.0</td>\n",
              "      <td>0.0</td>\n",
              "      <td>3.0</td>\n",
              "      <td>14.0</td>\n",
              "      <td>0.777778</td>\n",
              "      <td>12.407407</td>\n",
              "      <td>0.785714</td>\n",
              "      <td>17.821429</td>\n",
              "      <td>-11.0</td>\n",
              "      <td>-0.007937</td>\n",
              "      <td>-5.414021</td>\n",
              "      <td>12.0</td>\n",
              "      <td>1</td>\n",
              "    </tr>\n",
              "    <tr>\n",
              "      <th>2</th>\n",
              "      <td>1998.0</td>\n",
              "      <td>137.0</td>\n",
              "      <td>3163.0</td>\n",
              "      <td>93.0</td>\n",
              "      <td>3193.0</td>\n",
              "      <td>52.0</td>\n",
              "      <td>0.0</td>\n",
              "      <td>2.0</td>\n",
              "      <td>15.0</td>\n",
              "      <td>0.937500</td>\n",
              "      <td>24.875000</td>\n",
              "      <td>0.714286</td>\n",
              "      <td>5.071429</td>\n",
              "      <td>-13.0</td>\n",
              "      <td>0.223214</td>\n",
              "      <td>19.803571</td>\n",
              "      <td>41.0</td>\n",
              "      <td>1</td>\n",
              "    </tr>\n",
              "    <tr>\n",
              "      <th>3</th>\n",
              "      <td>1998.0</td>\n",
              "      <td>137.0</td>\n",
              "      <td>3266.0</td>\n",
              "      <td>45.0</td>\n",
              "      <td>3198.0</td>\n",
              "      <td>59.0</td>\n",
              "      <td>0.0</td>\n",
              "      <td>10.0</td>\n",
              "      <td>7.0</td>\n",
              "      <td>0.769231</td>\n",
              "      <td>9.538462</td>\n",
              "      <td>0.965517</td>\n",
              "      <td>25.103448</td>\n",
              "      <td>3.0</td>\n",
              "      <td>-0.196286</td>\n",
              "      <td>-15.564987</td>\n",
              "      <td>-14.0</td>\n",
              "      <td>0</td>\n",
              "    </tr>\n",
              "    <tr>\n",
              "      <th>4</th>\n",
              "      <td>1998.0</td>\n",
              "      <td>137.0</td>\n",
              "      <td>3203.0</td>\n",
              "      <td>74.0</td>\n",
              "      <td>3208.0</td>\n",
              "      <td>72.0</td>\n",
              "      <td>0.0</td>\n",
              "      <td>10.0</td>\n",
              "      <td>7.0</td>\n",
              "      <td>0.653846</td>\n",
              "      <td>9.653846</td>\n",
              "      <td>0.653846</td>\n",
              "      <td>4.730769</td>\n",
              "      <td>3.0</td>\n",
              "      <td>0.000000</td>\n",
              "      <td>4.923077</td>\n",
              "      <td>2.0</td>\n",
              "      <td>1</td>\n",
              "    </tr>\n",
              "  </tbody>\n",
              "</table>\n",
              "</div>\n",
              "      <button class=\"colab-df-convert\" onclick=\"convertToInteractive('df-ab85d664-89b5-4f41-8995-d59aced6dbc1')\"\n",
              "              title=\"Convert this dataframe to an interactive table.\"\n",
              "              style=\"display:none;\">\n",
              "        \n",
              "  <svg xmlns=\"http://www.w3.org/2000/svg\" height=\"24px\"viewBox=\"0 0 24 24\"\n",
              "       width=\"24px\">\n",
              "    <path d=\"M0 0h24v24H0V0z\" fill=\"none\"/>\n",
              "    <path d=\"M18.56 5.44l.94 2.06.94-2.06 2.06-.94-2.06-.94-.94-2.06-.94 2.06-2.06.94zm-11 1L8.5 8.5l.94-2.06 2.06-.94-2.06-.94L8.5 2.5l-.94 2.06-2.06.94zm10 10l.94 2.06.94-2.06 2.06-.94-2.06-.94-.94-2.06-.94 2.06-2.06.94z\"/><path d=\"M17.41 7.96l-1.37-1.37c-.4-.4-.92-.59-1.43-.59-.52 0-1.04.2-1.43.59L10.3 9.45l-7.72 7.72c-.78.78-.78 2.05 0 2.83L4 21.41c.39.39.9.59 1.41.59.51 0 1.02-.2 1.41-.59l7.78-7.78 2.81-2.81c.8-.78.8-2.07 0-2.86zM5.41 20L4 18.59l7.72-7.72 1.47 1.35L5.41 20z\"/>\n",
              "  </svg>\n",
              "      </button>\n",
              "      \n",
              "  <style>\n",
              "    .colab-df-container {\n",
              "      display:flex;\n",
              "      flex-wrap:wrap;\n",
              "      gap: 12px;\n",
              "    }\n",
              "\n",
              "    .colab-df-convert {\n",
              "      background-color: #E8F0FE;\n",
              "      border: none;\n",
              "      border-radius: 50%;\n",
              "      cursor: pointer;\n",
              "      display: none;\n",
              "      fill: #1967D2;\n",
              "      height: 32px;\n",
              "      padding: 0 0 0 0;\n",
              "      width: 32px;\n",
              "    }\n",
              "\n",
              "    .colab-df-convert:hover {\n",
              "      background-color: #E2EBFA;\n",
              "      box-shadow: 0px 1px 2px rgba(60, 64, 67, 0.3), 0px 1px 3px 1px rgba(60, 64, 67, 0.15);\n",
              "      fill: #174EA6;\n",
              "    }\n",
              "\n",
              "    [theme=dark] .colab-df-convert {\n",
              "      background-color: #3B4455;\n",
              "      fill: #D2E3FC;\n",
              "    }\n",
              "\n",
              "    [theme=dark] .colab-df-convert:hover {\n",
              "      background-color: #434B5C;\n",
              "      box-shadow: 0px 1px 3px 1px rgba(0, 0, 0, 0.15);\n",
              "      filter: drop-shadow(0px 1px 2px rgba(0, 0, 0, 0.3));\n",
              "      fill: #FFFFFF;\n",
              "    }\n",
              "  </style>\n",
              "\n",
              "      <script>\n",
              "        const buttonEl =\n",
              "          document.querySelector('#df-ab85d664-89b5-4f41-8995-d59aced6dbc1 button.colab-df-convert');\n",
              "        buttonEl.style.display =\n",
              "          google.colab.kernel.accessAllowed ? 'block' : 'none';\n",
              "\n",
              "        async function convertToInteractive(key) {\n",
              "          const element = document.querySelector('#df-ab85d664-89b5-4f41-8995-d59aced6dbc1');\n",
              "          const dataTable =\n",
              "            await google.colab.kernel.invokeFunction('convertToInteractive',\n",
              "                                                     [key], {});\n",
              "          if (!dataTable) return;\n",
              "\n",
              "          const docLinkHtml = 'Like what you see? Visit the ' +\n",
              "            '<a target=\"_blank\" href=https://colab.research.google.com/notebooks/data_table.ipynb>data table notebook</a>'\n",
              "            + ' to learn more about interactive tables.';\n",
              "          element.innerHTML = '';\n",
              "          dataTable['output_type'] = 'display_data';\n",
              "          await google.colab.output.renderOutput(dataTable, element);\n",
              "          const docLink = document.createElement('div');\n",
              "          docLink.innerHTML = docLinkHtml;\n",
              "          element.appendChild(docLink);\n",
              "        }\n",
              "      </script>\n",
              "    </div>\n",
              "  </div>\n",
              "  "
            ],
            "text/plain": [
              "   Season  DayNum  TeamIdA  ScoreA  ...  WinRatioDiff  GapAvgDiff  ScoreDiff  WinA\n",
              "0  1998.0   137.0   3104.0    94.0  ...     -0.003704    7.322222       48.0     1\n",
              "1  1998.0   137.0   3112.0    75.0  ...     -0.007937   -5.414021       12.0     1\n",
              "2  1998.0   137.0   3163.0    93.0  ...      0.223214   19.803571       41.0     1\n",
              "3  1998.0   137.0   3266.0    45.0  ...     -0.196286  -15.564987      -14.0     0\n",
              "4  1998.0   137.0   3203.0    74.0  ...      0.000000    4.923077        2.0     1\n",
              "\n",
              "[5 rows x 18 columns]"
            ]
          },
          "metadata": {},
          "execution_count": 3
        }
      ]
    },
    {
      "cell_type": "code",
      "source": [
        "df.isnull().sum()"
      ],
      "metadata": {
        "colab": {
          "base_uri": "https://localhost:8080/"
        },
        "id": "5SE6xLd4M41Z",
        "outputId": "91aa1a2c-8bcb-4de9-fdab-cd67a6cb9db4"
      },
      "execution_count": 4,
      "outputs": [
        {
          "output_type": "execute_result",
          "data": {
            "text/plain": [
              "Season          0\n",
              "DayNum          0\n",
              "TeamIdA         0\n",
              "ScoreA          0\n",
              "TeamIdB         0\n",
              "ScoreB          0\n",
              "Round           0\n",
              "SeedA           0\n",
              "SeedB           0\n",
              "WinRatioA       0\n",
              "GapAvgA         0\n",
              "WinRatioB       0\n",
              "GapAvgB         0\n",
              "SeedDiff        0\n",
              "WinRatioDiff    0\n",
              "GapAvgDiff      0\n",
              "ScoreDiff       0\n",
              "WinA            0\n",
              "dtype: int64"
            ]
          },
          "metadata": {},
          "execution_count": 4
        }
      ]
    },
    {
      "cell_type": "markdown",
      "source": [
        "No hi ha cap valor nul. "
      ],
      "metadata": {
        "id": "eOmHtiMcNZZ7"
      }
    },
    {
      "cell_type": "code",
      "source": [
        "df.describe()"
      ],
      "metadata": {
        "colab": {
          "base_uri": "https://localhost:8080/",
          "height": 364
        },
        "id": "XavLGU8uNbS1",
        "outputId": "eedfc1d2-19e7-42d8-c194-6ccd0b33c74b"
      },
      "execution_count": 5,
      "outputs": [
        {
          "output_type": "execute_result",
          "data": {
            "text/html": [
              "\n",
              "  <div id=\"df-d2a9f476-2e30-4a71-a879-180dff3895e9\">\n",
              "    <div class=\"colab-df-container\">\n",
              "      <div>\n",
              "<style scoped>\n",
              "    .dataframe tbody tr th:only-of-type {\n",
              "        vertical-align: middle;\n",
              "    }\n",
              "\n",
              "    .dataframe tbody tr th {\n",
              "        vertical-align: top;\n",
              "    }\n",
              "\n",
              "    .dataframe thead th {\n",
              "        text-align: right;\n",
              "    }\n",
              "</style>\n",
              "<table border=\"1\" class=\"dataframe\">\n",
              "  <thead>\n",
              "    <tr style=\"text-align: right;\">\n",
              "      <th></th>\n",
              "      <th>Season</th>\n",
              "      <th>DayNum</th>\n",
              "      <th>TeamIdA</th>\n",
              "      <th>ScoreA</th>\n",
              "      <th>TeamIdB</th>\n",
              "      <th>ScoreB</th>\n",
              "      <th>Round</th>\n",
              "      <th>SeedA</th>\n",
              "      <th>SeedB</th>\n",
              "      <th>WinRatioA</th>\n",
              "      <th>GapAvgA</th>\n",
              "      <th>WinRatioB</th>\n",
              "      <th>GapAvgB</th>\n",
              "      <th>SeedDiff</th>\n",
              "      <th>WinRatioDiff</th>\n",
              "      <th>GapAvgDiff</th>\n",
              "      <th>ScoreDiff</th>\n",
              "      <th>WinA</th>\n",
              "    </tr>\n",
              "  </thead>\n",
              "  <tbody>\n",
              "    <tr>\n",
              "      <th>count</th>\n",
              "      <td>1386.000000</td>\n",
              "      <td>1386.000000</td>\n",
              "      <td>1386.000000</td>\n",
              "      <td>1386.000000</td>\n",
              "      <td>1386.000000</td>\n",
              "      <td>1386.000000</td>\n",
              "      <td>1386.000000</td>\n",
              "      <td>1386.000000</td>\n",
              "      <td>1386.000000</td>\n",
              "      <td>1386.000000</td>\n",
              "      <td>1386.000000</td>\n",
              "      <td>1386.000000</td>\n",
              "      <td>1386.000000</td>\n",
              "      <td>1386.000000</td>\n",
              "      <td>1386.000000</td>\n",
              "      <td>1386.000000</td>\n",
              "      <td>1386.000000</td>\n",
              "      <td>1386.000000</td>\n",
              "    </tr>\n",
              "    <tr>\n",
              "      <th>mean</th>\n",
              "      <td>2008.500000</td>\n",
              "      <td>140.744589</td>\n",
              "      <td>3290.566378</td>\n",
              "      <td>67.496392</td>\n",
              "      <td>3282.031746</td>\n",
              "      <td>67.592352</td>\n",
              "      <td>1.379509</td>\n",
              "      <td>6.277056</td>\n",
              "      <td>6.343434</td>\n",
              "      <td>0.781052</td>\n",
              "      <td>12.933666</td>\n",
              "      <td>0.781232</td>\n",
              "      <td>13.079504</td>\n",
              "      <td>-0.066378</td>\n",
              "      <td>-0.000180</td>\n",
              "      <td>-0.145838</td>\n",
              "      <td>-0.095960</td>\n",
              "      <td>0.510823</td>\n",
              "    </tr>\n",
              "    <tr>\n",
              "      <th>std</th>\n",
              "      <td>6.346579</td>\n",
              "      <td>4.066912</td>\n",
              "      <td>98.831339</td>\n",
              "      <td>13.683701</td>\n",
              "      <td>98.606056</td>\n",
              "      <td>14.117012</td>\n",
              "      <td>1.549747</td>\n",
              "      <td>4.497060</td>\n",
              "      <td>4.505474</td>\n",
              "      <td>0.109950</td>\n",
              "      <td>7.204727</td>\n",
              "      <td>0.110162</td>\n",
              "      <td>7.272571</td>\n",
              "      <td>7.419843</td>\n",
              "      <td>0.167236</td>\n",
              "      <td>10.636907</td>\n",
              "      <td>20.842407</td>\n",
              "      <td>0.500063</td>\n",
              "    </tr>\n",
              "    <tr>\n",
              "      <th>min</th>\n",
              "      <td>1998.000000</td>\n",
              "      <td>137.000000</td>\n",
              "      <td>3103.000000</td>\n",
              "      <td>26.000000</td>\n",
              "      <td>3101.000000</td>\n",
              "      <td>29.000000</td>\n",
              "      <td>0.000000</td>\n",
              "      <td>1.000000</td>\n",
              "      <td>1.000000</td>\n",
              "      <td>0.437500</td>\n",
              "      <td>-5.593750</td>\n",
              "      <td>0.433333</td>\n",
              "      <td>-3.857143</td>\n",
              "      <td>-15.000000</td>\n",
              "      <td>-0.548387</td>\n",
              "      <td>-41.878788</td>\n",
              "      <td>-89.000000</td>\n",
              "      <td>0.000000</td>\n",
              "    </tr>\n",
              "    <tr>\n",
              "      <th>25%</th>\n",
              "      <td>2003.000000</td>\n",
              "      <td>138.000000</td>\n",
              "      <td>3208.000000</td>\n",
              "      <td>58.000000</td>\n",
              "      <td>3199.000000</td>\n",
              "      <td>58.000000</td>\n",
              "      <td>0.000000</td>\n",
              "      <td>2.000000</td>\n",
              "      <td>2.000000</td>\n",
              "      <td>0.703704</td>\n",
              "      <td>8.080000</td>\n",
              "      <td>0.700000</td>\n",
              "      <td>7.814732</td>\n",
              "      <td>-5.000000</td>\n",
              "      <td>-0.112500</td>\n",
              "      <td>-6.547812</td>\n",
              "      <td>-14.000000</td>\n",
              "      <td>0.000000</td>\n",
              "    </tr>\n",
              "    <tr>\n",
              "      <th>50%</th>\n",
              "      <td>2008.500000</td>\n",
              "      <td>139.000000</td>\n",
              "      <td>3301.000000</td>\n",
              "      <td>67.000000</td>\n",
              "      <td>3278.500000</td>\n",
              "      <td>67.000000</td>\n",
              "      <td>1.000000</td>\n",
              "      <td>5.000000</td>\n",
              "      <td>5.000000</td>\n",
              "      <td>0.774194</td>\n",
              "      <td>12.125000</td>\n",
              "      <td>0.774194</td>\n",
              "      <td>12.147091</td>\n",
              "      <td>-1.000000</td>\n",
              "      <td>0.006250</td>\n",
              "      <td>-0.019432</td>\n",
              "      <td>1.000000</td>\n",
              "      <td>1.000000</td>\n",
              "    </tr>\n",
              "    <tr>\n",
              "      <th>75%</th>\n",
              "      <td>2014.000000</td>\n",
              "      <td>141.000000</td>\n",
              "      <td>3385.000000</td>\n",
              "      <td>76.000000</td>\n",
              "      <td>3364.000000</td>\n",
              "      <td>77.000000</td>\n",
              "      <td>2.000000</td>\n",
              "      <td>9.000000</td>\n",
              "      <td>10.000000</td>\n",
              "      <td>0.870968</td>\n",
              "      <td>16.560606</td>\n",
              "      <td>0.873992</td>\n",
              "      <td>16.991935</td>\n",
              "      <td>5.000000</td>\n",
              "      <td>0.115484</td>\n",
              "      <td>6.330645</td>\n",
              "      <td>14.000000</td>\n",
              "      <td>1.000000</td>\n",
              "    </tr>\n",
              "    <tr>\n",
              "      <th>max</th>\n",
              "      <td>2019.000000</td>\n",
              "      <td>155.000000</td>\n",
              "      <td>3464.000000</td>\n",
              "      <td>111.000000</td>\n",
              "      <td>3462.000000</td>\n",
              "      <td>140.000000</td>\n",
              "      <td>6.000000</td>\n",
              "      <td>16.000000</td>\n",
              "      <td>16.000000</td>\n",
              "      <td>1.000000</td>\n",
              "      <td>42.060606</td>\n",
              "      <td>1.000000</td>\n",
              "      <td>42.060606</td>\n",
              "      <td>15.000000</td>\n",
              "      <td>0.466667</td>\n",
              "      <td>33.318671</td>\n",
              "      <td>72.000000</td>\n",
              "      <td>1.000000</td>\n",
              "    </tr>\n",
              "  </tbody>\n",
              "</table>\n",
              "</div>\n",
              "      <button class=\"colab-df-convert\" onclick=\"convertToInteractive('df-d2a9f476-2e30-4a71-a879-180dff3895e9')\"\n",
              "              title=\"Convert this dataframe to an interactive table.\"\n",
              "              style=\"display:none;\">\n",
              "        \n",
              "  <svg xmlns=\"http://www.w3.org/2000/svg\" height=\"24px\"viewBox=\"0 0 24 24\"\n",
              "       width=\"24px\">\n",
              "    <path d=\"M0 0h24v24H0V0z\" fill=\"none\"/>\n",
              "    <path d=\"M18.56 5.44l.94 2.06.94-2.06 2.06-.94-2.06-.94-.94-2.06-.94 2.06-2.06.94zm-11 1L8.5 8.5l.94-2.06 2.06-.94-2.06-.94L8.5 2.5l-.94 2.06-2.06.94zm10 10l.94 2.06.94-2.06 2.06-.94-2.06-.94-.94-2.06-.94 2.06-2.06.94z\"/><path d=\"M17.41 7.96l-1.37-1.37c-.4-.4-.92-.59-1.43-.59-.52 0-1.04.2-1.43.59L10.3 9.45l-7.72 7.72c-.78.78-.78 2.05 0 2.83L4 21.41c.39.39.9.59 1.41.59.51 0 1.02-.2 1.41-.59l7.78-7.78 2.81-2.81c.8-.78.8-2.07 0-2.86zM5.41 20L4 18.59l7.72-7.72 1.47 1.35L5.41 20z\"/>\n",
              "  </svg>\n",
              "      </button>\n",
              "      \n",
              "  <style>\n",
              "    .colab-df-container {\n",
              "      display:flex;\n",
              "      flex-wrap:wrap;\n",
              "      gap: 12px;\n",
              "    }\n",
              "\n",
              "    .colab-df-convert {\n",
              "      background-color: #E8F0FE;\n",
              "      border: none;\n",
              "      border-radius: 50%;\n",
              "      cursor: pointer;\n",
              "      display: none;\n",
              "      fill: #1967D2;\n",
              "      height: 32px;\n",
              "      padding: 0 0 0 0;\n",
              "      width: 32px;\n",
              "    }\n",
              "\n",
              "    .colab-df-convert:hover {\n",
              "      background-color: #E2EBFA;\n",
              "      box-shadow: 0px 1px 2px rgba(60, 64, 67, 0.3), 0px 1px 3px 1px rgba(60, 64, 67, 0.15);\n",
              "      fill: #174EA6;\n",
              "    }\n",
              "\n",
              "    [theme=dark] .colab-df-convert {\n",
              "      background-color: #3B4455;\n",
              "      fill: #D2E3FC;\n",
              "    }\n",
              "\n",
              "    [theme=dark] .colab-df-convert:hover {\n",
              "      background-color: #434B5C;\n",
              "      box-shadow: 0px 1px 3px 1px rgba(0, 0, 0, 0.15);\n",
              "      filter: drop-shadow(0px 1px 2px rgba(0, 0, 0, 0.3));\n",
              "      fill: #FFFFFF;\n",
              "    }\n",
              "  </style>\n",
              "\n",
              "      <script>\n",
              "        const buttonEl =\n",
              "          document.querySelector('#df-d2a9f476-2e30-4a71-a879-180dff3895e9 button.colab-df-convert');\n",
              "        buttonEl.style.display =\n",
              "          google.colab.kernel.accessAllowed ? 'block' : 'none';\n",
              "\n",
              "        async function convertToInteractive(key) {\n",
              "          const element = document.querySelector('#df-d2a9f476-2e30-4a71-a879-180dff3895e9');\n",
              "          const dataTable =\n",
              "            await google.colab.kernel.invokeFunction('convertToInteractive',\n",
              "                                                     [key], {});\n",
              "          if (!dataTable) return;\n",
              "\n",
              "          const docLinkHtml = 'Like what you see? Visit the ' +\n",
              "            '<a target=\"_blank\" href=https://colab.research.google.com/notebooks/data_table.ipynb>data table notebook</a>'\n",
              "            + ' to learn more about interactive tables.';\n",
              "          element.innerHTML = '';\n",
              "          dataTable['output_type'] = 'display_data';\n",
              "          await google.colab.output.renderOutput(dataTable, element);\n",
              "          const docLink = document.createElement('div');\n",
              "          docLink.innerHTML = docLinkHtml;\n",
              "          element.appendChild(docLink);\n",
              "        }\n",
              "      </script>\n",
              "    </div>\n",
              "  </div>\n",
              "  "
            ],
            "text/plain": [
              "            Season       DayNum  ...    ScoreDiff         WinA\n",
              "count  1386.000000  1386.000000  ...  1386.000000  1386.000000\n",
              "mean   2008.500000   140.744589  ...    -0.095960     0.510823\n",
              "std       6.346579     4.066912  ...    20.842407     0.500063\n",
              "min    1998.000000   137.000000  ...   -89.000000     0.000000\n",
              "25%    2003.000000   138.000000  ...   -14.000000     0.000000\n",
              "50%    2008.500000   139.000000  ...     1.000000     1.000000\n",
              "75%    2014.000000   141.000000  ...    14.000000     1.000000\n",
              "max    2019.000000   155.000000  ...    72.000000     1.000000\n",
              "\n",
              "[8 rows x 18 columns]"
            ]
          },
          "metadata": {},
          "execution_count": 5
        }
      ]
    },
    {
      "cell_type": "markdown",
      "source": [
        "les estadistiques de teamIDA TeamIDB no té cap sentit"
      ],
      "metadata": {
        "id": "MBxqbeoEYXTh"
      }
    },
    {
      "cell_type": "code",
      "source": [
        "wins=df.groupby(df['WinA']==1)\n",
        "wins.size()"
      ],
      "metadata": {
        "colab": {
          "base_uri": "https://localhost:8080/"
        },
        "id": "OdpcqsFl-i_K",
        "outputId": "cad40a10-38fc-4d8a-95e7-034a9c9dc584"
      },
      "execution_count": 6,
      "outputs": [
        {
          "output_type": "execute_result",
          "data": {
            "text/plain": [
              "WinA\n",
              "False    678\n",
              "True     708\n",
              "dtype: int64"
            ]
          },
          "metadata": {},
          "execution_count": 6
        }
      ]
    },
    {
      "cell_type": "markdown",
      "source": [
        "Hi ha un total de 1386 partits del torneig representats, desde la temporada del 1998 fins el 2019. \n",
        "\n",
        "681 partits són guanyats, 705 són perduts. "
      ],
      "metadata": {
        "id": "FCjiJzMrRWHP"
      }
    },
    {
      "cell_type": "markdown",
      "source": [
        "###Normalització de les dades:"
      ],
      "metadata": {
        "id": "QN8z7V8dWRna"
      }
    },
    {
      "cell_type": "code",
      "source": [
        "from sklearn import preprocessing as skpre\n",
        "df_minmax = skpre.minmax_scale(df)\n",
        "df_scaled=pd.DataFrame(df_minmax, columns=df.columns)"
      ],
      "metadata": {
        "id": "9cPgyLpaS7yH"
      },
      "execution_count": 7,
      "outputs": []
    },
    {
      "cell_type": "markdown",
      "source": [
        "##PCA"
      ],
      "metadata": {
        "id": "9iS7_gL_WKjd"
      }
    },
    {
      "cell_type": "code",
      "source": [
        "from sklearn.decomposition import PCA\n",
        "pca = PCA()\n",
        "pca.fit(df_scaled.iloc[:,:-1])\n",
        "df_pca = pca.transform(df_scaled.iloc[:,:-1])\n",
        "\n",
        "fig1, ax1 =plt.subplots(figsize=(10,5))\n",
        "ax1.scatter(df_pca[:,0],df_pca[:,1], c=df['WinA'], s=25)\n",
        "ax1.set_title('\\n'+'PCA'+'\\n', size=12)\n",
        "plt.show()\n",
        "\n",
        "prin_comps = pca.components_\n",
        "expl_var = pca.explained_variance_\n",
        "expl_var_r = pca.explained_variance_ratio_\n",
        "expl_var_r_cumsum = np.cumsum(expl_var_r)\n",
        "print('explained variance ratio' +  str(expl_var_r))\n",
        "print('explained variance ratio cumulative ' + str(expl_var_r_cumsum))"
      ],
      "metadata": {
        "colab": {
          "base_uri": "https://localhost:8080/",
          "height": 505
        },
        "id": "OINMdzyTXHtY",
        "outputId": "3f6bd9d9-6fb6-47fd-9fee-87be3015fd73"
      },
      "execution_count": 8,
      "outputs": [
        {
          "output_type": "display_data",
          "data": {
            "image/png": "[encoded data removed]",
            "text/plain": [
              "<Figure size 720x360 with 1 Axes>"
            ]
          },
          "metadata": {
            "needs_background": "light"
          }
        },
        {
          "output_type": "stream",
          "name": "stdout",
          "text": [
            "explained variance ratio[3.23958998e-01 2.25082772e-01 1.13258501e-01 9.46496473e-02\n",
            " 8.82638344e-02 5.49843634e-02 3.11534271e-02 2.32353762e-02\n",
            " 1.75026442e-02 1.34575858e-02 7.70975301e-03 5.07475005e-03\n",
            " 1.66834689e-03 2.22461721e-32 7.78367947e-33 4.31389956e-33\n",
            " 2.69956684e-33]\n",
            "explained variance ratio cumulative [0.323959   0.54904177 0.66230027 0.75694992 0.84521375 0.90019812\n",
            " 0.93135154 0.95458692 0.97208956 0.98554715 0.9932569  0.99833165\n",
            " 1.         1.         1.         1.         1.        ]\n"
          ]
        }
      ]
    },
    {
      "cell_type": "markdown",
      "source": [
        "De la PCA mostrada, de primeres s'intueix una disposició piramidal de punts i una possible simetria. També s'observa que respecte l'eix horitzontal es separen molt bé els partits guanyats/perduts.\n",
        "\n",
        "El primer eix explica el 31,2% de la variància, i tal i com s'observa al gràfic, com més a la dreta d'aquest eix, més probabilitat hi ha de guanyar el partit.\n",
        "\n",
        "El segon eix explica el 23,15% de la variància, però en la direcció vertical del gràfic puc observar que no hi ha distinció entre els dos colors, tot i que sí que destaca que com més amunt, molts menys punts hi ha. "
      ],
      "metadata": {
        "id": "CLzIY2YJXeAB"
      }
    },
    {
      "cell_type": "code",
      "source": [
        "fig2,  ax  = plt.subplots(figsize=(8,5))\n",
        "x= np.arange(17)\n",
        "ax.bar(x, expl_var_r)\n",
        "ax.plot(x, expl_var_r_cumsum, color='red', marker='o')\n",
        "plt.show"
      ],
      "metadata": {
        "colab": {
          "base_uri": "https://localhost:8080/",
          "height": 337
        },
        "id": "zr5Lu9uZXL06",
        "outputId": "7fa3d2b5-3e10-494d-d302-a1a30a64abd5"
      },
      "execution_count": 9,
      "outputs": [
        {
          "output_type": "execute_result",
          "data": {
            "text/plain": [
              "<function matplotlib.pyplot.show>"
            ]
          },
          "metadata": {},
          "execution_count": 9
        },
        {
          "output_type": "display_data",
          "data": {
            "image/png": "[encoded data removed]",
            "text/plain": [
              "<Figure size 576x360 with 1 Axes>"
            ]
          },
          "metadata": {
            "needs_background": "light"
          }
        }
      ]
    },
    {
      "cell_type": "markdown",
      "source": [
        "Els dos primers principals components junts, expliquen el 55% de la variància. No hi ha cap colze clar, els següents 3 expliquen aproximadament el mateix. "
      ],
      "metadata": {
        "id": "V_nRYZRrYrOK"
      }
    },
    {
      "cell_type": "code",
      "source": [
        "print ('primer eix: ' + str(prin_comps[0]))\n",
        "print  ('segon eix: ' + str(prin_comps[1]))"
      ],
      "metadata": {
        "colab": {
          "base_uri": "https://localhost:8080/"
        },
        "id": "W4H5BZLDYqf0",
        "outputId": "cb166b03-fcb1-4635-d4ca-9394e567ef6d"
      },
      "execution_count": 10,
      "outputs": [
        {
          "output_type": "stream",
          "name": "stdout",
          "text": [
            "primer eix: [ 0.01751628  0.00138382  0.01034185 -0.19686832 -0.01833929  0.14802034\n",
            "  0.00389465  0.45550567 -0.45525271 -0.21369712 -0.16935028  0.23262712\n",
            "  0.18681381  0.45537919 -0.24828898 -0.22139509 -0.20598798]\n",
            "segon eix: [ 2.56089207e-02  5.01194795e-01  4.96695875e-04  1.40485389e-02\n",
            " -5.59402143e-02  6.77205961e-03  5.76390723e-01 -3.61265823e-01\n",
            " -3.63805878e-01  2.17010682e-01  1.82482097e-01  1.90427069e-01\n",
            "  1.81096711e-01  1.27002739e-03  1.39498388e-02  5.06019151e-03\n",
            "  2.74799495e-03]\n"
          ]
        }
      ]
    },
    {
      "cell_type": "markdown",
      "source": [
        "Els atributs amb més influencia sobre el primer eix són: SeedA(-), SeedB i SeedDif(-). És a dir, com més petita la Seed de l'equip A, més gran la Seed de l'equip B i més gran la diferencia de Seeds entre aquests dos equips,  més probabilitats té l'equip A de guanyar el partit. Té sentit, ja que com, recordem, més petita és la Seed de l'equip, vol dir que més ben valorat està l'equip segons la temporada ha fet aquest. \n",
        "\n",
        "Els atributs amb més influència sobre el segon eix són: DayNum i Round, això explica la forma piramidal del gràfic. Ja que a les primeres rondes del torneig (menor numero a Round) més partit s'han jugat, per tant, més victories i derrotes es dibuixen. \n",
        "\n",
        "D'aquesta manera, puc observar, que els equips que  més endavant de la competició arriben són aquells amb unes Seeds més similars, segurament, les dues baixetes. "
      ],
      "metadata": {
        "id": "z32iUa85Y1IE"
      }
    },
    {
      "cell_type": "markdown",
      "source": [
        "###Seeds"
      ],
      "metadata": {
        "id": "XwNdTPdcfPNa"
      }
    },
    {
      "cell_type": "code",
      "source": [
        "fig3, (ax3, ax4) = plt.subplots(1, 2, figsize=(12,5))\n",
        "ax3.scatter(df['SeedA'],df['SeedB'], c=df['WinA'], s=60, alpha=0.2)\n",
        "ax3.set_title('\\n'+'SeedB vs SeedA colored by WinA'+'\\n', size=12)\n",
        "ax3.set_xlabel('SeedA')\n",
        "ax3.set_ylabel('SeedB')\n",
        "\n",
        "ax4.scatter(df['SeedA'],df['SeedB'], c=df['Round'], s=60, alpha=1)\n",
        "ax4.set_title('\\n'+'SeedB vs SeedA colored by Round'+'\\n', size=12)\n",
        "ax4.set_xlabel('SeedA')\n",
        "ax4.set_ylabel('SeedB')\n",
        "\n",
        "plt.show()"
      ],
      "metadata": {
        "colab": {
          "base_uri": "https://localhost:8080/",
          "height": 380
        },
        "id": "lSHAWVUBdIsE",
        "outputId": "60e25959-557c-499f-8f54-ebfa8d6a5f6c"
      },
      "execution_count": 11,
      "outputs": [
        {
          "output_type": "display_data",
          "data": {
            "image/png": "[encoded data removed]",
            "text/plain": [
              "<Figure size 864x360 with 2 Axes>"
            ]
          },
          "metadata": {
            "needs_background": "light"
          }
        }
      ]
    },
    {
      "cell_type": "markdown",
      "source": [
        "La diagonal clara és la primera ronda que juguen 1vs16, 2vs15... i quasi sempre guanya l'equip amb la seed més petita, per això s'observa un degradat en el gràfic de l'esquerra que està pintat segons si l'equip A guanya (groc). \n",
        "\n",
        "Només sobreviuen els equips de Seed petita."
      ],
      "metadata": {
        "id": "PO_QNPmReIBQ"
      }
    },
    {
      "cell_type": "markdown",
      "source": [
        "## Estabilitats dels equips en quant a Seeds"
      ],
      "metadata": {
        "id": "54zvibT9a8NH"
      }
    },
    {
      "cell_type": "code",
      "source": [
        "equips = pd.read_csv('/content/drive/MyDrive/TFG/ncaaw-march-mania-2021/WDataFiles_Stage2/WTeams.csv')\n",
        "seeds =pd.read_csv('/content/drive/MyDrive/TFG/ncaaw-march-mania-2021/WDataFiles_Stage2/WNCAATourneySeeds.csv')"
      ],
      "metadata": {
        "id": "tADwPz1ybG6w"
      },
      "execution_count": 12,
      "outputs": []
    },
    {
      "cell_type": "code",
      "source": [
        "equips.head()"
      ],
      "metadata": {
        "colab": {
          "base_uri": "https://localhost:8080/",
          "height": 206
        },
        "id": "-KIIHL2bbjFN",
        "outputId": "9b96c024-0abf-4f47-a4a3-69fd2330afbf"
      },
      "execution_count": 13,
      "outputs": [
        {
          "output_type": "execute_result",
          "data": {
            "text/html": [
              "\n",
              "  <div id=\"df-cb4296b8-aabf-4d30-949e-8cbc1004a18f\">\n",
              "    <div class=\"colab-df-container\">\n",
              "      <div>\n",
              "<style scoped>\n",
              "    .dataframe tbody tr th:only-of-type {\n",
              "        vertical-align: middle;\n",
              "    }\n",
              "\n",
              "    .dataframe tbody tr th {\n",
              "        vertical-align: top;\n",
              "    }\n",
              "\n",
              "    .dataframe thead th {\n",
              "        text-align: right;\n",
              "    }\n",
              "</style>\n",
              "<table border=\"1\" class=\"dataframe\">\n",
              "  <thead>\n",
              "    <tr style=\"text-align: right;\">\n",
              "      <th></th>\n",
              "      <th>TeamID</th>\n",
              "      <th>TeamName</th>\n",
              "    </tr>\n",
              "  </thead>\n",
              "  <tbody>\n",
              "    <tr>\n",
              "      <th>0</th>\n",
              "      <td>3101</td>\n",
              "      <td>Abilene Chr</td>\n",
              "    </tr>\n",
              "    <tr>\n",
              "      <th>1</th>\n",
              "      <td>3102</td>\n",
              "      <td>Air Force</td>\n",
              "    </tr>\n",
              "    <tr>\n",
              "      <th>2</th>\n",
              "      <td>3103</td>\n",
              "      <td>Akron</td>\n",
              "    </tr>\n",
              "    <tr>\n",
              "      <th>3</th>\n",
              "      <td>3104</td>\n",
              "      <td>Alabama</td>\n",
              "    </tr>\n",
              "    <tr>\n",
              "      <th>4</th>\n",
              "      <td>3105</td>\n",
              "      <td>Alabama A&amp;M</td>\n",
              "    </tr>\n",
              "  </tbody>\n",
              "</table>\n",
              "</div>\n",
              "      <button class=\"colab-df-convert\" onclick=\"convertToInteractive('df-cb4296b8-aabf-4d30-949e-8cbc1004a18f')\"\n",
              "              title=\"Convert this dataframe to an interactive table.\"\n",
              "              style=\"display:none;\">\n",
              "        \n",
              "  <svg xmlns=\"http://www.w3.org/2000/svg\" height=\"24px\"viewBox=\"0 0 24 24\"\n",
              "       width=\"24px\">\n",
              "    <path d=\"M0 0h24v24H0V0z\" fill=\"none\"/>\n",
              "    <path d=\"M18.56 5.44l.94 2.06.94-2.06 2.06-.94-2.06-.94-.94-2.06-.94 2.06-2.06.94zm-11 1L8.5 8.5l.94-2.06 2.06-.94-2.06-.94L8.5 2.5l-.94 2.06-2.06.94zm10 10l.94 2.06.94-2.06 2.06-.94-2.06-.94-.94-2.06-.94 2.06-2.06.94z\"/><path d=\"M17.41 7.96l-1.37-1.37c-.4-.4-.92-.59-1.43-.59-.52 0-1.04.2-1.43.59L10.3 9.45l-7.72 7.72c-.78.78-.78 2.05 0 2.83L4 21.41c.39.39.9.59 1.41.59.51 0 1.02-.2 1.41-.59l7.78-7.78 2.81-2.81c.8-.78.8-2.07 0-2.86zM5.41 20L4 18.59l7.72-7.72 1.47 1.35L5.41 20z\"/>\n",
              "  </svg>\n",
              "      </button>\n",
              "      \n",
              "  <style>\n",
              "    .colab-df-container {\n",
              "      display:flex;\n",
              "      flex-wrap:wrap;\n",
              "      gap: 12px;\n",
              "    }\n",
              "\n",
              "    .colab-df-convert {\n",
              "      background-color: #E8F0FE;\n",
              "      border: none;\n",
              "      border-radius: 50%;\n",
              "      cursor: pointer;\n",
              "      display: none;\n",
              "      fill: #1967D2;\n",
              "      height: 32px;\n",
              "      padding: 0 0 0 0;\n",
              "      width: 32px;\n",
              "    }\n",
              "\n",
              "    .colab-df-convert:hover {\n",
              "      background-color: #E2EBFA;\n",
              "      box-shadow: 0px 1px 2px rgba(60, 64, 67, 0.3), 0px 1px 3px 1px rgba(60, 64, 67, 0.15);\n",
              "      fill: #174EA6;\n",
              "    }\n",
              "\n",
              "    [theme=dark] .colab-df-convert {\n",
              "      background-color: #3B4455;\n",
              "      fill: #D2E3FC;\n",
              "    }\n",
              "\n",
              "    [theme=dark] .colab-df-convert:hover {\n",
              "      background-color: #434B5C;\n",
              "      box-shadow: 0px 1px 3px 1px rgba(0, 0, 0, 0.15);\n",
              "      filter: drop-shadow(0px 1px 2px rgba(0, 0, 0, 0.3));\n",
              "      fill: #FFFFFF;\n",
              "    }\n",
              "  </style>\n",
              "\n",
              "      <script>\n",
              "        const buttonEl =\n",
              "          document.querySelector('#df-cb4296b8-aabf-4d30-949e-8cbc1004a18f button.colab-df-convert');\n",
              "        buttonEl.style.display =\n",
              "          google.colab.kernel.accessAllowed ? 'block' : 'none';\n",
              "\n",
              "        async function convertToInteractive(key) {\n",
              "          const element = document.querySelector('#df-cb4296b8-aabf-4d30-949e-8cbc1004a18f');\n",
              "          const dataTable =\n",
              "            await google.colab.kernel.invokeFunction('convertToInteractive',\n",
              "                                                     [key], {});\n",
              "          if (!dataTable) return;\n",
              "\n",
              "          const docLinkHtml = 'Like what you see? Visit the ' +\n",
              "            '<a target=\"_blank\" href=https://colab.research.google.com/notebooks/data_table.ipynb>data table notebook</a>'\n",
              "            + ' to learn more about interactive tables.';\n",
              "          element.innerHTML = '';\n",
              "          dataTable['output_type'] = 'display_data';\n",
              "          await google.colab.output.renderOutput(dataTable, element);\n",
              "          const docLink = document.createElement('div');\n",
              "          docLink.innerHTML = docLinkHtml;\n",
              "          element.appendChild(docLink);\n",
              "        }\n",
              "      </script>\n",
              "    </div>\n",
              "  </div>\n",
              "  "
            ],
            "text/plain": [
              "   TeamID     TeamName\n",
              "0    3101  Abilene Chr\n",
              "1    3102    Air Force\n",
              "2    3103        Akron\n",
              "3    3104      Alabama\n",
              "4    3105  Alabama A&M"
            ]
          },
          "metadata": {},
          "execution_count": 13
        }
      ]
    },
    {
      "cell_type": "code",
      "source": [
        "import re\n",
        "def treat_seed(seed):\n",
        "    return int(re.sub(\"[^0-9]\", \"\", seed))"
      ],
      "metadata": {
        "id": "wmKLRsikfg5T"
      },
      "execution_count": 14,
      "outputs": []
    },
    {
      "cell_type": "code",
      "source": [
        "seeds['Seed'] = seeds['Seed'].apply(treat_seed)"
      ],
      "metadata": {
        "id": "cT2NyY5efhXE"
      },
      "execution_count": 15,
      "outputs": []
    },
    {
      "cell_type": "code",
      "source": [
        "seeds.head()"
      ],
      "metadata": {
        "colab": {
          "base_uri": "https://localhost:8080/",
          "height": 206
        },
        "id": "iDRlMXZWbvAm",
        "outputId": "d99a64ff-9589-4c67-aee3-473025d1beb2"
      },
      "execution_count": 16,
      "outputs": [
        {
          "output_type": "execute_result",
          "data": {
            "text/html": [
              "\n",
              "  <div id=\"df-716243ec-b17b-4525-a567-215b2d15a13e\">\n",
              "    <div class=\"colab-df-container\">\n",
              "      <div>\n",
              "<style scoped>\n",
              "    .dataframe tbody tr th:only-of-type {\n",
              "        vertical-align: middle;\n",
              "    }\n",
              "\n",
              "    .dataframe tbody tr th {\n",
              "        vertical-align: top;\n",
              "    }\n",
              "\n",
              "    .dataframe thead th {\n",
              "        text-align: right;\n",
              "    }\n",
              "</style>\n",
              "<table border=\"1\" class=\"dataframe\">\n",
              "  <thead>\n",
              "    <tr style=\"text-align: right;\">\n",
              "      <th></th>\n",
              "      <th>Season</th>\n",
              "      <th>Seed</th>\n",
              "      <th>TeamID</th>\n",
              "    </tr>\n",
              "  </thead>\n",
              "  <tbody>\n",
              "    <tr>\n",
              "      <th>0</th>\n",
              "      <td>1998</td>\n",
              "      <td>1</td>\n",
              "      <td>3330</td>\n",
              "    </tr>\n",
              "    <tr>\n",
              "      <th>1</th>\n",
              "      <td>1998</td>\n",
              "      <td>2</td>\n",
              "      <td>3163</td>\n",
              "    </tr>\n",
              "    <tr>\n",
              "      <th>2</th>\n",
              "      <td>1998</td>\n",
              "      <td>3</td>\n",
              "      <td>3112</td>\n",
              "    </tr>\n",
              "    <tr>\n",
              "      <th>3</th>\n",
              "      <td>1998</td>\n",
              "      <td>4</td>\n",
              "      <td>3301</td>\n",
              "    </tr>\n",
              "    <tr>\n",
              "      <th>4</th>\n",
              "      <td>1998</td>\n",
              "      <td>5</td>\n",
              "      <td>3272</td>\n",
              "    </tr>\n",
              "  </tbody>\n",
              "</table>\n",
              "</div>\n",
              "      <button class=\"colab-df-convert\" onclick=\"convertToInteractive('df-716243ec-b17b-4525-a567-215b2d15a13e')\"\n",
              "              title=\"Convert this dataframe to an interactive table.\"\n",
              "              style=\"display:none;\">\n",
              "        \n",
              "  <svg xmlns=\"http://www.w3.org/2000/svg\" height=\"24px\"viewBox=\"0 0 24 24\"\n",
              "       width=\"24px\">\n",
              "    <path d=\"M0 0h24v24H0V0z\" fill=\"none\"/>\n",
              "    <path d=\"M18.56 5.44l.94 2.06.94-2.06 2.06-.94-2.06-.94-.94-2.06-.94 2.06-2.06.94zm-11 1L8.5 8.5l.94-2.06 2.06-.94-2.06-.94L8.5 2.5l-.94 2.06-2.06.94zm10 10l.94 2.06.94-2.06 2.06-.94-2.06-.94-.94-2.06-.94 2.06-2.06.94z\"/><path d=\"M17.41 7.96l-1.37-1.37c-.4-.4-.92-.59-1.43-.59-.52 0-1.04.2-1.43.59L10.3 9.45l-7.72 7.72c-.78.78-.78 2.05 0 2.83L4 21.41c.39.39.9.59 1.41.59.51 0 1.02-.2 1.41-.59l7.78-7.78 2.81-2.81c.8-.78.8-2.07 0-2.86zM5.41 20L4 18.59l7.72-7.72 1.47 1.35L5.41 20z\"/>\n",
              "  </svg>\n",
              "      </button>\n",
              "      \n",
              "  <style>\n",
              "    .colab-df-container {\n",
              "      display:flex;\n",
              "      flex-wrap:wrap;\n",
              "      gap: 12px;\n",
              "    }\n",
              "\n",
              "    .colab-df-convert {\n",
              "      background-color: #E8F0FE;\n",
              "      border: none;\n",
              "      border-radius: 50%;\n",
              "      cursor: pointer;\n",
              "      display: none;\n",
              "      fill: #1967D2;\n",
              "      height: 32px;\n",
              "      padding: 0 0 0 0;\n",
              "      width: 32px;\n",
              "    }\n",
              "\n",
              "    .colab-df-convert:hover {\n",
              "      background-color: #E2EBFA;\n",
              "      box-shadow: 0px 1px 2px rgba(60, 64, 67, 0.3), 0px 1px 3px 1px rgba(60, 64, 67, 0.15);\n",
              "      fill: #174EA6;\n",
              "    }\n",
              "\n",
              "    [theme=dark] .colab-df-convert {\n",
              "      background-color: #3B4455;\n",
              "      fill: #D2E3FC;\n",
              "    }\n",
              "\n",
              "    [theme=dark] .colab-df-convert:hover {\n",
              "      background-color: #434B5C;\n",
              "      box-shadow: 0px 1px 3px 1px rgba(0, 0, 0, 0.15);\n",
              "      filter: drop-shadow(0px 1px 2px rgba(0, 0, 0, 0.3));\n",
              "      fill: #FFFFFF;\n",
              "    }\n",
              "  </style>\n",
              "\n",
              "      <script>\n",
              "        const buttonEl =\n",
              "          document.querySelector('#df-716243ec-b17b-4525-a567-215b2d15a13e button.colab-df-convert');\n",
              "        buttonEl.style.display =\n",
              "          google.colab.kernel.accessAllowed ? 'block' : 'none';\n",
              "\n",
              "        async function convertToInteractive(key) {\n",
              "          const element = document.querySelector('#df-716243ec-b17b-4525-a567-215b2d15a13e');\n",
              "          const dataTable =\n",
              "            await google.colab.kernel.invokeFunction('convertToInteractive',\n",
              "                                                     [key], {});\n",
              "          if (!dataTable) return;\n",
              "\n",
              "          const docLinkHtml = 'Like what you see? Visit the ' +\n",
              "            '<a target=\"_blank\" href=https://colab.research.google.com/notebooks/data_table.ipynb>data table notebook</a>'\n",
              "            + ' to learn more about interactive tables.';\n",
              "          element.innerHTML = '';\n",
              "          dataTable['output_type'] = 'display_data';\n",
              "          await google.colab.output.renderOutput(dataTable, element);\n",
              "          const docLink = document.createElement('div');\n",
              "          docLink.innerHTML = docLinkHtml;\n",
              "          element.appendChild(docLink);\n",
              "        }\n",
              "      </script>\n",
              "    </div>\n",
              "  </div>\n",
              "  "
            ],
            "text/plain": [
              "   Season  Seed  TeamID\n",
              "0    1998     1    3330\n",
              "1    1998     2    3163\n",
              "2    1998     3    3112\n",
              "3    1998     4    3301\n",
              "4    1998     5    3272"
            ]
          },
          "metadata": {},
          "execution_count": 16
        }
      ]
    },
    {
      "cell_type": "code",
      "source": [
        "seeds_equips = seeds.merge(equips, on='TeamID', how='left')\n",
        "seeds1 = seeds_equips[seeds_equips['Seed'] == 1]\n",
        "llista_seeds1 = seeds1['TeamName'].unique()\n",
        "llista_seeds1"
      ],
      "metadata": {
        "colab": {
          "base_uri": "https://localhost:8080/"
        },
        "id": "kI-Ki_h8f55l",
        "outputId": "6f925c13-be53-4dda-9735-a99ed2b367a7"
      },
      "execution_count": 17,
      "outputs": [
        {
          "output_type": "execute_result",
          "data": {
            "text/plain": [
              "array(['Old Dominion', 'Texas Tech', 'Tennessee', 'Stanford',\n",
              "       'Connecticut', 'Purdue', 'Louisiana Tech', 'Georgia', 'Notre Dame',\n",
              "       'Duke', 'Oklahoma', 'Vanderbilt', 'LSU', 'Penn St', 'Texas',\n",
              "       'North Carolina', 'Michigan St', 'Ohio St', 'Maryland', 'Nebraska',\n",
              "       'Baylor', 'South Carolina', 'Mississippi St', 'Louisville',\n",
              "       'NC State'], dtype=object)"
            ]
          },
          "metadata": {},
          "execution_count": 17
        }
      ]
    },
    {
      "cell_type": "code",
      "source": [
        "a= seeds1.groupby(by=[\"TeamName\"]).count().sort_values(['Seed'], ascending=False)\n",
        "a['Times in Seed 1']=a['Season']\n",
        "a.drop(['Season', 'Seed', 'TeamID'], axis=1, inplace=True)\n",
        "a"
      ],
      "metadata": {
        "colab": {
          "base_uri": "https://localhost:8080/",
          "height": 864
        },
        "id": "EhIpfrHujWGA",
        "outputId": "bae0ed3d-dc7f-4bd0-9872-8fddcd5be9cf"
      },
      "execution_count": 18,
      "outputs": [
        {
          "output_type": "execute_result",
          "data": {
            "text/html": [
              "\n",
              "  <div id=\"df-d48260f1-a5ff-46e1-bb6b-1f72b3d494da\">\n",
              "    <div class=\"colab-df-container\">\n",
              "      <div>\n",
              "<style scoped>\n",
              "    .dataframe tbody tr th:only-of-type {\n",
              "        vertical-align: middle;\n",
              "    }\n",
              "\n",
              "    .dataframe tbody tr th {\n",
              "        vertical-align: top;\n",
              "    }\n",
              "\n",
              "    .dataframe thead th {\n",
              "        text-align: right;\n",
              "    }\n",
              "</style>\n",
              "<table border=\"1\" class=\"dataframe\">\n",
              "  <thead>\n",
              "    <tr style=\"text-align: right;\">\n",
              "      <th></th>\n",
              "      <th>Times in Seed 1</th>\n",
              "    </tr>\n",
              "    <tr>\n",
              "      <th>TeamName</th>\n",
              "      <th></th>\n",
              "    </tr>\n",
              "  </thead>\n",
              "  <tbody>\n",
              "    <tr>\n",
              "      <th>Connecticut</th>\n",
              "      <td>18</td>\n",
              "    </tr>\n",
              "    <tr>\n",
              "      <th>Tennessee</th>\n",
              "      <td>12</td>\n",
              "    </tr>\n",
              "    <tr>\n",
              "      <th>Notre Dame</th>\n",
              "      <td>9</td>\n",
              "    </tr>\n",
              "    <tr>\n",
              "      <th>Duke</th>\n",
              "      <td>7</td>\n",
              "    </tr>\n",
              "    <tr>\n",
              "      <th>Baylor</th>\n",
              "      <td>6</td>\n",
              "    </tr>\n",
              "    <tr>\n",
              "      <th>Stanford</th>\n",
              "      <td>6</td>\n",
              "    </tr>\n",
              "    <tr>\n",
              "      <th>South Carolina</th>\n",
              "      <td>5</td>\n",
              "    </tr>\n",
              "    <tr>\n",
              "      <th>North Carolina</th>\n",
              "      <td>4</td>\n",
              "    </tr>\n",
              "    <tr>\n",
              "      <th>Maryland</th>\n",
              "      <td>3</td>\n",
              "    </tr>\n",
              "    <tr>\n",
              "      <th>LSU</th>\n",
              "      <td>3</td>\n",
              "    </tr>\n",
              "    <tr>\n",
              "      <th>Louisiana Tech</th>\n",
              "      <td>2</td>\n",
              "    </tr>\n",
              "    <tr>\n",
              "      <th>Louisville</th>\n",
              "      <td>2</td>\n",
              "    </tr>\n",
              "    <tr>\n",
              "      <th>Oklahoma</th>\n",
              "      <td>2</td>\n",
              "    </tr>\n",
              "    <tr>\n",
              "      <th>Mississippi St</th>\n",
              "      <td>2</td>\n",
              "    </tr>\n",
              "    <tr>\n",
              "      <th>Michigan St</th>\n",
              "      <td>1</td>\n",
              "    </tr>\n",
              "    <tr>\n",
              "      <th>Texas Tech</th>\n",
              "      <td>1</td>\n",
              "    </tr>\n",
              "    <tr>\n",
              "      <th>Texas</th>\n",
              "      <td>1</td>\n",
              "    </tr>\n",
              "    <tr>\n",
              "      <th>Georgia</th>\n",
              "      <td>1</td>\n",
              "    </tr>\n",
              "    <tr>\n",
              "      <th>Old Dominion</th>\n",
              "      <td>1</td>\n",
              "    </tr>\n",
              "    <tr>\n",
              "      <th>Purdue</th>\n",
              "      <td>1</td>\n",
              "    </tr>\n",
              "    <tr>\n",
              "      <th>Penn St</th>\n",
              "      <td>1</td>\n",
              "    </tr>\n",
              "    <tr>\n",
              "      <th>Ohio St</th>\n",
              "      <td>1</td>\n",
              "    </tr>\n",
              "    <tr>\n",
              "      <th>Nebraska</th>\n",
              "      <td>1</td>\n",
              "    </tr>\n",
              "    <tr>\n",
              "      <th>NC State</th>\n",
              "      <td>1</td>\n",
              "    </tr>\n",
              "    <tr>\n",
              "      <th>Vanderbilt</th>\n",
              "      <td>1</td>\n",
              "    </tr>\n",
              "  </tbody>\n",
              "</table>\n",
              "</div>\n",
              "      <button class=\"colab-df-convert\" onclick=\"convertToInteractive('df-d48260f1-a5ff-46e1-bb6b-1f72b3d494da')\"\n",
              "              title=\"Convert this dataframe to an interactive table.\"\n",
              "              style=\"display:none;\">\n",
              "        \n",
              "  <svg xmlns=\"http://www.w3.org/2000/svg\" height=\"24px\"viewBox=\"0 0 24 24\"\n",
              "       width=\"24px\">\n",
              "    <path d=\"M0 0h24v24H0V0z\" fill=\"none\"/>\n",
              "    <path d=\"M18.56 5.44l.94 2.06.94-2.06 2.06-.94-2.06-.94-.94-2.06-.94 2.06-2.06.94zm-11 1L8.5 8.5l.94-2.06 2.06-.94-2.06-.94L8.5 2.5l-.94 2.06-2.06.94zm10 10l.94 2.06.94-2.06 2.06-.94-2.06-.94-.94-2.06-.94 2.06-2.06.94z\"/><path d=\"M17.41 7.96l-1.37-1.37c-.4-.4-.92-.59-1.43-.59-.52 0-1.04.2-1.43.59L10.3 9.45l-7.72 7.72c-.78.78-.78 2.05 0 2.83L4 21.41c.39.39.9.59 1.41.59.51 0 1.02-.2 1.41-.59l7.78-7.78 2.81-2.81c.8-.78.8-2.07 0-2.86zM5.41 20L4 18.59l7.72-7.72 1.47 1.35L5.41 20z\"/>\n",
              "  </svg>\n",
              "      </button>\n",
              "      \n",
              "  <style>\n",
              "    .colab-df-container {\n",
              "      display:flex;\n",
              "      flex-wrap:wrap;\n",
              "      gap: 12px;\n",
              "    }\n",
              "\n",
              "    .colab-df-convert {\n",
              "      background-color: #E8F0FE;\n",
              "      border: none;\n",
              "      border-radius: 50%;\n",
              "      cursor: pointer;\n",
              "      display: none;\n",
              "      fill: #1967D2;\n",
              "      height: 32px;\n",
              "      padding: 0 0 0 0;\n",
              "      width: 32px;\n",
              "    }\n",
              "\n",
              "    .colab-df-convert:hover {\n",
              "      background-color: #E2EBFA;\n",
              "      box-shadow: 0px 1px 2px rgba(60, 64, 67, 0.3), 0px 1px 3px 1px rgba(60, 64, 67, 0.15);\n",
              "      fill: #174EA6;\n",
              "    }\n",
              "\n",
              "    [theme=dark] .colab-df-convert {\n",
              "      background-color: #3B4455;\n",
              "      fill: #D2E3FC;\n",
              "    }\n",
              "\n",
              "    [theme=dark] .colab-df-convert:hover {\n",
              "      background-color: #434B5C;\n",
              "      box-shadow: 0px 1px 3px 1px rgba(0, 0, 0, 0.15);\n",
              "      filter: drop-shadow(0px 1px 2px rgba(0, 0, 0, 0.3));\n",
              "      fill: #FFFFFF;\n",
              "    }\n",
              "  </style>\n",
              "\n",
              "      <script>\n",
              "        const buttonEl =\n",
              "          document.querySelector('#df-d48260f1-a5ff-46e1-bb6b-1f72b3d494da button.colab-df-convert');\n",
              "        buttonEl.style.display =\n",
              "          google.colab.kernel.accessAllowed ? 'block' : 'none';\n",
              "\n",
              "        async function convertToInteractive(key) {\n",
              "          const element = document.querySelector('#df-d48260f1-a5ff-46e1-bb6b-1f72b3d494da');\n",
              "          const dataTable =\n",
              "            await google.colab.kernel.invokeFunction('convertToInteractive',\n",
              "                                                     [key], {});\n",
              "          if (!dataTable) return;\n",
              "\n",
              "          const docLinkHtml = 'Like what you see? Visit the ' +\n",
              "            '<a target=\"_blank\" href=https://colab.research.google.com/notebooks/data_table.ipynb>data table notebook</a>'\n",
              "            + ' to learn more about interactive tables.';\n",
              "          element.innerHTML = '';\n",
              "          dataTable['output_type'] = 'display_data';\n",
              "          await google.colab.output.renderOutput(dataTable, element);\n",
              "          const docLink = document.createElement('div');\n",
              "          docLink.innerHTML = docLinkHtml;\n",
              "          element.appendChild(docLink);\n",
              "        }\n",
              "      </script>\n",
              "    </div>\n",
              "  </div>\n",
              "  "
            ],
            "text/plain": [
              "                Times in Seed 1\n",
              "TeamName                       \n",
              "Connecticut                  18\n",
              "Tennessee                    12\n",
              "Notre Dame                    9\n",
              "Duke                          7\n",
              "Baylor                        6\n",
              "Stanford                      6\n",
              "South Carolina                5\n",
              "North Carolina                4\n",
              "Maryland                      3\n",
              "LSU                           3\n",
              "Louisiana Tech                2\n",
              "Louisville                    2\n",
              "Oklahoma                      2\n",
              "Mississippi St                2\n",
              "Michigan St                   1\n",
              "Texas Tech                    1\n",
              "Texas                         1\n",
              "Georgia                       1\n",
              "Old Dominion                  1\n",
              "Purdue                        1\n",
              "Penn St                       1\n",
              "Ohio St                       1\n",
              "Nebraska                      1\n",
              "NC State                      1\n",
              "Vanderbilt                    1"
            ]
          },
          "metadata": {},
          "execution_count": 18
        }
      ]
    },
    {
      "cell_type": "code",
      "source": [
        "top4= seeds_equips.loc[seeds_equips.TeamName.isin(['Connecticut', 'Tennessee', 'Notre Dame', 'Duke' ])]\n",
        "\n",
        "top4_equips=['Connecticut', 'Tennessee', 'Notre Dame', 'Duke' ]\n",
        "plt.figure(figsize=(10, 8))\n",
        "for equip in top4_equips:\n",
        "     selected_data = top4.loc[top4['TeamName'] == equip]\n",
        "     plt.plot(selected_data['Season'], selected_data['Seed'], label=equip)\n",
        "\n",
        "plt.ylabel('Seed')\n",
        "plt.xlabel('Season')\n",
        "\n",
        "plt.legend()\n",
        "plt.show()"
      ],
      "metadata": {
        "colab": {
          "base_uri": "https://localhost:8080/",
          "height": 497
        },
        "id": "eLDFZiFBl2Mw",
        "outputId": "7c0aace6-f1c8-4062-b440-53211f17ef8a"
      },
      "execution_count": 19,
      "outputs": [
        {
          "output_type": "display_data",
          "data": {
            "image/png": "[encoded data removed]",
            "text/plain": [
              "<Figure size 720x576 with 1 Axes>"
            ]
          },
          "metadata": {
            "needs_background": "light"
          }
        }
      ]
    },
    {
      "cell_type": "code",
      "source": [
        "top1= seeds_equips.loc[seeds_equips.TeamName.isin(['Connecticut'])]\n",
        "\n",
        "top4_equips=['Connecticut']\n",
        "plt.figure(figsize=(10, 8))\n",
        "for equip in top4_equips:\n",
        "     selected_data = top4.loc[top4['TeamName'] == equip]\n",
        "     plt.scatter(selected_data['Season'], selected_data['Seed'], label=equip)\n",
        "plt.ylabel('Seed')\n",
        "plt.xlabel('Season')    \n",
        "plt.legend()\n",
        "plt.show()\n"
      ],
      "metadata": {
        "colab": {
          "base_uri": "https://localhost:8080/",
          "height": 497
        },
        "id": "3EpqUJCrgtr1",
        "outputId": "745f4184-2fc8-4659-ecb0-8ed1ff5a836f"
      },
      "execution_count": 20,
      "outputs": [
        {
          "output_type": "display_data",
          "data": {
            "image/png": "[encoded data removed]",
            "text/plain": [
              "<Figure size 720x576 with 1 Axes>"
            ]
          },
          "metadata": {
            "needs_background": "light"
          }
        }
      ]
    }
  ]
}